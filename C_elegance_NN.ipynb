{
 "cells": [
  {
   "cell_type": "code",
   "execution_count": 13,
   "metadata": {},
   "outputs": [
    {
     "name": "stdout",
     "output_type": "stream",
     "text": [
      "train_seq shape: (1474,)\n",
      "test_seq shape: (726,)\n"
     ]
    }
   ],
   "source": [
    "import time\n",
    "import numpy as np\n",
    "import pandas as pd\n",
    "import shogun as sg\n",
    "from sklearn.model_selection import train_test_split\n",
    "\n",
    "def saveInfo(name, my_time, my_acc, my_F1, my_precision, my_recall, timeDict, accDict, F1Dict, precisionDict, recallDict):\n",
    "\ttimeDict[name] = my_time\n",
    "\taccDict[name] = my_acc\n",
    "\tF1Dict[name]= my_F1\n",
    "\tprecisionDict[name] = my_precision\n",
    "\trecallDict[name] = my_recall\n",
    "\t# print(\"---{}: {} seconds ---\".format (name, my_time))\n",
    "\t# print('{}, {} accuracy score: {}, F1-score: {}'.format(title, name, accuracy_score, my_F1))\n",
    "\n",
    "def evaluateAndSave(name, train_time, features_test, labels_test, labels_predict, timeDict, accDict, F1Dict, precisionDict, recallDict):\n",
    "\tacc = sg.AccuracyMeasure().evaluate(labels_predict, labels_test)\n",
    "\tf1 = sg.F1Measure().evaluate(labels_predict, labels_test)\n",
    "\tprec = sg.PrecisionMeasure().evaluate(labels_predict, labels_test)\n",
    "\trec = sg.RecallMeasure().evaluate(labels_predict, labels_test)\n",
    "\tprint('Accuracy:', acc)\n",
    "\tprint('F1:', f1)\n",
    "\tprint('Precision:', prec)\n",
    "\tprint('Recall:', rec)\n",
    "\tsaveInfo(name, train_time, acc, f1, prec, rec, timeDict, accDict, F1Dict, precisionDict, recallDict)\n",
    "\n",
    "df = pd.read_csv('./exercise_data/C_elegans_processed.csv', header=0)\n",
    "train_seq, test_seq, train_label, test_label = train_test_split(df['sequences'], df['labels'], test_size=0.33, random_state=42)\n",
    "\n",
    "train_label[train_label<0] = 0\n",
    "test_label[test_label<0] = 0\n",
    "\n",
    "print('train_seq shape:', train_seq.shape)\n",
    "print('test_seq shape:', test_seq.shape)"
   ]
  },
  {
   "cell_type": "code",
   "execution_count": 9,
   "metadata": {},
   "outputs": [
    {
     "data": {
      "text/plain": [
       "{0.0: 665, 1.0: 61}"
      ]
     },
     "execution_count": 9,
     "metadata": {},
     "output_type": "execute_result"
    }
   ],
   "source": [
    "unique, counts = np.unique(test_label, return_counts=True)\n",
    "dict(zip(unique, counts))"
   ]
  },
  {
   "cell_type": "code",
   "execution_count": 4,
   "metadata": {},
   "outputs": [],
   "source": [
    "from sklearn.feature_extraction.text import CountVectorizer\n",
    "\n",
    "vectorizer = CountVectorizer()\n",
    "vectorizer.fit(train_seq)\n",
    "train_seq = vectorizer.transform(train_seq)\n",
    "test_seq  = vectorizer.transform(test_seq)"
   ]
  },
  {
   "cell_type": "code",
   "execution_count": 5,
   "metadata": {},
   "outputs": [
    {
     "name": "stdout",
     "output_type": "stream",
     "text": [
      "Accuracy: 0.9160\n"
     ]
    }
   ],
   "source": [
    "from sklearn.linear_model import LogisticRegression\n",
    "from sklearn.metrics import roc_curve\n",
    "from sklearn.metrics import roc_auc_score\n",
    "\n",
    "classifier = LogisticRegression()\n",
    "classifier.fit(train_seq, train_label)\n",
    "score = classifier.score(test_seq, test_label)\n",
    "print('Accuracy: {:.4f}'.format(score))"
   ]
  },
  {
   "cell_type": "code",
   "execution_count": 6,
   "metadata": {},
   "outputs": [
    {
     "name": "stdout",
     "output_type": "stream",
     "text": [
      "Logistic: f1=0.000 auc=0.542\n"
     ]
    },
    {
     "data": {
      "image/png": "[encoded data removed]",
      "text/plain": [
       "<Figure size 432x288 with 1 Axes>"
      ]
     },
     "metadata": {
      "needs_background": "light"
     },
     "output_type": "display_data"
    }
   ],
   "source": [
    "from sklearn.metrics import precision_recall_curve\n",
    "from sklearn.metrics import f1_score\n",
    "from sklearn.metrics import auc\n",
    "from matplotlib import pyplot\n",
    "\n",
    "\n",
    "lr_probs = classifier.predict_proba(test_seq)\n",
    "# keep probabilities for the positive outcome only\n",
    "lr_probs = lr_probs[:, 1]\n",
    "# predict class values\n",
    "yhat = classifier.predict(test_seq)\n",
    "lr_precision, lr_recall, _ = precision_recall_curve(test_label, lr_probs)\n",
    "lr_f1, lr_auc = f1_score(test_label, yhat), auc(lr_recall, lr_precision)\n",
    "# summarize scores\n",
    "print('Logistic: f1=%.3f auc=%.3f' % (lr_f1, lr_auc))\n",
    "# plot the precision-recall curves\n",
    "pyplot.plot(lr_recall, lr_precision, marker='.', label='Logistic')\n",
    "# axis labels\n",
    "pyplot.xlabel('Recall')\n",
    "pyplot.ylabel('Precision')\n",
    "# show the legend\n",
    "pyplot.legend()\n",
    "# show the plot\n",
    "pyplot.show()"
   ]
  },
  {
   "cell_type": "code",
   "execution_count": 21,
   "metadata": {},
   "outputs": [
    {
     "data": {
      "text/plain": [
       "{'a': 1, 't': 2, 'g': 3, 'c': 4}"
      ]
     },
     "execution_count": 21,
     "metadata": {},
     "output_type": "execute_result"
    }
   ],
   "source": [
    "from keras.preprocessing.text import Tokenizer\n",
    "tk = Tokenizer(num_words=None, char_level=True)\n",
    "tk.fit_on_texts(train_seq)\n",
    "tk.word_index"
   ]
  },
  {
   "cell_type": "code",
   "execution_count": 15,
   "metadata": {},
   "outputs": [],
   "source": [
    "train_seq_tok = tk.texts_to_sequences(train_seq)\n",
    "test_seq_tok = tk.texts_to_sequences(test_seq)"
   ]
  },
  {
   "cell_type": "code",
   "execution_count": 22,
   "metadata": {},
   "outputs": [
    {
     "name": "stdout",
     "output_type": "stream",
     "text": [
      "ACTGGGATAATTTGAAACAATAAATTTTTTTTTGAATTGTAGGTGTCCTGCTTGCATCCAAAGGAGTCGATGATGTTGAGCA\n"
     ]
    }
   ],
   "source": [
    "print(train_seq[0])"
   ]
  },
  {
   "cell_type": "code",
   "execution_count": 23,
   "metadata": {},
   "outputs": [
    {
     "name": "stdout",
     "output_type": "stream",
     "text": [
      "[4, 2, 2, 3, 2, 3, 1, 1, 1, 1, 1, 1, 2, 1, 2, 2, 4, 1, 1, 2, 1, 1, 1, 3, 2, 1, 2, 2, 2, 2, 2, 4, 1, 3, 4, 4, 2, 3, 2, 3, 1, 3, 1, 1, 3, 1, 1, 4, 2, 3, 2, 1, 4, 4, 1, 1, 2, 1, 3, 1, 1, 4, 4, 4, 3, 2, 2, 3, 1, 3, 4, 4, 2, 2, 4, 3, 1, 4, 1, 1, 3, 2]\n"
     ]
    }
   ],
   "source": [
    "print(train_seq_tok[0])"
   ]
  },
  {
   "cell_type": "code",
   "execution_count": 25,
   "metadata": {},
   "outputs": [
    {
     "name": "stdout",
     "output_type": "stream",
     "text": [
      "[ 9.          9.57894737 10.15789474 10.73684211 11.31578947 11.89473684\n",
      " 12.47368421 13.05263158 13.63157895 14.21052632 14.78947368 15.36842105\n",
      " 15.94736842 16.52631579 17.10526316 17.68421053 18.26315789 18.84210526\n",
      " 19.42105263 20.        ]\n"
     ]
    }
   ],
   "source": [
    "val = np.linspace(9, 20, 20)\n",
    "print(val)"
   ]
  },
  {
   "cell_type": "code",
   "execution_count": null,
   "metadata": {},
   "outputs": [],
   "source": []
  }
 ],
 "metadata": {
  "kernelspec": {
   "display_name": "ml4hc_proj4",
   "language": "python",
   "name": "ml4hc_proj4"
  },
  "language_info": {
   "codemirror_mode": {
    "name": "ipython",
    "version": 3
   },
   "file_extension": ".py",
   "mimetype": "text/x-python",
   "name": "python",
   "nbconvert_exporter": "python",
   "pygments_lexer": "ipython3",
   "version": "3.6.10"
  }
 },
 "nbformat": 4,
 "nbformat_minor": 2
}
