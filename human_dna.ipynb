{
 "cells": [
  {
   "cell_type": "code",
   "execution_count": 2,
   "metadata": {
    "scrolled": true
   },
   "outputs": [
    {
     "name": "stdout",
     "output_type": "stream",
     "text": [
      "train_seq shape: (29420,)\n",
      "test_seq shape: (33333,)\n"
     ]
    }
   ],
   "source": [
    "import time\n",
    "import numpy as np\n",
    "import pandas as pd\n",
    "import shogun as sg\n",
    "\n",
    "def saveInfo(name, my_time, my_acc, my_F1, my_precision, my_recall, timeDict, accDict, F1Dict, precisionDict, recallDict):\n",
    "\ttimeDict[name] = my_time\n",
    "\taccDict[name] = my_acc\n",
    "\tF1Dict[name]= my_F1\n",
    "\tprecisionDict[name] = my_precision\n",
    "\trecallDict[name] = my_recall\n",
    "\t# print(\"---{}: {} seconds ---\".format (name, my_time))\n",
    "\t# print('{}, {} accuracy score: {}, F1-score: {}'.format(title, name, accuracy_score, my_F1))\n",
    "\n",
    "def evaluateAndSave(name, train_time, features_test, labels_test, labels_predict, timeDict, accDict, F1Dict, precisionDict, recallDict):\n",
    "\tacc = sg.AccuracyMeasure().evaluate(labels_predict, labels_test)\n",
    "\tf1 = sg.F1Measure().evaluate(labels_predict, labels_test)\n",
    "\tprec = sg.PrecisionMeasure().evaluate(labels_predict, labels_test)\n",
    "\trec = sg.RecallMeasure().evaluate(labels_predict, labels_test)\n",
    "\tprint('Accuracy:', acc)\n",
    "\tprint('F1:', f1)\n",
    "\tprint('Precision:', prec)\n",
    "\tprint('Recall:', rec)\n",
    "\tsaveInfo(name, train_time, acc, f1, prec, rec, timeDict, accDict, F1Dict, precisionDict, recallDict)\n",
    "\n",
    "\n",
    "train_data_source = './exercise_data/human_dna_train_split_5_95.csv'\n",
    "test_data_source = './exercise_data/human_dna_test_split.csv'\n",
    "\n",
    "train_df = pd.read_csv(train_data_source, header=0)\n",
    "test_df = pd.read_csv(test_data_source, header=0)\n",
    "\n",
    "train_seq = train_df['sequences']\n",
    "train_label = train_df['labels']\n",
    "test_seq = test_df['sequences']\n",
    "test_label = test_df['labels']\n",
    "\n",
    "train_seq = np.array(train_seq)\n",
    "train_label = np.array(train_label)\n",
    "test_seq = np.array(test_seq)\n",
    "test_label = np.array(test_label)\n",
    "\n",
    "print('train_seq shape:', train_seq.shape)\n",
    "print('test_seq shape:', test_seq.shape)\n",
    "\n",
    "timeDict = {}\n",
    "accDict = {}\n",
    "F1Dict = {}\n",
    "precisionDict = {}\n",
    "recallDict = {}\n",
    "\n",
    "features_train = sg.StringCharFeatures(train_seq.tolist(), sg.DNA)\n",
    "features_test = sg.StringCharFeatures(test_seq.tolist(), sg.DNA)\n",
    "labels_train = sg.BinaryLabels(train_label)\n",
    "labels_test = sg.BinaryLabels(test_label)\n",
    "\n",
    "# SVM\n",
    "C = 1.0\n",
    "epsilon = 0.001"
   ]
  },
  {
   "cell_type": "code",
   "execution_count": 17,
   "metadata": {},
   "outputs": [
    {
     "name": "stdout",
     "output_type": "stream",
     "text": [
      "Training with WeightedDegreeStringKernel...\n",
      "Accuracy: 0.996189961899619\n",
      "F1: 0.2111801242236025\n",
      "Precision: 0.2982456140350877\n",
      "Recall: 0.16346153846153846\n"
     ]
    }
   ],
   "source": [
    "svm = sg.LibSVM(C, sg.WeightedDegreeStringKernel(features_train, features_train, 5), labels_train)\n",
    "svm.set_epsilon(epsilon)\n",
    "start = time.time()\n",
    "svm.train()\n",
    "evaluateAndSave(\"WeightedDegreeStringKernel\", time.time()-start, \n",
    "\t\t\t\tfeatures_test, labels_test, svm.apply_binary(features_test),\n",
    "\t\t\t\ttimeDict, accDict, F1Dict, precisionDict, recallDict)"
   ]
  },
  {
   "cell_type": "code",
   "execution_count": 10,
   "metadata": {},
   "outputs": [
    {
     "name": "stdout",
     "output_type": "stream",
     "text": [
      "Accuracy: 0.996819968199682\n",
      "F1: 0.07017543859649122\n",
      "Precision: 0.4\n",
      "Recall: 0.038461538461538464\n"
     ]
    }
   ],
   "source": [
    "svm = sg.LibSVM(C, sg.WeightedDegreePositionStringKernel(features_train, features_train, 20), labels_train)\n",
    "svm.set_epsilon(epsilon)\n",
    "svm.set_batch_computation_enabled(True)\n",
    "start = time.time()\n",
    "svm.train()\n",
    "evaluateAndSave(\"WeightedDegreePositionStringKernel\", time.time()-start, \n",
    "\t\t\t\tfeatures_test, labels_test, svm.apply_binary(features_test),\n",
    "\t\t\t\ttimeDict, accDict, F1Dict, precisionDict, recallDict)"
   ]
  },
  {
   "cell_type": "code",
   "execution_count": 23,
   "metadata": {},
   "outputs": [
    {
     "name": "stdout",
     "output_type": "stream",
     "text": [
      "Accuracy: 0.996879968799688\n",
      "F1: 0.0\n",
      "Precision: nan\n",
      "Recall: 0.0\n"
     ]
    }
   ],
   "source": [
    "svm = sg.LibSVM(C, sg.PolyMatchStringKernel(features_train, features_train, 5, True), labels_train)\n",
    "svm.set_epsilon(epsilon)\n",
    "start = time.time()\n",
    "svm.train()\n",
    "evaluateAndSave(\"PolyMatchStringKernel\", time.time()-start, \n",
    "\t\t\t\tfeatures_test, labels_test, svm.apply_binary(features_test),\n",
    "\t\t\t\ttimeDict, accDict, F1Dict, precisionDict, recallDict)"
   ]
  },
  {
   "cell_type": "code",
   "execution_count": 24,
   "metadata": {},
   "outputs": [
    {
     "name": "stdout",
     "output_type": "stream",
     "text": [
      "Accuracy: 0.996879968799688\n",
      "F1: 0.0\n",
      "Precision: nan\n",
      "Recall: 0.0\n"
     ]
    }
   ],
   "source": [
    "svm = sg.LibSVM(C, sg.FixedDegreeStringKernel(features_train, features_train, 5), labels_train)\n",
    "svm.set_epsilon(epsilon)\n",
    "start = time.time()\n",
    "svm.train()\n",
    "evaluateAndSave(\"FixedDegreeStringKernel\", time.time()-start, \n",
    "\t\t\t\tfeatures_test, labels_test, svm.apply_binary(features_test),\n",
    "\t\t\t\ttimeDict, accDict, F1Dict, precisionDict, recallDict)"
   ]
  },
  {
   "cell_type": "code",
   "execution_count": 28,
   "metadata": {},
   "outputs": [
    {
     "name": "stdout",
     "output_type": "stream",
     "text": [
      "Accuracy: 0.975609756097561\n",
      "F1: 0.004895960832313341\n",
      "Precision: 0.002805049088359046\n",
      "Recall: 0.019230769230769232\n"
     ]
    }
   ],
   "source": [
    "svm = sg.LibSVM(C, sg.LinearStringKernel(features_train, features_train), labels_train)\n",
    "svm.set_epsilon(epsilon)\n",
    "start = time.time()\n",
    "svm.train()\n",
    "evaluateAndSave(\"LinearStringKernel\", time.time()-start, \n",
    "\t\t\t\tfeatures_test, labels_test, svm.apply_binary(features_test),\n",
    "\t\t\t\ttimeDict, accDict, F1Dict, precisionDict, recallDict)"
   ]
  },
  {
   "cell_type": "code",
   "execution_count": null,
   "metadata": {},
   "outputs": [],
   "source": [
    "svm = sg.LibSVM(C, sg.LocalAlignmentStringKernel(features_train, features_train), labels_train)\n",
    "svm.set_epsilon(epsilon)\n",
    "start = time.time()\n",
    "svm.train()\n",
    "evaluateAndSave(\"LocalAlignmentStringKernel\", time.time()-start, \n",
    "\t\t\t\tfeatures_test, labels_test, svm.apply_binary(features_test),\n",
    "\t\t\t\ttimeDict, accDict, F1Dict, precisionDict, recallDict)"
   ]
  },
  {
   "cell_type": "code",
   "execution_count": 11,
   "metadata": {},
   "outputs": [
    {
     "name": "stdout",
     "output_type": "stream",
     "text": [
      "Accuracy: 0.996879968799688\n",
      "F1: 0.0\n",
      "Precision: nan\n",
      "Recall: 0.0\n"
     ]
    }
   ],
   "source": [
    "svm = sg.LibSVM(C, sg.LocalityImprovedStringKernel(features_train, features_train, 10, 5, 5), labels_train)\n",
    "svm.set_epsilon(epsilon)\n",
    "start = time.time()\n",
    "svm.train()\n",
    "evaluateAndSave(\"LocalityImprovedStringKernel\", time.time()-start, \n",
    "\t\t\t\tfeatures_test, labels_test, svm.apply_binary(features_test),\n",
    "\t\t\t\ttimeDict, accDict, F1Dict, precisionDict, recallDict)"
   ]
  },
  {
   "cell_type": "code",
   "execution_count": null,
   "metadata": {},
   "outputs": [],
   "source": [
    "svm = sg.LibSVM(C, sg.GaussianMatchStringKernel(features_train, features_train, 5), labels_train)\n",
    "svm.set_epsilon(epsilon)\n",
    "start = time.time()\n",
    "svm.train()\n",
    "evaluateAndSave(\"GaussianMatchStringKernel\", time.time()-start, \n",
    "\t\t\t\tfeatures_test, labels_test, svm.apply_binary(features_test),\n",
    "\t\t\t\ttimeDict, accDict, F1Dict, precisionDict, recallDict)"
   ]
  },
  {
   "cell_type": "code",
   "execution_count": null,
   "metadata": {},
   "outputs": [],
   "source": [
    "svm = sg.LibSVM(C, sg.CommUlongStringKernel(features_train, features_train), labels_train)\n",
    "svm.set_epsilon(epsilon)\n",
    "start = time.time()\n",
    "svm.train()\n",
    "evaluateAndSave(\"CommUlongStringKernel\", time.time()-start, \n",
    "\t\t\t\tfeatures_test, labels_test, svm.apply_binary(features_test),\n",
    "\t\t\t\ttimeDict, accDict, F1Dict, precisionDict, recallDict)"
   ]
  },
  {
   "cell_type": "code",
   "execution_count": 4,
   "metadata": {},
   "outputs": [
    {
     "ename": "NotImplementedError",
     "evalue": "Wrong number or type of arguments for overloaded function 'new_CommWordStringKernel'.\n  Possible C/C++ prototypes are:\n    shogun::CCommWordStringKernel::CCommWordStringKernel()\n    shogun::CCommWordStringKernel::CCommWordStringKernel(int32_t,bool)\n    shogun::CCommWordStringKernel::CCommWordStringKernel(shogun::CStringFeatures< uint16_t > *,shogun::CStringFeatures< uint16_t > *,bool,int32_t)\n    shogun::CCommWordStringKernel::CCommWordStringKernel(shogun::CStringFeatures< uint16_t > *,shogun::CStringFeatures< uint16_t > *,bool)\n    shogun::CCommWordStringKernel::CCommWordStringKernel(shogun::CStringFeatures< uint16_t > *,shogun::CStringFeatures< uint16_t > *)\n",
     "output_type": "error",
     "traceback": [
      "\u001b[0;31m---------------------------------------------------------------------------\u001b[0m",
      "\u001b[0;31mNotImplementedError\u001b[0m                       Traceback (most recent call last)",
      "\u001b[0;32m<ipython-input-4-d27c443a76ae>\u001b[0m in \u001b[0;36m<module>\u001b[0;34m\u001b[0m\n\u001b[0;32m----> 1\u001b[0;31m \u001b[0msvm\u001b[0m \u001b[0;34m=\u001b[0m \u001b[0msg\u001b[0m\u001b[0;34m.\u001b[0m\u001b[0mLibSVM\u001b[0m\u001b[0;34m(\u001b[0m\u001b[0mC\u001b[0m\u001b[0;34m,\u001b[0m \u001b[0msg\u001b[0m\u001b[0;34m.\u001b[0m\u001b[0mCommWordStringKernel\u001b[0m\u001b[0;34m(\u001b[0m\u001b[0mfeatures_train\u001b[0m\u001b[0;34m,\u001b[0m \u001b[0mfeatures_train\u001b[0m\u001b[0;34m,\u001b[0m \u001b[0;32mFalse\u001b[0m\u001b[0;34m,\u001b[0m \u001b[0;36m10\u001b[0m\u001b[0;34m)\u001b[0m\u001b[0;34m,\u001b[0m \u001b[0mlabels_train\u001b[0m\u001b[0;34m)\u001b[0m\u001b[0;34m\u001b[0m\u001b[0;34m\u001b[0m\u001b[0m\n\u001b[0m\u001b[1;32m      2\u001b[0m \u001b[0msvm\u001b[0m\u001b[0;34m.\u001b[0m\u001b[0mset_epsilon\u001b[0m\u001b[0;34m(\u001b[0m\u001b[0mepsilon\u001b[0m\u001b[0;34m)\u001b[0m\u001b[0;34m\u001b[0m\u001b[0;34m\u001b[0m\u001b[0m\n\u001b[1;32m      3\u001b[0m \u001b[0mstart\u001b[0m \u001b[0;34m=\u001b[0m \u001b[0mtime\u001b[0m\u001b[0;34m.\u001b[0m\u001b[0mtime\u001b[0m\u001b[0;34m(\u001b[0m\u001b[0;34m)\u001b[0m\u001b[0;34m\u001b[0m\u001b[0;34m\u001b[0m\u001b[0m\n\u001b[1;32m      4\u001b[0m \u001b[0msvm\u001b[0m\u001b[0;34m.\u001b[0m\u001b[0mtrain\u001b[0m\u001b[0;34m(\u001b[0m\u001b[0;34m)\u001b[0m\u001b[0;34m\u001b[0m\u001b[0;34m\u001b[0m\u001b[0m\n\u001b[1;32m      5\u001b[0m evaluateAndSave(\"CommWordStringKernel\", time.time()-start, \n",
      "\u001b[0;31mNotImplementedError\u001b[0m: Wrong number or type of arguments for overloaded function 'new_CommWordStringKernel'.\n  Possible C/C++ prototypes are:\n    shogun::CCommWordStringKernel::CCommWordStringKernel()\n    shogun::CCommWordStringKernel::CCommWordStringKernel(int32_t,bool)\n    shogun::CCommWordStringKernel::CCommWordStringKernel(shogun::CStringFeatures< uint16_t > *,shogun::CStringFeatures< uint16_t > *,bool,int32_t)\n    shogun::CCommWordStringKernel::CCommWordStringKernel(shogun::CStringFeatures< uint16_t > *,shogun::CStringFeatures< uint16_t > *,bool)\n    shogun::CCommWordStringKernel::CCommWordStringKernel(shogun::CStringFeatures< uint16_t > *,shogun::CStringFeatures< uint16_t > *)\n"
     ]
    }
   ],
   "source": [
    "svm = sg.LibSVM(C, sg.CommWordStringKernel(features_train, features_train, False, 10), labels_train)\n",
    "svm.set_epsilon(epsilon)\n",
    "start = time.time()\n",
    "svm.train()\n",
    "evaluateAndSave(\"CommWordStringKernel\", time.time()-start, \n",
    "\t\t\t\tfeatures_test, labels_test, svm.apply_binary(features_test),\n",
    "\t\t\t\ttimeDict, accDict, F1Dict, precisionDict, recallDict)"
   ]
  },
  {
   "cell_type": "code",
   "execution_count": 9,
   "metadata": {},
   "outputs": [
    {
     "ename": "NotImplementedError",
     "evalue": "Wrong number or type of arguments for overloaded function 'new_MatchWordStringKernel'.\n  Possible C/C++ prototypes are:\n    shogun::CMatchWordStringKernel::CMatchWordStringKernel()\n    shogun::CMatchWordStringKernel::CMatchWordStringKernel(int32_t,int32_t)\n    shogun::CMatchWordStringKernel::CMatchWordStringKernel(shogun::CStringFeatures< uint16_t > *,shogun::CStringFeatures< uint16_t > *,int32_t)\n",
     "output_type": "error",
     "traceback": [
      "\u001b[0;31m---------------------------------------------------------------------------\u001b[0m",
      "\u001b[0;31mNotImplementedError\u001b[0m                       Traceback (most recent call last)",
      "\u001b[0;32m<ipython-input-9-a337b5d642eb>\u001b[0m in \u001b[0;36m<module>\u001b[0;34m\u001b[0m\n\u001b[0;32m----> 1\u001b[0;31m \u001b[0msvm\u001b[0m \u001b[0;34m=\u001b[0m \u001b[0msg\u001b[0m\u001b[0;34m.\u001b[0m\u001b[0mLibSVM\u001b[0m\u001b[0;34m(\u001b[0m\u001b[0mC\u001b[0m\u001b[0;34m,\u001b[0m \u001b[0msg\u001b[0m\u001b[0;34m.\u001b[0m\u001b[0mMatchWordStringKernel\u001b[0m\u001b[0;34m(\u001b[0m\u001b[0mfeatures_train\u001b[0m\u001b[0;34m,\u001b[0m \u001b[0mfeatures_train\u001b[0m\u001b[0;34m,\u001b[0m \u001b[0;36m5\u001b[0m\u001b[0;34m)\u001b[0m\u001b[0;34m,\u001b[0m \u001b[0mlabels_train\u001b[0m\u001b[0;34m)\u001b[0m\u001b[0;34m\u001b[0m\u001b[0;34m\u001b[0m\u001b[0m\n\u001b[0m\u001b[1;32m      2\u001b[0m \u001b[0msvm\u001b[0m\u001b[0;34m.\u001b[0m\u001b[0mset_epsilon\u001b[0m\u001b[0;34m(\u001b[0m\u001b[0mepsilon\u001b[0m\u001b[0;34m)\u001b[0m\u001b[0;34m\u001b[0m\u001b[0;34m\u001b[0m\u001b[0m\n\u001b[1;32m      3\u001b[0m \u001b[0mstart\u001b[0m \u001b[0;34m=\u001b[0m \u001b[0mtime\u001b[0m\u001b[0;34m.\u001b[0m\u001b[0mtime\u001b[0m\u001b[0;34m(\u001b[0m\u001b[0;34m)\u001b[0m\u001b[0;34m\u001b[0m\u001b[0;34m\u001b[0m\u001b[0m\n\u001b[1;32m      4\u001b[0m \u001b[0msvm\u001b[0m\u001b[0;34m.\u001b[0m\u001b[0mtrain\u001b[0m\u001b[0;34m(\u001b[0m\u001b[0;34m)\u001b[0m\u001b[0;34m\u001b[0m\u001b[0;34m\u001b[0m\u001b[0m\n\u001b[1;32m      5\u001b[0m evaluateAndSave(\"MatchWordStringKernel\", time.time()-start, \n",
      "\u001b[0;31mNotImplementedError\u001b[0m: Wrong number or type of arguments for overloaded function 'new_MatchWordStringKernel'.\n  Possible C/C++ prototypes are:\n    shogun::CMatchWordStringKernel::CMatchWordStringKernel()\n    shogun::CMatchWordStringKernel::CMatchWordStringKernel(int32_t,int32_t)\n    shogun::CMatchWordStringKernel::CMatchWordStringKernel(shogun::CStringFeatures< uint16_t > *,shogun::CStringFeatures< uint16_t > *,int32_t)\n"
     ]
    }
   ],
   "source": [
    "svm = sg.LibSVM(C, sg.MatchWordStringKernel(features_train, features_train, 5), labels_train)\n",
    "svm.set_epsilon(epsilon)\n",
    "start = time.time()\n",
    "svm.train()\n",
    "evaluateAndSave(\"MatchWordStringKernel\", time.time()-start, \n",
    "\t\t\t\tfeatures_test, labels_test, svm.apply_binary(features_test),\n",
    "\t\t\t\ttimeDict, accDict, F1Dict, precisionDict, recallDict)"
   ]
  },
  {
   "cell_type": "code",
   "execution_count": 8,
   "metadata": {},
   "outputs": [
    {
     "name": "stdout",
     "output_type": "stream",
     "text": [
      "Accuracy: 0.996879968799688\n",
      "F1: 0.0\n",
      "Precision: nan\n",
      "Recall: 0.0\n"
     ]
    }
   ],
   "source": [
    "svm = sg.LibSVM(C, sg.SimpleLocalityImprovedStringKernel(features_train, features_train, 10, 5, 5), labels_train)\n",
    "svm.set_epsilon(epsilon)\n",
    "start = time.time()\n",
    "svm.train()\n",
    "evaluateAndSave(\"SimpleLocalityImprovedStringKernel\", time.time()-start, \n",
    "\t\t\t\tfeatures_test, labels_test, svm.apply_binary(features_test),\n",
    "\t\t\t\ttimeDict, accDict, F1Dict, precisionDict, recallDict)"
   ]
  },
  {
   "cell_type": "code",
   "execution_count": 7,
   "metadata": {},
   "outputs": [
    {
     "ename": "SystemError",
     "evalue": "\u001b[1;31m[ERROR]\u001b[0m In file /feedstock_root/build_artefacts/shogun-cpp_1512688880429/work/shogun-shogun_6.1.3/src/shogun/kernel/string/SNPStringKernel.cpp line 133: alen (398) !=m_str_len (0)\n",
     "output_type": "error",
     "traceback": [
      "\u001b[0;31m---------------------------------------------------------------------------\u001b[0m",
      "\u001b[0;31mSystemError\u001b[0m                               Traceback (most recent call last)",
      "\u001b[0;32m<ipython-input-7-30d69f594830>\u001b[0m in \u001b[0;36m<module>\u001b[0;34m\u001b[0m\n\u001b[0;32m----> 1\u001b[0;31m \u001b[0msvm\u001b[0m \u001b[0;34m=\u001b[0m \u001b[0msg\u001b[0m\u001b[0;34m.\u001b[0m\u001b[0mLibSVM\u001b[0m\u001b[0;34m(\u001b[0m\u001b[0mC\u001b[0m\u001b[0;34m,\u001b[0m \u001b[0msg\u001b[0m\u001b[0;34m.\u001b[0m\u001b[0mSNPStringKernel\u001b[0m\u001b[0;34m(\u001b[0m\u001b[0mfeatures_train\u001b[0m\u001b[0;34m,\u001b[0m \u001b[0mfeatures_train\u001b[0m\u001b[0;34m,\u001b[0m \u001b[0;36m5\u001b[0m\u001b[0;34m,\u001b[0m \u001b[0;36m10\u001b[0m\u001b[0;34m,\u001b[0m \u001b[0;32mTrue\u001b[0m\u001b[0;34m)\u001b[0m\u001b[0;34m,\u001b[0m \u001b[0mlabels_train\u001b[0m\u001b[0;34m)\u001b[0m\u001b[0;34m\u001b[0m\u001b[0;34m\u001b[0m\u001b[0m\n\u001b[0m\u001b[1;32m      2\u001b[0m \u001b[0msvm\u001b[0m\u001b[0;34m.\u001b[0m\u001b[0mset_epsilon\u001b[0m\u001b[0;34m(\u001b[0m\u001b[0mepsilon\u001b[0m\u001b[0;34m)\u001b[0m\u001b[0;34m\u001b[0m\u001b[0;34m\u001b[0m\u001b[0m\n\u001b[1;32m      3\u001b[0m \u001b[0mstart\u001b[0m \u001b[0;34m=\u001b[0m \u001b[0mtime\u001b[0m\u001b[0;34m.\u001b[0m\u001b[0mtime\u001b[0m\u001b[0;34m(\u001b[0m\u001b[0;34m)\u001b[0m\u001b[0;34m\u001b[0m\u001b[0;34m\u001b[0m\u001b[0m\n\u001b[1;32m      4\u001b[0m \u001b[0msvm\u001b[0m\u001b[0;34m.\u001b[0m\u001b[0mtrain\u001b[0m\u001b[0;34m(\u001b[0m\u001b[0;34m)\u001b[0m\u001b[0;34m\u001b[0m\u001b[0;34m\u001b[0m\u001b[0m\n\u001b[1;32m      5\u001b[0m evaluateAndSave(\"SNPStringKernel\", time.time()-start, \n",
      "\u001b[0;31mSystemError\u001b[0m: \u001b[1;31m[ERROR]\u001b[0m In file /feedstock_root/build_artefacts/shogun-cpp_1512688880429/work/shogun-shogun_6.1.3/src/shogun/kernel/string/SNPStringKernel.cpp line 133: alen (398) !=m_str_len (0)\n"
     ]
    }
   ],
   "source": [
    "svm = sg.LibSVM(C, sg.SNPStringKernel(features_train, features_train, 5, 10, True), labels_train)\n",
    "svm.set_epsilon(epsilon)\n",
    "start = time.time()\n",
    "svm.train()\n",
    "evaluateAndSave(\"SNPStringKernel\", time.time()-start, \n",
    "\t\t\t\tfeatures_test, labels_test, svm.apply_binary(features_test),\n",
    "\t\t\t\ttimeDict, accDict, F1Dict, precisionDict, recallDict)"
   ]
  },
  {
   "cell_type": "code",
   "execution_count": 6,
   "metadata": {},
   "outputs": [
    {
     "ename": "NotImplementedError",
     "evalue": "Wrong number or type of arguments for overloaded function 'new_WeightedCommWordStringKernel'.\n  Possible C/C++ prototypes are:\n    shogun::CWeightedCommWordStringKernel::CWeightedCommWordStringKernel()\n    shogun::CWeightedCommWordStringKernel::CWeightedCommWordStringKernel(int32_t,bool)\n    shogun::CWeightedCommWordStringKernel::CWeightedCommWordStringKernel(shogun::CStringFeatures< uint16_t > *,shogun::CStringFeatures< uint16_t > *,bool,int32_t)\n    shogun::CWeightedCommWordStringKernel::CWeightedCommWordStringKernel(shogun::CStringFeatures< uint16_t > *,shogun::CStringFeatures< uint16_t > *,bool)\n    shogun::CWeightedCommWordStringKernel::CWeightedCommWordStringKernel(shogun::CStringFeatures< uint16_t > *,shogun::CStringFeatures< uint16_t > *)\n",
     "output_type": "error",
     "traceback": [
      "\u001b[0;31m---------------------------------------------------------------------------\u001b[0m",
      "\u001b[0;31mNotImplementedError\u001b[0m                       Traceback (most recent call last)",
      "\u001b[0;32m<ipython-input-6-b43b813bd6e7>\u001b[0m in \u001b[0;36m<module>\u001b[0;34m\u001b[0m\n\u001b[0;32m----> 1\u001b[0;31m \u001b[0msvm\u001b[0m \u001b[0;34m=\u001b[0m \u001b[0msg\u001b[0m\u001b[0;34m.\u001b[0m\u001b[0mLibSVM\u001b[0m\u001b[0;34m(\u001b[0m\u001b[0mC\u001b[0m\u001b[0;34m,\u001b[0m \u001b[0msg\u001b[0m\u001b[0;34m.\u001b[0m\u001b[0mWeightedCommWordStringKernel\u001b[0m\u001b[0;34m(\u001b[0m\u001b[0mfeatures_train\u001b[0m\u001b[0;34m,\u001b[0m \u001b[0mfeatures_train\u001b[0m\u001b[0;34m)\u001b[0m\u001b[0;34m,\u001b[0m \u001b[0mlabels_train\u001b[0m\u001b[0;34m)\u001b[0m\u001b[0;34m\u001b[0m\u001b[0;34m\u001b[0m\u001b[0m\n\u001b[0m\u001b[1;32m      2\u001b[0m \u001b[0msvm\u001b[0m\u001b[0;34m.\u001b[0m\u001b[0mset_epsilon\u001b[0m\u001b[0;34m(\u001b[0m\u001b[0mepsilon\u001b[0m\u001b[0;34m)\u001b[0m\u001b[0;34m\u001b[0m\u001b[0;34m\u001b[0m\u001b[0m\n\u001b[1;32m      3\u001b[0m \u001b[0mstart\u001b[0m \u001b[0;34m=\u001b[0m \u001b[0mtime\u001b[0m\u001b[0;34m.\u001b[0m\u001b[0mtime\u001b[0m\u001b[0;34m(\u001b[0m\u001b[0;34m)\u001b[0m\u001b[0;34m\u001b[0m\u001b[0;34m\u001b[0m\u001b[0m\n\u001b[1;32m      4\u001b[0m \u001b[0msvm\u001b[0m\u001b[0;34m.\u001b[0m\u001b[0mtrain\u001b[0m\u001b[0;34m(\u001b[0m\u001b[0;34m)\u001b[0m\u001b[0;34m\u001b[0m\u001b[0;34m\u001b[0m\u001b[0m\n\u001b[1;32m      5\u001b[0m evaluateAndSave(\"WeightedCommWordStringKernel\", time.time()-start, \n",
      "\u001b[0;31mNotImplementedError\u001b[0m: Wrong number or type of arguments for overloaded function 'new_WeightedCommWordStringKernel'.\n  Possible C/C++ prototypes are:\n    shogun::CWeightedCommWordStringKernel::CWeightedCommWordStringKernel()\n    shogun::CWeightedCommWordStringKernel::CWeightedCommWordStringKernel(int32_t,bool)\n    shogun::CWeightedCommWordStringKernel::CWeightedCommWordStringKernel(shogun::CStringFeatures< uint16_t > *,shogun::CStringFeatures< uint16_t > *,bool,int32_t)\n    shogun::CWeightedCommWordStringKernel::CWeightedCommWordStringKernel(shogun::CStringFeatures< uint16_t > *,shogun::CStringFeatures< uint16_t > *,bool)\n    shogun::CWeightedCommWordStringKernel::CWeightedCommWordStringKernel(shogun::CStringFeatures< uint16_t > *,shogun::CStringFeatures< uint16_t > *)\n"
     ]
    }
   ],
   "source": [
    "svm = sg.LibSVM(C, sg.WeightedCommWordStringKernel(features_train, features_train), labels_train)\n",
    "svm.set_epsilon(epsilon)\n",
    "start = time.time()\n",
    "svm.train()\n",
    "evaluateAndSave(\"WeightedCommWordStringKernel\", time.time()-start, \n",
    "\t\t\t\tfeatures_test, labels_test, svm.apply_binary(features_test),\n",
    "\t\t\t\ttimeDict, accDict, F1Dict, precisionDict, recallDict)"
   ]
  },
  {
   "cell_type": "code",
   "execution_count": 5,
   "metadata": {},
   "outputs": [
    {
     "ename": "SystemError",
     "evalue": "\u001b[1;31m[ERROR]\u001b[0m In file /feedstock_root/build_artefacts/shogun-cpp_1512688880429/work/shogun-shogun_6.1.3/src/shogun/kernel/string/SparseSpatialSampleStringKernel.cpp line 377: t out of range - shouldn't happen\n",
     "output_type": "error",
     "traceback": [
      "\u001b[0;31m---------------------------------------------------------------------------\u001b[0m",
      "\u001b[0;31mSystemError\u001b[0m                               Traceback (most recent call last)",
      "\u001b[0;32m<ipython-input-5-905c9cb962f2>\u001b[0m in \u001b[0;36m<module>\u001b[0;34m\u001b[0m\n\u001b[1;32m      2\u001b[0m \u001b[0msvm\u001b[0m\u001b[0;34m.\u001b[0m\u001b[0mset_epsilon\u001b[0m\u001b[0;34m(\u001b[0m\u001b[0mepsilon\u001b[0m\u001b[0;34m)\u001b[0m\u001b[0;34m\u001b[0m\u001b[0;34m\u001b[0m\u001b[0m\n\u001b[1;32m      3\u001b[0m \u001b[0mstart\u001b[0m \u001b[0;34m=\u001b[0m \u001b[0mtime\u001b[0m\u001b[0;34m.\u001b[0m\u001b[0mtime\u001b[0m\u001b[0;34m(\u001b[0m\u001b[0;34m)\u001b[0m\u001b[0;34m\u001b[0m\u001b[0;34m\u001b[0m\u001b[0m\n\u001b[0;32m----> 4\u001b[0;31m \u001b[0msvm\u001b[0m\u001b[0;34m.\u001b[0m\u001b[0mtrain\u001b[0m\u001b[0;34m(\u001b[0m\u001b[0;34m)\u001b[0m\u001b[0;34m\u001b[0m\u001b[0;34m\u001b[0m\u001b[0m\n\u001b[0m\u001b[1;32m      5\u001b[0m evaluateAndSave(\"SparseSpatialSampleStringKernel\", time.time()-start, \n\u001b[1;32m      6\u001b[0m                                 \u001b[0mfeatures_test\u001b[0m\u001b[0;34m,\u001b[0m \u001b[0mlabels_test\u001b[0m\u001b[0;34m,\u001b[0m \u001b[0msvm\u001b[0m\u001b[0;34m.\u001b[0m\u001b[0mapply_binary\u001b[0m\u001b[0;34m(\u001b[0m\u001b[0mfeatures_test\u001b[0m\u001b[0;34m)\u001b[0m\u001b[0;34m,\u001b[0m\u001b[0;34m\u001b[0m\u001b[0;34m\u001b[0m\u001b[0m\n",
      "\u001b[0;31mSystemError\u001b[0m: \u001b[1;31m[ERROR]\u001b[0m In file /feedstock_root/build_artefacts/shogun-cpp_1512688880429/work/shogun-shogun_6.1.3/src/shogun/kernel/string/SparseSpatialSampleStringKernel.cpp line 377: t out of range - shouldn't happen\n"
     ]
    }
   ],
   "source": [
    "svm = sg.LibSVM(C, sg.SparseSpatialSampleStringKernel(features_train, features_train), labels_train)\n",
    "svm.set_epsilon(epsilon)\n",
    "start = time.time()\n",
    "svm.train()\n",
    "evaluateAndSave(\"SparseSpatialSampleStringKernel\", time.time()-start, \n",
    "\t\t\t\tfeatures_test, labels_test, svm.apply_binary(features_test),\n",
    "\t\t\t\ttimeDict, accDict, F1Dict, precisionDict, recallDict)"
   ]
  },
  {
   "cell_type": "code",
   "execution_count": null,
   "metadata": {},
   "outputs": [],
   "source": [
    "svm = sg.LibSVM(C, sg.OligoStringKernel(features_train, features_train, 10, 8), labels_train)\n",
    "svm.set_epsilon(epsilon)\n",
    "start = time.time()\n",
    "svm.train()\n",
    "evaluateAndSave(\"OligoStringKernel\", time.time()-start, \n",
    "\t\t\t\tfeatures_test, labels_test, svm.apply_binary(features_test),\n",
    "\t\t\t\ttimeDict, accDict, F1Dict, precisionDict, recallDict)"
   ]
  },
  {
   "cell_type": "code",
   "execution_count": 8,
   "metadata": {},
   "outputs": [
    {
     "data": {
      "text/plain": [
       "{'WeightedDegreePositionStringKernel': 70.11102628707886}"
      ]
     },
     "execution_count": 8,
     "metadata": {},
     "output_type": "execute_result"
    }
   ],
   "source": [
    "timeDict"
   ]
  },
  {
   "cell_type": "code",
   "execution_count": 22,
   "metadata": {},
   "outputs": [],
   "source": [
    "labels_predict.scores_to_probabilities()\n",
    "labels_values = labels_predict.get_values()"
   ]
  },
  {
   "cell_type": "code",
   "execution_count": 23,
   "metadata": {},
   "outputs": [
    {
     "name": "stdout",
     "output_type": "stream",
     "text": [
      "..... PR Curve ......\n"
     ]
    },
    {
     "data": {
      "image/png": "[encoded data removed]",
      "text/plain": [
       "<Figure size 432x288 with 1 Axes>"
      ]
     },
     "metadata": {
      "needs_background": "light"
     },
     "output_type": "display_data"
    }
   ],
   "source": [
    "from sklearn.metrics import precision_recall_curve, average_precision_score\n",
    "import matplotlib.pyplot as plt\n",
    "\n",
    "print(\"..... PR Curve ......\")\n",
    "precision, recall, _ = precision_recall_curve(test_label, labels_values)\n",
    "\n",
    "plt.step(recall, precision, color='b', alpha=0.2, where='post')\n",
    "plt.fill_between(recall, precision, step='post', alpha=0.2, color='b')\n",
    "plt.xlabel('Recall')\n",
    "plt.ylabel('Precision')\n",
    "plt.ylim([0.0, 1.05])\n",
    "plt.xlim([0.0, 1.0])\n",
    "plt.title('2-class Precision-Recall curve')\n",
    "plt.show()"
   ]
  }
 ],
 "metadata": {
  "kernelspec": {
   "display_name": "ml4hc_proj4",
   "language": "python",
   "name": "ml4hc_proj4"
  },
  "language_info": {
   "codemirror_mode": {
    "name": "ipython",
    "version": 3
   },
   "file_extension": ".py",
   "mimetype": "text/x-python",
   "name": "python",
   "nbconvert_exporter": "python",
   "pygments_lexer": "ipython3",
   "version": "3.6.10"
  }
 },
 "nbformat": 4,
 "nbformat_minor": 2
}
