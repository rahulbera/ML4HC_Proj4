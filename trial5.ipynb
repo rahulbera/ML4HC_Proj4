{
 "cells": [
  {
   "cell_type": "code",
   "execution_count": 1,
   "metadata": {},
   "outputs": [
    {
     "name": "stderr",
     "output_type": "stream",
     "text": [
      "Using TensorFlow backend.\n"
     ]
    },
    {
     "name": "stdout",
     "output_type": "stream",
     "text": [
      "train_seq shape: (29420,)\n",
      "test_seq shape: (33333,)\n"
     ]
    }
   ],
   "source": [
    "from keras.preprocessing import sequence, text\n",
    "from keras.models import Sequential\n",
    "from keras.layers import Dense, Embedding\n",
    "from keras.layers import LSTM\n",
    "import pandas as pd\n",
    "import numpy as np\n",
    "\n",
    "#train_data_source = './exercise_data/human_dna_train_small.csv'\n",
    "train_data_source = './exercise_data/human_dna_train_split_5_95.csv'\n",
    "val_data_source = './exercise_data/human_dna_validation_split.csv'\n",
    "test_data_source = './exercise_data/human_dna_test_split.csv'\n",
    "\n",
    "train_df = pd.read_csv(train_data_source, header=0)\n",
    "test_df = pd.read_csv(test_data_source, header=0)\n",
    "\n",
    "train_seq = train_df['sequences']\n",
    "train_label = train_df['labels']\n",
    "test_seq = test_df['sequences']\n",
    "test_label = test_df['labels']\n",
    "\n",
    "# Preprocess\n",
    "tk = text.Tokenizer(char_level=True)\n",
    "tk.fit_on_texts(train_seq)\n",
    "\n",
    "train_seq_tok = tk.texts_to_sequences(train_seq)\n",
    "test_seq_tok = tk.texts_to_sequences(test_seq)\n",
    "\n",
    "train_seq = np.array(train_seq)\n",
    "train_seq_tok = np.array(train_seq_tok)\n",
    "train_label = np.array(train_label)\n",
    "test_seq = np.array(test_seq)\n",
    "test_seq_tok = np.array(test_seq_tok)\n",
    "test_label = np.array(test_label)\n",
    "\n",
    "print('train_seq shape:', train_seq.shape)\n",
    "print('test_seq shape:', test_seq.shape)"
   ]
  },
  {
   "cell_type": "code",
   "execution_count": 2,
   "metadata": {},
   "outputs": [],
   "source": [
    "train_label[train_label<0]=0\n",
    "test_label[test_label<0]=0"
   ]
  },
  {
   "cell_type": "code",
   "execution_count": 3,
   "metadata": {},
   "outputs": [
    {
     "data": {
      "text/plain": [
       "array([1, 1, 1, ..., 0, 0, 0])"
      ]
     },
     "execution_count": 3,
     "metadata": {},
     "output_type": "execute_result"
    }
   ],
   "source": [
    "train_label"
   ]
  },
  {
   "cell_type": "code",
   "execution_count": 4,
   "metadata": {},
   "outputs": [],
   "source": [
    "train_seq_tok = train_seq_tok - np.ones(shape=train_seq_tok.shape)\n",
    "test_seq_tok = test_seq_tok - np.ones(shape=test_seq_tok.shape)"
   ]
  },
  {
   "cell_type": "code",
   "execution_count": 5,
   "metadata": {
    "scrolled": true
   },
   "outputs": [
    {
     "data": {
      "text/plain": [
       "array([[0., 3., 1., ..., 1., 0., 1.],\n",
       "       [0., 2., 2., ..., 0., 0., 0.],\n",
       "       [1., 2., 2., ..., 1., 2., 0.],\n",
       "       ...,\n",
       "       [2., 0., 0., ..., 1., 1., 2.],\n",
       "       [1., 3., 1., ..., 2., 1., 1.],\n",
       "       [2., 0., 0., ..., 1., 1., 1.]])"
      ]
     },
     "execution_count": 5,
     "metadata": {},
     "output_type": "execute_result"
    }
   ],
   "source": [
    "train_seq_tok"
   ]
  },
  {
   "cell_type": "code",
   "execution_count": 6,
   "metadata": {},
   "outputs": [],
   "source": [
    "train_seq_tok_split = np.hsplit(train_seq_tok, 2)"
   ]
  },
  {
   "cell_type": "code",
   "execution_count": 7,
   "metadata": {},
   "outputs": [
    {
     "data": {
      "text/plain": [
       "(29420, 398)"
      ]
     },
     "execution_count": 7,
     "metadata": {},
     "output_type": "execute_result"
    }
   ],
   "source": [
    "train_seq_tok.shape"
   ]
  },
  {
   "cell_type": "code",
   "execution_count": 8,
   "metadata": {},
   "outputs": [
    {
     "data": {
      "text/plain": [
       "(29420, 199)"
      ]
     },
     "execution_count": 8,
     "metadata": {},
     "output_type": "execute_result"
    }
   ],
   "source": [
    "train_seq_tok_split[0].shape"
   ]
  },
  {
   "cell_type": "code",
   "execution_count": 9,
   "metadata": {},
   "outputs": [
    {
     "data": {
      "text/plain": [
       "array([0., 3., 1., 1., 2., 1., 2., 2., 0., 0., 1., 1., 2., 3., 1., 1., 3.,\n",
       "       0., 0., 2., 0., 2., 2., 1., 0., 2., 2., 0., 3., 1., 0., 2., 2., 1.,\n",
       "       3., 2., 1., 0., 1., 2., 2., 2., 1., 1., 3., 0., 1., 0., 0., 2., 3.,\n",
       "       1., 1., 1., 0., 0., 3., 0., 0., 2., 1., 2., 3., 1., 0., 2., 2., 0.,\n",
       "       2., 0., 0., 2., 1., 3., 1., 2., 2., 2., 1., 1., 2., 1., 1., 1., 1.,\n",
       "       3., 1., 2., 0., 1., 0., 0., 3., 3., 1., 2., 1., 0., 3., 1., 2., 0.,\n",
       "       0., 1., 2., 0., 2., 0., 2., 2., 3., 1., 2., 0., 1., 1., 1., 1., 3.,\n",
       "       1., 3., 1., 0., 2., 1., 2., 2., 2., 2., 0., 2., 1., 3., 0., 2., 1.,\n",
       "       1., 2., 2., 2., 1., 1., 2., 3., 1., 2., 3., 1., 1., 1., 1., 1., 3.,\n",
       "       0., 2., 2., 3., 1., 2., 1., 1., 1., 1., 1., 1., 3., 1., 1., 2., 3.,\n",
       "       1., 2., 3., 0., 3., 0., 0., 0., 3., 0., 3., 0., 2., 0., 0., 0., 0.,\n",
       "       0., 0., 0., 0., 0., 2., 3., 3., 1., 1., 1., 2., 2., 1., 0., 1., 3.,\n",
       "       3., 0., 3., 3., 3., 0., 3., 1., 1., 3., 1., 1., 0., 2., 2., 2., 3.,\n",
       "       1., 0., 0., 3., 3., 0., 1., 2., 2., 2., 1., 2., 3., 1., 0., 3., 1.,\n",
       "       0., 0., 1., 1., 3., 1., 1., 2., 1., 0., 0., 3., 3., 1., 2., 3., 0.,\n",
       "       3., 0., 1., 3., 0., 3., 3., 0., 0., 3., 3., 0., 2., 3., 0., 2., 1.,\n",
       "       2., 2., 0., 0., 0., 2., 0., 3., 2., 3., 0., 0., 1., 1., 2., 1., 1.,\n",
       "       0., 3., 0., 2., 2., 1., 2., 1., 3., 1., 2., 2., 0., 1., 2., 2., 2.,\n",
       "       0., 2., 3., 1., 2., 0., 2., 2., 3., 0., 0., 1., 3., 1., 3., 3., 0.,\n",
       "       2., 0., 1., 1., 0., 3., 3., 0., 1., 2., 3., 1., 3., 0., 0., 0., 2.,\n",
       "       2., 2., 1., 2., 2., 3., 3., 1., 1., 2., 2., 3., 2., 0., 2., 0., 1.,\n",
       "       2., 1., 0., 3., 1., 3., 3., 0., 2., 1., 2., 2., 0., 3., 1., 2., 2.,\n",
       "       1., 2., 0., 0., 3., 1., 1., 3., 1., 3., 3., 1., 2., 3., 3., 0., 2.,\n",
       "       1., 3., 3., 1., 1., 0., 1.])"
      ]
     },
     "execution_count": 9,
     "metadata": {},
     "output_type": "execute_result"
    }
   ],
   "source": [
    "train_seq_tok[0]"
   ]
  },
  {
   "cell_type": "code",
   "execution_count": 10,
   "metadata": {},
   "outputs": [],
   "source": [
    "test_seq_tok_split = np.hsplit(test_seq_tok, 2)"
   ]
  },
  {
   "cell_type": "code",
   "execution_count": 11,
   "metadata": {},
   "outputs": [
    {
     "data": {
      "text/plain": [
       "array([0., 3., 1., 1., 2., 1., 2., 2., 0., 0., 1., 1., 2., 3., 1., 1., 3.,\n",
       "       0., 0., 2., 0., 2., 2., 1., 0., 2., 2., 0., 3., 1., 0., 2., 2., 1.,\n",
       "       3., 2., 1., 0., 1., 2., 2., 2., 1., 1., 3., 0., 1., 0., 0., 2., 3.,\n",
       "       1., 1., 1., 0., 0., 3., 0., 0., 2., 1., 2., 3., 1., 0., 2., 2., 0.,\n",
       "       2., 0., 0., 2., 1., 3., 1., 2., 2., 2., 1., 1., 2., 1., 1., 1., 1.,\n",
       "       3., 1., 2., 0., 1., 0., 0., 3., 3., 1., 2., 1., 0., 3., 1., 2., 0.,\n",
       "       0., 1., 2., 0., 2., 0., 2., 2., 3., 1., 2., 0., 1., 1., 1., 1., 3.,\n",
       "       1., 3., 1., 0., 2., 1., 2., 2., 2., 2., 0., 2., 1., 3., 0., 2., 1.,\n",
       "       1., 2., 2., 2., 1., 1., 2., 3., 1., 2., 3., 1., 1., 1., 1., 1., 3.,\n",
       "       0., 2., 2., 3., 1., 2., 1., 1., 1., 1., 1., 1., 3., 1., 1., 2., 3.,\n",
       "       1., 2., 3., 0., 3., 0., 0., 0., 3., 0., 3., 0., 2., 0., 0., 0., 0.,\n",
       "       0., 0., 0., 0., 0., 2., 3., 3., 1., 1., 1., 2.])"
      ]
     },
     "execution_count": 11,
     "metadata": {},
     "output_type": "execute_result"
    }
   ],
   "source": [
    "train_seq_tok_split[0][0]"
   ]
  },
  {
   "cell_type": "code",
   "execution_count": 12,
   "metadata": {},
   "outputs": [
    {
     "name": "stdout",
     "output_type": "stream",
     "text": [
      "Train...\n",
      "Train on 29420 samples, validate on 33333 samples\n",
      "Epoch 1/100\n",
      "29420/29420 [==============================] - 7s 221us/step - loss: 0.1701 - acc: 0.9490 - val_loss: 0.2090 - val_acc: 0.9969\n",
      "Epoch 2/100\n",
      "29420/29420 [==============================] - 6s 205us/step - loss: 0.1584 - acc: 0.9500 - val_loss: 0.0812 - val_acc: 0.9969\n",
      "Epoch 3/100\n",
      "29420/29420 [==============================] - 6s 210us/step - loss: 0.1528 - acc: 0.9500 - val_loss: 0.0819 - val_acc: 0.9969\n",
      "Epoch 4/100\n",
      "29420/29420 [==============================] - 6s 208us/step - loss: 0.1485 - acc: 0.9500 - val_loss: 0.0824 - val_acc: 0.9969\n",
      "Epoch 5/100\n",
      "29420/29420 [==============================] - 6s 210us/step - loss: 0.1446 - acc: 0.9499 - val_loss: 0.0883 - val_acc: 0.9969\n",
      "Epoch 6/100\n",
      "29420/29420 [==============================] - 6s 207us/step - loss: 0.1409 - acc: 0.9500 - val_loss: 0.1795 - val_acc: 0.9965\n",
      "Epoch 7/100\n",
      "29420/29420 [==============================] - 6s 208us/step - loss: 0.1377 - acc: 0.9491 - val_loss: 0.0969 - val_acc: 0.9967\n",
      "Epoch 8/100\n",
      "29420/29420 [==============================] - 6s 203us/step - loss: 0.1302 - acc: 0.9486 - val_loss: 0.1132 - val_acc: 0.9930\n",
      "Epoch 9/100\n",
      "29420/29420 [==============================] - 6s 207us/step - loss: 0.1267 - acc: 0.9480 - val_loss: 0.0802 - val_acc: 0.9928\n",
      "Epoch 10/100\n",
      "29420/29420 [==============================] - 6s 206us/step - loss: 0.1208 - acc: 0.9484 - val_loss: 0.0805 - val_acc: 0.9905\n",
      "Epoch 11/100\n",
      "29420/29420 [==============================] - 6s 204us/step - loss: 0.1153 - acc: 0.9491 - val_loss: 0.0964 - val_acc: 0.9820\n",
      "Epoch 12/100\n",
      "29420/29420 [==============================] - 6s 204us/step - loss: 0.1098 - acc: 0.9507 - val_loss: 0.1113 - val_acc: 0.9741\n",
      "Epoch 13/100\n",
      "29420/29420 [==============================] - 6s 208us/step - loss: 0.1028 - acc: 0.9525 - val_loss: 0.0853 - val_acc: 0.9845\n",
      "Epoch 14/100\n",
      "29420/29420 [==============================] - 6s 207us/step - loss: 0.0963 - acc: 0.9543 - val_loss: 0.0702 - val_acc: 0.9941\n",
      "Epoch 15/100\n",
      "29420/29420 [==============================] - 6s 205us/step - loss: 0.0904 - acc: 0.9551 - val_loss: 0.0535 - val_acc: 0.9903\n",
      "Epoch 16/100\n",
      "29420/29420 [==============================] - 6s 208us/step - loss: 0.0865 - acc: 0.9577 - val_loss: 0.0700 - val_acc: 0.9811\n",
      "Epoch 17/100\n",
      "29420/29420 [==============================] - 6s 205us/step - loss: 0.0803 - acc: 0.9599 - val_loss: 0.0774 - val_acc: 0.9849\n",
      "Epoch 18/100\n",
      "29420/29420 [==============================] - 6s 212us/step - loss: 0.0768 - acc: 0.9623 - val_loss: 0.0773 - val_acc: 0.9785\n",
      "Epoch 19/100\n",
      "29420/29420 [==============================] - 6s 204us/step - loss: 0.0709 - acc: 0.9634 - val_loss: 0.0680 - val_acc: 0.9849\n",
      "Epoch 20/100\n",
      "29420/29420 [==============================] - 6s 212us/step - loss: 0.0681 - acc: 0.9641 - val_loss: 0.0579 - val_acc: 0.9882\n",
      "Epoch 21/100\n",
      "29420/29420 [==============================] - 6s 202us/step - loss: 0.0654 - acc: 0.9652 - val_loss: 0.1193 - val_acc: 0.9599\n",
      "Epoch 22/100\n",
      "29420/29420 [==============================] - 6s 205us/step - loss: 0.0618 - acc: 0.9666 - val_loss: 0.0526 - val_acc: 0.9893\n",
      "Epoch 23/100\n",
      "29420/29420 [==============================] - 6s 206us/step - loss: 0.0600 - acc: 0.9672 - val_loss: 0.0368 - val_acc: 0.9938\n",
      "Epoch 24/100\n",
      "29420/29420 [==============================] - 6s 202us/step - loss: 0.0549 - acc: 0.9714 - val_loss: 0.1047 - val_acc: 0.9643\n",
      "Epoch 25/100\n",
      "29420/29420 [==============================] - 6s 197us/step - loss: 0.0531 - acc: 0.9698 - val_loss: 0.0760 - val_acc: 0.9783\n",
      "Epoch 26/100\n",
      "29420/29420 [==============================] - 6s 195us/step - loss: 0.0512 - acc: 0.9717 - val_loss: 0.1184 - val_acc: 0.9605\n",
      "Epoch 27/100\n",
      "29420/29420 [==============================] - 6s 205us/step - loss: 0.0492 - acc: 0.9729 - val_loss: 0.0423 - val_acc: 0.9907\n",
      "Epoch 28/100\n",
      "29420/29420 [==============================] - 6s 205us/step - loss: 0.0451 - acc: 0.9743 - val_loss: 0.0851 - val_acc: 0.9726\n",
      "Epoch 29/100\n",
      "29420/29420 [==============================] - 6s 203us/step - loss: 0.0459 - acc: 0.9739 - val_loss: 0.0650 - val_acc: 0.9824\n",
      "Epoch 30/100\n",
      "29420/29420 [==============================] - 6s 205us/step - loss: 0.0436 - acc: 0.9753 - val_loss: 0.0666 - val_acc: 0.9788\n",
      "Epoch 31/100\n",
      "29420/29420 [==============================] - 6s 204us/step - loss: 0.0414 - acc: 0.9768 - val_loss: 0.0813 - val_acc: 0.9779\n",
      "Epoch 32/100\n",
      "29420/29420 [==============================] - 6s 198us/step - loss: 0.0401 - acc: 0.9781 - val_loss: 0.0684 - val_acc: 0.9778\n",
      "Epoch 33/100\n",
      "29420/29420 [==============================] - 6s 208us/step - loss: 0.0422 - acc: 0.9776 - val_loss: 0.0711 - val_acc: 0.9771\n",
      "Epoch 34/100\n",
      "29420/29420 [==============================] - 6s 210us/step - loss: 0.0398 - acc: 0.9778 - val_loss: 0.0468 - val_acc: 0.9900\n",
      "Epoch 35/100\n",
      "29420/29420 [==============================] - 6s 203us/step - loss: 0.0377 - acc: 0.9791 - val_loss: 0.0532 - val_acc: 0.9867\n",
      "Epoch 36/100\n",
      "29420/29420 [==============================] - 6s 206us/step - loss: 0.0362 - acc: 0.9797 - val_loss: 0.0547 - val_acc: 0.9833\n",
      "Epoch 37/100\n",
      "29420/29420 [==============================] - 6s 206us/step - loss: 0.0368 - acc: 0.9804 - val_loss: 0.0768 - val_acc: 0.9697\n",
      "Epoch 38/100\n",
      "29420/29420 [==============================] - 6s 204us/step - loss: 0.0342 - acc: 0.9808 - val_loss: 0.0539 - val_acc: 0.9856\n",
      "Epoch 39/100\n",
      "29420/29420 [==============================] - 6s 206us/step - loss: 0.0346 - acc: 0.9813 - val_loss: 0.0832 - val_acc: 0.9755\n",
      "Epoch 40/100\n",
      "29420/29420 [==============================] - 6s 206us/step - loss: 0.0327 - acc: 0.9820 - val_loss: 0.0503 - val_acc: 0.9877\n",
      "Epoch 41/100\n",
      "29420/29420 [==============================] - 6s 204us/step - loss: 0.0326 - acc: 0.9831 - val_loss: 0.0606 - val_acc: 0.9867\n",
      "Epoch 42/100\n",
      "29420/29420 [==============================] - 6s 210us/step - loss: 0.0333 - acc: 0.9821 - val_loss: 0.0527 - val_acc: 0.9883\n",
      "Epoch 43/100\n",
      "29420/29420 [==============================] - 6s 205us/step - loss: 0.0318 - acc: 0.9831 - val_loss: 0.0718 - val_acc: 0.9787\n",
      "Epoch 44/100\n",
      "29420/29420 [==============================] - 6s 208us/step - loss: 0.0295 - acc: 0.9838 - val_loss: 0.0619 - val_acc: 0.9817\n",
      "Epoch 45/100\n",
      "29420/29420 [==============================] - 6s 207us/step - loss: 0.0314 - acc: 0.9836 - val_loss: 0.0556 - val_acc: 0.9863\n",
      "Epoch 46/100\n",
      "29420/29420 [==============================] - 6s 206us/step - loss: 0.0289 - acc: 0.9841 - val_loss: 0.0665 - val_acc: 0.9812\n",
      "Epoch 47/100\n",
      "29420/29420 [==============================] - 6s 200us/step - loss: 0.0295 - acc: 0.9843 - val_loss: 0.0443 - val_acc: 0.9910\n",
      "Epoch 48/100\n",
      "29420/29420 [==============================] - 6s 201us/step - loss: 0.0271 - acc: 0.9859 - val_loss: 0.0569 - val_acc: 0.9846\n",
      "Epoch 49/100\n",
      "29420/29420 [==============================] - 6s 202us/step - loss: 0.0261 - acc: 0.9857 - val_loss: 0.0631 - val_acc: 0.9782\n",
      "Epoch 50/100\n",
      "29420/29420 [==============================] - 6s 204us/step - loss: 0.0267 - acc: 0.9851 - val_loss: 0.0619 - val_acc: 0.9830\n",
      "Epoch 51/100\n",
      "29420/29420 [==============================] - 6s 202us/step - loss: 0.0255 - acc: 0.9858 - val_loss: 0.0763 - val_acc: 0.9770\n",
      "Epoch 52/100\n",
      "29420/29420 [==============================] - 6s 198us/step - loss: 0.0267 - acc: 0.9844 - val_loss: 0.0615 - val_acc: 0.9810\n",
      "Epoch 53/100\n",
      "29420/29420 [==============================] - 6s 201us/step - loss: 0.0267 - acc: 0.9861 - val_loss: 0.0570 - val_acc: 0.9872\n",
      "Epoch 54/100\n",
      "29420/29420 [==============================] - 6s 199us/step - loss: 0.0243 - acc: 0.9874 - val_loss: 0.0715 - val_acc: 0.9785\n",
      "Epoch 55/100\n",
      "29420/29420 [==============================] - 6s 201us/step - loss: 0.0252 - acc: 0.9868 - val_loss: 0.0831 - val_acc: 0.9743\n",
      "Epoch 56/100\n",
      "29420/29420 [==============================] - 6s 206us/step - loss: 0.0241 - acc: 0.9864 - val_loss: 0.0537 - val_acc: 0.9848\n",
      "Epoch 57/100\n",
      "29420/29420 [==============================] - 6s 201us/step - loss: 0.0225 - acc: 0.9873 - val_loss: 0.0761 - val_acc: 0.9797\n",
      "Epoch 58/100\n",
      "29420/29420 [==============================] - 6s 204us/step - loss: 0.0236 - acc: 0.9871 - val_loss: 0.0661 - val_acc: 0.9825\n",
      "Epoch 59/100\n"
     ]
    },
    {
     "name": "stdout",
     "output_type": "stream",
     "text": [
      "29420/29420 [==============================] - 6s 206us/step - loss: 0.0238 - acc: 0.9868 - val_loss: 0.0788 - val_acc: 0.9774\n",
      "Epoch 60/100\n",
      "29420/29420 [==============================] - 6s 205us/step - loss: 0.0217 - acc: 0.9888 - val_loss: 0.0592 - val_acc: 0.9846\n",
      "Epoch 61/100\n",
      "29420/29420 [==============================] - 6s 202us/step - loss: 0.0216 - acc: 0.9878 - val_loss: 0.0953 - val_acc: 0.9739\n",
      "Epoch 62/100\n",
      "29420/29420 [==============================] - 6s 201us/step - loss: 0.0249 - acc: 0.9870 - val_loss: 0.0564 - val_acc: 0.9849\n",
      "Epoch 63/100\n",
      "29420/29420 [==============================] - 6s 201us/step - loss: 0.0216 - acc: 0.9878 - val_loss: 0.0619 - val_acc: 0.9851\n",
      "Epoch 64/100\n",
      "29420/29420 [==============================] - 6s 202us/step - loss: 0.0229 - acc: 0.9874 - val_loss: 0.0550 - val_acc: 0.9859\n",
      "Epoch 65/100\n",
      "29420/29420 [==============================] - 6s 198us/step - loss: 0.0237 - acc: 0.9869 - val_loss: 0.0562 - val_acc: 0.9838\n",
      "Epoch 66/100\n",
      "29420/29420 [==============================] - 6s 204us/step - loss: 0.0186 - acc: 0.9899 - val_loss: 0.0587 - val_acc: 0.9852\n",
      "Epoch 67/100\n",
      "29420/29420 [==============================] - 6s 208us/step - loss: 0.0209 - acc: 0.9893 - val_loss: 0.0520 - val_acc: 0.9878\n",
      "Epoch 68/100\n",
      "29420/29420 [==============================] - 6s 206us/step - loss: 0.0197 - acc: 0.9893 - val_loss: 0.0528 - val_acc: 0.9863\n",
      "Epoch 69/100\n",
      "29420/29420 [==============================] - 6s 199us/step - loss: 0.0196 - acc: 0.9888 - val_loss: 0.0617 - val_acc: 0.9863\n",
      "Epoch 70/100\n",
      "29420/29420 [==============================] - 6s 202us/step - loss: 0.0208 - acc: 0.9892 - val_loss: 0.0472 - val_acc: 0.9890\n",
      "Epoch 71/100\n",
      "29420/29420 [==============================] - 6s 202us/step - loss: 0.0195 - acc: 0.9893 - val_loss: 0.0654 - val_acc: 0.9863\n",
      "Epoch 72/100\n",
      "29420/29420 [==============================] - 6s 203us/step - loss: 0.0189 - acc: 0.9898 - val_loss: 0.0646 - val_acc: 0.9862\n",
      "Epoch 73/100\n",
      "29420/29420 [==============================] - 6s 202us/step - loss: 0.0197 - acc: 0.9893 - val_loss: 0.0835 - val_acc: 0.9757\n",
      "Epoch 74/100\n",
      "29420/29420 [==============================] - 6s 201us/step - loss: 0.0188 - acc: 0.9898 - val_loss: 0.0690 - val_acc: 0.9824\n",
      "Epoch 75/100\n",
      "29420/29420 [==============================] - 6s 205us/step - loss: 0.0180 - acc: 0.9901 - val_loss: 0.0864 - val_acc: 0.9771\n",
      "Epoch 76/100\n",
      "29420/29420 [==============================] - 6s 202us/step - loss: 0.0199 - acc: 0.9890 - val_loss: 0.0540 - val_acc: 0.9874\n",
      "Epoch 77/100\n",
      "29420/29420 [==============================] - 6s 194us/step - loss: 0.0168 - acc: 0.9913 - val_loss: 0.0784 - val_acc: 0.9787\n",
      "Epoch 78/100\n",
      "29420/29420 [==============================] - 6s 199us/step - loss: 0.0216 - acc: 0.9886 - val_loss: 0.0661 - val_acc: 0.9833\n",
      "Epoch 79/100\n",
      "29420/29420 [==============================] - 6s 205us/step - loss: 0.0170 - acc: 0.9913 - val_loss: 0.0556 - val_acc: 0.9864\n",
      "Epoch 80/100\n",
      "29420/29420 [==============================] - 6s 199us/step - loss: 0.0191 - acc: 0.9900 - val_loss: 0.0593 - val_acc: 0.9865\n",
      "Epoch 81/100\n",
      "29420/29420 [==============================] - 6s 198us/step - loss: 0.0193 - acc: 0.9907 - val_loss: 0.0550 - val_acc: 0.9859\n",
      "Epoch 82/100\n",
      "29420/29420 [==============================] - 6s 198us/step - loss: 0.0154 - acc: 0.9913 - val_loss: 0.0609 - val_acc: 0.9885\n",
      "Epoch 83/100\n",
      "29420/29420 [==============================] - 6s 201us/step - loss: 0.0195 - acc: 0.9900 - val_loss: 0.0490 - val_acc: 0.9900\n",
      "Epoch 84/100\n",
      "29420/29420 [==============================] - 6s 201us/step - loss: 0.0164 - acc: 0.9916 - val_loss: 0.0668 - val_acc: 0.9839\n",
      "Epoch 85/100\n",
      "29420/29420 [==============================] - 6s 200us/step - loss: 0.0174 - acc: 0.9901 - val_loss: 0.0614 - val_acc: 0.9845\n",
      "Epoch 86/100\n",
      "29420/29420 [==============================] - 6s 204us/step - loss: 0.0179 - acc: 0.9910 - val_loss: 0.0601 - val_acc: 0.9912\n",
      "Epoch 87/100\n",
      "29420/29420 [==============================] - 6s 202us/step - loss: 0.0177 - acc: 0.9904 - val_loss: 0.0511 - val_acc: 0.9900\n",
      "Epoch 88/100\n",
      "29420/29420 [==============================] - 6s 201us/step - loss: 0.0160 - acc: 0.9920 - val_loss: 0.0421 - val_acc: 0.9928\n",
      "Epoch 89/100\n",
      "29420/29420 [==============================] - 6s 204us/step - loss: 0.0161 - acc: 0.9917 - val_loss: 0.0763 - val_acc: 0.9808\n",
      "Epoch 90/100\n",
      "29420/29420 [==============================] - 6s 201us/step - loss: 0.0155 - acc: 0.9918 - val_loss: 0.0636 - val_acc: 0.9876\n",
      "Epoch 91/100\n",
      "29420/29420 [==============================] - 6s 203us/step - loss: 0.0155 - acc: 0.9921 - val_loss: 0.0681 - val_acc: 0.9824\n",
      "Epoch 92/100\n",
      "29420/29420 [==============================] - 6s 202us/step - loss: 0.0159 - acc: 0.9916 - val_loss: 0.0797 - val_acc: 0.9832\n",
      "Epoch 93/100\n",
      "29420/29420 [==============================] - 6s 201us/step - loss: 0.0155 - acc: 0.9918 - val_loss: 0.0628 - val_acc: 0.9842\n",
      "Epoch 94/100\n",
      "29420/29420 [==============================] - 6s 198us/step - loss: 0.0145 - acc: 0.9923 - val_loss: 0.0524 - val_acc: 0.9903\n",
      "Epoch 95/100\n",
      "29420/29420 [==============================] - 6s 203us/step - loss: 0.0145 - acc: 0.9932 - val_loss: 0.0550 - val_acc: 0.9868\n",
      "Epoch 96/100\n",
      "29420/29420 [==============================] - 6s 203us/step - loss: 0.0149 - acc: 0.9924 - val_loss: 0.0773 - val_acc: 0.9777\n",
      "Epoch 97/100\n",
      "29420/29420 [==============================] - 6s 200us/step - loss: 0.0146 - acc: 0.9926 - val_loss: 0.0599 - val_acc: 0.9818\n",
      "Epoch 98/100\n",
      "29420/29420 [==============================] - 6s 200us/step - loss: 0.0149 - acc: 0.9920 - val_loss: 0.0587 - val_acc: 0.9851\n",
      "Epoch 99/100\n",
      "29420/29420 [==============================] - 6s 204us/step - loss: 0.0177 - acc: 0.9908 - val_loss: 0.0557 - val_acc: 0.9849\n",
      "Epoch 100/100\n",
      "29420/29420 [==============================] - 6s 204us/step - loss: 0.0170 - acc: 0.9900 - val_loss: 0.0640 - val_acc: 0.9833\n",
      "33333/33333 [==============================] - 1s 33us/step\n",
      "Test score: 0.06396882766065366\n",
      "Test accuracy: 0.9832898378372192\n"
     ]
    }
   ],
   "source": [
    "from keras.layers import Dropout, concatenate, Input\n",
    "import keras as K\n",
    "\n",
    "# def recall_m(y_true, y_pred):\n",
    "#     true_positives = K.sum(K.round(K.clip(y_true * y_pred, 0, 1)))\n",
    "#     possible_positives = K.sum(K.round(K.clip(y_true, 0, 1)))\n",
    "#     recall = true_positives / (possible_positives + K.epsilon())\n",
    "#     return recall\n",
    "\n",
    "# def precision_m(y_true, y_pred):\n",
    "#     true_positives = K.sum(K.round(K.clip(y_true * y_pred, 0, 1)))\n",
    "#     predicted_positives = K.sum(K.round(K.clip(y_pred, 0, 1)))\n",
    "#     precision = true_positives / (predicted_positives + K.epsilon())\n",
    "#     return precision\n",
    "\n",
    "# def f1_m(y_true, y_pred):\n",
    "#     precision = precision_m(y_true, y_pred)\n",
    "#     recall = recall_m(y_true, y_pred)\n",
    "#     return 2*((precision*recall)/(precision+recall+K.epsilon()))\n",
    "\n",
    "# max_features = 20000\n",
    "batch_size = 32\n",
    "epochs = 100\n",
    "learning_rate = 0.001\n",
    "\n",
    "\n",
    "# First Half\n",
    "first_half = Input(shape=(199,))\n",
    "x = Dense(150, activation='relu')(first_half)\n",
    "x = Dropout(0.2)(x)\n",
    "x = Dense(100, activation='relu')(x)\n",
    "x = Dropout(0.2)(x)\n",
    "x = Dense(75, activation='relu')(x)\n",
    "x = Dropout(0.2)(x)\n",
    "x = Dense(50, activation='relu')(x)\n",
    "out_first = Dropout(0.2)(x)\n",
    "\n",
    "second_half = Input(shape=(199,))\n",
    "x = Dense(100, activation='relu')(second_half)\n",
    "x = Dropout(0.2)(x)\n",
    "x = Dense(50, activation='relu')(x)\n",
    "x = Dropout(0.2)(x)\n",
    "x = Dense(25, activation='relu')(x)\n",
    "# x = Dropout(0.2)(x)\n",
    "# x = Dense(50, activation='relu', input_shape=(75,))(x)\n",
    "out_second = Dropout(0.2)(x)\n",
    "\n",
    "concatenated = concatenate([out_first, out_second])\n",
    "x = Dense(75, activation='relu')(concatenated)\n",
    "# model.add(Dropout(0.2))\n",
    "x = Dense(50, activation='relu')(x)\n",
    "# model.add(Dropout(0.2))\n",
    "x = Dense(20, activation='relu')(x)\n",
    "# model.add(Dropout(0.2))\n",
    "out_final = Dense(1, activation='sigmoid')(x)\n",
    "\n",
    "model = K.Model([first_half, second_half], out_final)\n",
    "\n",
    "# try using different optimizers and different optimizer configs\n",
    "opt = K.optimizers.Adam(learning_rate=learning_rate)\n",
    "model.compile(loss='binary_crossentropy', optimizer=opt, metrics=['acc'])\n",
    "\n",
    "# model.add(Dense(150, activation='relu', input_shape=(198,)))\n",
    "# model.add(Dropout(0.2))\n",
    "# model.add(Dense(100, activation='relu'))\n",
    "# model.add(Dropout(0.2))\n",
    "# model.add(Dense(75, activation='relu'))\n",
    "# model.add(Dropout(0.2))\n",
    "# out_a = model.add(Dense(50, activation='relu'))\n",
    "\n",
    "# # Second Half\n",
    "# model.add(Dense(150, activation='relu', input_shape=(198,)))\n",
    "# model.add(Dropout(0.2))\n",
    "# model.add(Dense(100, activation='relu'))\n",
    "# model.add(Dropout(0.2))\n",
    "# model.add(Dense(75, activation='relu'))\n",
    "# model.add(Dropout(0.2))\n",
    "# out_b = model.add(Dense(50, activation='relu'))\n",
    "\n",
    "# # Concatenate\n",
    "# concatenated = concatenate([out_a, out_b])\n",
    "# model.add(Dense(100, activation='relu')(concatenated))\n",
    "# # model.add(Dropout(0.2))\n",
    "# model.add(Dense(50, activation='relu'))\n",
    "# # model.add(Dropout(0.2))\n",
    "# model.add(Dense(20, activation='relu'))\n",
    "# # model.add(Dropout(0.2))\n",
    "# model.add(Dense(1, activation='sigmoid'))\n",
    "\n",
    "# # try using different optimizers and different optimizer configs\n",
    "# opt = K.optimizers.Adam(learning_rate=learning_rate)\n",
    "# model.compile(loss='binary_crossentropy', optimizer=opt, metrics=['acc'])\n",
    "\n",
    "print('Train...')\n",
    "model.fit(train_seq_tok_split, train_label, batch_size=batch_size, epochs=epochs, validation_data=(test_seq_tok_split, test_label), class_weight={0: 0.5, 1: 0.95})\n",
    "score, acc = model.evaluate(test_seq_tok_split, test_label, batch_size=batch_size)\n",
    "print('Test score:', score)\n",
    "print('Test accuracy:', acc)"
   ]
  },
  {
   "cell_type": "code",
   "execution_count": null,
   "metadata": {},
   "outputs": [],
   "source": []
  }
 ],
 "metadata": {
  "kernelspec": {
   "display_name": "ml4hc_proj4",
   "language": "python",
   "name": "ml4hc_proj4"
  },
  "language_info": {
   "codemirror_mode": {
    "name": "ipython",
    "version": 3
   },
   "file_extension": ".py",
   "mimetype": "text/x-python",
   "name": "python",
   "nbconvert_exporter": "python",
   "pygments_lexer": "ipython3",
   "version": "3.6.10"
  }
 },
 "nbformat": 4,
 "nbformat_minor": 2
}
