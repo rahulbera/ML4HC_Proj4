{
 "cells": [
  {
   "cell_type": "code",
   "execution_count": 5,
   "metadata": {},
   "outputs": [
    {
     "name": "stderr",
     "output_type": "stream",
     "text": [
      "Using TensorFlow backend.\n"
     ]
    },
    {
     "name": "stdout",
     "output_type": "stream",
     "text": [
      "train_seq shape: (29420,)\n",
      "test_seq shape: (33333,)\n"
     ]
    }
   ],
   "source": [
    "from keras.preprocessing import sequence, text\n",
    "from keras.models import Sequential\n",
    "from keras.layers import Dense, Embedding\n",
    "from keras.layers import LSTM\n",
    "import pandas as pd\n",
    "import numpy as np\n",
    "\n",
    "#train_data_source = './exercise_data/human_dna_train_small.csv'\n",
    "train_data_source = './exercise_data/human_dna_train_split_5_95.csv'\n",
    "val_data_source = './exercise_data/human_dna_validation_split.csv'\n",
    "test_data_source = './exercise_data/human_dna_test_split.csv'\n",
    "\n",
    "train_df = pd.read_csv(train_data_source, header=0)\n",
    "test_df = pd.read_csv(test_data_source, header=0)\n",
    "\n",
    "train_seq = train_df['sequences']\n",
    "train_label = train_df['labels']\n",
    "test_seq = test_df['sequences']\n",
    "test_label = test_df['labels']\n",
    "\n",
    "# Preprocess\n",
    "tk = text.Tokenizer(char_level=True)\n",
    "tk.fit_on_texts(train_seq)\n",
    "\n",
    "train_seq_tok = tk.texts_to_sequences(train_seq)\n",
    "test_seq_tok = tk.texts_to_sequences(test_seq)\n",
    "\n",
    "train_seq = np.array(train_seq)\n",
    "train_seq_tok = np.array(train_seq_tok)\n",
    "train_label = np.array(train_label)\n",
    "test_seq = np.array(test_seq)\n",
    "test_seq_tok = np.array(test_seq_tok)\n",
    "test_label = np.array(test_label)\n",
    "\n",
    "print('train_seq shape:', train_seq.shape)\n",
    "print('test_seq shape:', test_seq.shape)"
   ]
  },
  {
   "cell_type": "code",
   "execution_count": 6,
   "metadata": {},
   "outputs": [],
   "source": [
    "train_label[train_label<0]=0\n",
    "test_label[test_label<0]=0"
   ]
  },
  {
   "cell_type": "code",
   "execution_count": 7,
   "metadata": {},
   "outputs": [
    {
     "data": {
      "text/plain": [
       "array([1, 1, 1, ..., 0, 0, 0])"
      ]
     },
     "execution_count": 7,
     "metadata": {},
     "output_type": "execute_result"
    }
   ],
   "source": [
    "train_label"
   ]
  },
  {
   "cell_type": "code",
   "execution_count": 8,
   "metadata": {},
   "outputs": [],
   "source": [
    "train_seq_tok = train_seq_tok - np.ones(shape=train_seq_tok.shape)\n",
    "test_seq_tok = test_seq_tok - np.ones(shape=test_seq_tok.shape)"
   ]
  },
  {
   "cell_type": "code",
   "execution_count": 11,
   "metadata": {
    "scrolled": true
   },
   "outputs": [
    {
     "data": {
      "text/plain": [
       "array([[0., 3., 1., ..., 1., 0., 1.],\n",
       "       [0., 2., 2., ..., 0., 0., 0.],\n",
       "       [1., 2., 2., ..., 1., 2., 0.],\n",
       "       ...,\n",
       "       [2., 0., 0., ..., 1., 1., 2.],\n",
       "       [1., 3., 1., ..., 2., 1., 1.],\n",
       "       [2., 0., 0., ..., 1., 1., 1.]])"
      ]
     },
     "execution_count": 11,
     "metadata": {},
     "output_type": "execute_result"
    }
   ],
   "source": [
    "train_seq_tok"
   ]
  },
  {
   "cell_type": "code",
   "execution_count": 13,
   "metadata": {},
   "outputs": [],
   "source": [
    "train_seq_tok_split = np.hsplit(train_seq_tok, 2)"
   ]
  },
  {
   "cell_type": "code",
   "execution_count": 15,
   "metadata": {},
   "outputs": [
    {
     "data": {
      "text/plain": [
       "(29420, 398)"
      ]
     },
     "execution_count": 15,
     "metadata": {},
     "output_type": "execute_result"
    }
   ],
   "source": [
    "train_seq_tok.shape"
   ]
  },
  {
   "cell_type": "code",
   "execution_count": 19,
   "metadata": {},
   "outputs": [
    {
     "data": {
      "text/plain": [
       "(29420, 199)"
      ]
     },
     "execution_count": 19,
     "metadata": {},
     "output_type": "execute_result"
    }
   ],
   "source": [
    "train_seq_tok_split[0].shape"
   ]
  },
  {
   "cell_type": "code",
   "execution_count": 20,
   "metadata": {},
   "outputs": [
    {
     "data": {
      "text/plain": [
       "array([0., 3., 1., 1., 2., 1., 2., 2., 0., 0., 1., 1., 2., 3., 1., 1., 3.,\n",
       "       0., 0., 2., 0., 2., 2., 1., 0., 2., 2., 0., 3., 1., 0., 2., 2., 1.,\n",
       "       3., 2., 1., 0., 1., 2., 2., 2., 1., 1., 3., 0., 1., 0., 0., 2., 3.,\n",
       "       1., 1., 1., 0., 0., 3., 0., 0., 2., 1., 2., 3., 1., 0., 2., 2., 0.,\n",
       "       2., 0., 0., 2., 1., 3., 1., 2., 2., 2., 1., 1., 2., 1., 1., 1., 1.,\n",
       "       3., 1., 2., 0., 1., 0., 0., 3., 3., 1., 2., 1., 0., 3., 1., 2., 0.,\n",
       "       0., 1., 2., 0., 2., 0., 2., 2., 3., 1., 2., 0., 1., 1., 1., 1., 3.,\n",
       "       1., 3., 1., 0., 2., 1., 2., 2., 2., 2., 0., 2., 1., 3., 0., 2., 1.,\n",
       "       1., 2., 2., 2., 1., 1., 2., 3., 1., 2., 3., 1., 1., 1., 1., 1., 3.,\n",
       "       0., 2., 2., 3., 1., 2., 1., 1., 1., 1., 1., 1., 3., 1., 1., 2., 3.,\n",
       "       1., 2., 3., 0., 3., 0., 0., 0., 3., 0., 3., 0., 2., 0., 0., 0., 0.,\n",
       "       0., 0., 0., 0., 0., 2., 3., 3., 1., 1., 1., 2., 2., 1., 0., 1., 3.,\n",
       "       3., 0., 3., 3., 3., 0., 3., 1., 1., 3., 1., 1., 0., 2., 2., 2., 3.,\n",
       "       1., 0., 0., 3., 3., 0., 1., 2., 2., 2., 1., 2., 3., 1., 0., 3., 1.,\n",
       "       0., 0., 1., 1., 3., 1., 1., 2., 1., 0., 0., 3., 3., 1., 2., 3., 0.,\n",
       "       3., 0., 1., 3., 0., 3., 3., 0., 0., 3., 3., 0., 2., 3., 0., 2., 1.,\n",
       "       2., 2., 0., 0., 0., 2., 0., 3., 2., 3., 0., 0., 1., 1., 2., 1., 1.,\n",
       "       0., 3., 0., 2., 2., 1., 2., 1., 3., 1., 2., 2., 0., 1., 2., 2., 2.,\n",
       "       0., 2., 3., 1., 2., 0., 2., 2., 3., 0., 0., 1., 3., 1., 3., 3., 0.,\n",
       "       2., 0., 1., 1., 0., 3., 3., 0., 1., 2., 3., 1., 3., 0., 0., 0., 2.,\n",
       "       2., 2., 1., 2., 2., 3., 3., 1., 1., 2., 2., 3., 2., 0., 2., 0., 1.,\n",
       "       2., 1., 0., 3., 1., 3., 3., 0., 2., 1., 2., 2., 0., 3., 1., 2., 2.,\n",
       "       1., 2., 0., 0., 3., 1., 1., 3., 1., 3., 3., 1., 2., 3., 3., 0., 2.,\n",
       "       1., 3., 3., 1., 1., 0., 1.])"
      ]
     },
     "execution_count": 20,
     "metadata": {},
     "output_type": "execute_result"
    }
   ],
   "source": [
    "train_seq_tok[0]"
   ]
  },
  {
   "cell_type": "code",
   "execution_count": 23,
   "metadata": {},
   "outputs": [],
   "source": [
    "test_seq_tok_split = np.hsplit(test_seq_tok, 2)"
   ]
  },
  {
   "cell_type": "code",
   "execution_count": 22,
   "metadata": {},
   "outputs": [
    {
     "data": {
      "text/plain": [
       "array([0., 3., 1., 1., 2., 1., 2., 2., 0., 0., 1., 1., 2., 3., 1., 1., 3.,\n",
       "       0., 0., 2., 0., 2., 2., 1., 0., 2., 2., 0., 3., 1., 0., 2., 2., 1.,\n",
       "       3., 2., 1., 0., 1., 2., 2., 2., 1., 1., 3., 0., 1., 0., 0., 2., 3.,\n",
       "       1., 1., 1., 0., 0., 3., 0., 0., 2., 1., 2., 3., 1., 0., 2., 2., 0.,\n",
       "       2., 0., 0., 2., 1., 3., 1., 2., 2., 2., 1., 1., 2., 1., 1., 1., 1.,\n",
       "       3., 1., 2., 0., 1., 0., 0., 3., 3., 1., 2., 1., 0., 3., 1., 2., 0.,\n",
       "       0., 1., 2., 0., 2., 0., 2., 2., 3., 1., 2., 0., 1., 1., 1., 1., 3.,\n",
       "       1., 3., 1., 0., 2., 1., 2., 2., 2., 2., 0., 2., 1., 3., 0., 2., 1.,\n",
       "       1., 2., 2., 2., 1., 1., 2., 3., 1., 2., 3., 1., 1., 1., 1., 1., 3.,\n",
       "       0., 2., 2., 3., 1., 2., 1., 1., 1., 1., 1., 1., 3., 1., 1., 2., 3.,\n",
       "       1., 2., 3., 0., 3., 0., 0., 0., 3., 0., 3., 0., 2., 0., 0., 0., 0.,\n",
       "       0., 0., 0., 0., 0., 2., 3., 3., 1., 1., 1., 2.])"
      ]
     },
     "execution_count": 22,
     "metadata": {},
     "output_type": "execute_result"
    }
   ],
   "source": [
    "train_seq_tok_split[0][0]"
   ]
  },
  {
   "cell_type": "code",
   "execution_count": 30,
   "metadata": {},
   "outputs": [
    {
     "name": "stdout",
     "output_type": "stream",
     "text": [
      "Train...\n",
      "Train on 29420 samples, validate on 33333 samples\n",
      "Epoch 1/100\n",
      "29420/29420 [==============================] - 7s 244us/step - loss: 0.2133 - acc: 0.9499 - val_loss: 0.1422 - val_acc: 0.9969\n",
      "Epoch 2/100\n",
      "29420/29420 [==============================] - 6s 214us/step - loss: 0.1985 - acc: 0.9500 - val_loss: 0.0678 - val_acc: 0.9969\n",
      "Epoch 3/100\n",
      "29420/29420 [==============================] - 6s 215us/step - loss: 0.1894 - acc: 0.9500 - val_loss: 0.0784 - val_acc: 0.9969\n",
      "Epoch 4/100\n",
      "29420/29420 [==============================] - 6s 211us/step - loss: 0.1823 - acc: 0.9500 - val_loss: 0.0643 - val_acc: 0.9969\n",
      "Epoch 5/100\n",
      "29420/29420 [==============================] - 6s 215us/step - loss: 0.1770 - acc: 0.9500 - val_loss: 0.0363 - val_acc: 0.9969\n",
      "Epoch 6/100\n",
      "29420/29420 [==============================] - 6s 209us/step - loss: 0.1710 - acc: 0.9500 - val_loss: 0.0451 - val_acc: 0.9969\n",
      "Epoch 7/100\n",
      "29420/29420 [==============================] - 6s 210us/step - loss: 0.1649 - acc: 0.9501 - val_loss: 0.0746 - val_acc: 0.9968\n",
      "Epoch 8/100\n",
      "29420/29420 [==============================] - 6s 212us/step - loss: 0.1583 - acc: 0.9508 - val_loss: 0.0560 - val_acc: 0.9968\n",
      "Epoch 9/100\n",
      "29420/29420 [==============================] - 6s 213us/step - loss: 0.1494 - acc: 0.9522 - val_loss: 0.0402 - val_acc: 0.9962\n",
      "Epoch 10/100\n",
      "29420/29420 [==============================] - 6s 216us/step - loss: 0.1424 - acc: 0.9535 - val_loss: 0.0343 - val_acc: 0.9968\n",
      "Epoch 11/100\n",
      "29420/29420 [==============================] - 6s 214us/step - loss: 0.1323 - acc: 0.9550 - val_loss: 0.0261 - val_acc: 0.9966\n",
      "Epoch 12/100\n",
      "29420/29420 [==============================] - 6s 215us/step - loss: 0.1267 - acc: 0.9560 - val_loss: 0.0506 - val_acc: 0.9936\n",
      "Epoch 13/100\n",
      "29420/29420 [==============================] - 6s 213us/step - loss: 0.1135 - acc: 0.9598 - val_loss: 0.0515 - val_acc: 0.9943\n",
      "Epoch 14/100\n",
      "29420/29420 [==============================] - 6s 214us/step - loss: 0.1092 - acc: 0.9614 - val_loss: 0.0492 - val_acc: 0.9949\n",
      "Epoch 15/100\n",
      "29420/29420 [==============================] - 6s 216us/step - loss: 0.1021 - acc: 0.9625 - val_loss: 0.0447 - val_acc: 0.9929\n",
      "Epoch 16/100\n",
      "29420/29420 [==============================] - 6s 218us/step - loss: 0.0936 - acc: 0.9651 - val_loss: 0.0514 - val_acc: 0.9887\n",
      "Epoch 17/100\n",
      "29420/29420 [==============================] - 6s 213us/step - loss: 0.0911 - acc: 0.9671 - val_loss: 0.0495 - val_acc: 0.9883\n",
      "Epoch 18/100\n",
      "29420/29420 [==============================] - 6s 212us/step - loss: 0.0863 - acc: 0.9684 - val_loss: 0.0437 - val_acc: 0.9912\n",
      "Epoch 19/100\n",
      "29420/29420 [==============================] - 6s 213us/step - loss: 0.0793 - acc: 0.9697 - val_loss: 0.0409 - val_acc: 0.9911\n",
      "Epoch 20/100\n",
      "29420/29420 [==============================] - 6s 211us/step - loss: 0.0773 - acc: 0.9708 - val_loss: 0.0441 - val_acc: 0.9902\n",
      "Epoch 21/100\n",
      "29420/29420 [==============================] - 6s 212us/step - loss: 0.0698 - acc: 0.9728 - val_loss: 0.0504 - val_acc: 0.9891\n",
      "Epoch 22/100\n",
      "29420/29420 [==============================] - 6s 211us/step - loss: 0.0687 - acc: 0.9741 - val_loss: 0.0381 - val_acc: 0.9934\n",
      "Epoch 23/100\n",
      "29420/29420 [==============================] - 6s 217us/step - loss: 0.0644 - acc: 0.9753 - val_loss: 0.0471 - val_acc: 0.9901\n",
      "Epoch 24/100\n",
      "29420/29420 [==============================] - 6s 219us/step - loss: 0.0668 - acc: 0.9746 - val_loss: 0.0529 - val_acc: 0.9869\n",
      "Epoch 25/100\n",
      "29420/29420 [==============================] - 6s 214us/step - loss: 0.0574 - acc: 0.9772 - val_loss: 0.0405 - val_acc: 0.9917\n",
      "Epoch 26/100\n",
      "29420/29420 [==============================] - 6s 219us/step - loss: 0.0566 - acc: 0.9793 - val_loss: 0.0418 - val_acc: 0.9924\n",
      "Epoch 27/100\n",
      "29420/29420 [==============================] - 6s 211us/step - loss: 0.0555 - acc: 0.9785 - val_loss: 0.0527 - val_acc: 0.9875\n",
      "Epoch 28/100\n",
      "29420/29420 [==============================] - 6s 215us/step - loss: 0.0537 - acc: 0.9792 - val_loss: 0.0654 - val_acc: 0.9841\n",
      "Epoch 29/100\n",
      "29420/29420 [==============================] - 7s 222us/step - loss: 0.0493 - acc: 0.9813 - val_loss: 0.0654 - val_acc: 0.9860\n",
      "Epoch 30/100\n",
      "29420/29420 [==============================] - 6s 212us/step - loss: 0.0538 - acc: 0.9794 - val_loss: 0.0663 - val_acc: 0.9796\n",
      "Epoch 31/100\n",
      "29420/29420 [==============================] - 6s 210us/step - loss: 0.0476 - acc: 0.9814 - val_loss: 0.0651 - val_acc: 0.9823\n",
      "Epoch 32/100\n",
      "29420/29420 [==============================] - 6s 205us/step - loss: 0.0502 - acc: 0.9811 - val_loss: 0.0438 - val_acc: 0.9936\n",
      "Epoch 33/100\n",
      "29420/29420 [==============================] - 6s 211us/step - loss: 0.0444 - acc: 0.9838 - val_loss: 0.0529 - val_acc: 0.9897\n",
      "Epoch 34/100\n",
      "29420/29420 [==============================] - 6s 210us/step - loss: 0.0469 - acc: 0.9829 - val_loss: 0.0452 - val_acc: 0.9909\n",
      "Epoch 35/100\n",
      "29420/29420 [==============================] - 6s 210us/step - loss: 0.0442 - acc: 0.9841 - val_loss: 0.0522 - val_acc: 0.9865\n",
      "Epoch 36/100\n",
      "29420/29420 [==============================] - 6s 214us/step - loss: 0.0424 - acc: 0.9840 - val_loss: 0.0506 - val_acc: 0.9875\n",
      "Epoch 37/100\n",
      "29420/29420 [==============================] - 6s 211us/step - loss: 0.0428 - acc: 0.9840 - val_loss: 0.0615 - val_acc: 0.9825\n",
      "Epoch 38/100\n",
      "29420/29420 [==============================] - 6s 212us/step - loss: 0.0421 - acc: 0.9850 - val_loss: 0.0489 - val_acc: 0.9914\n",
      "Epoch 39/100\n",
      "29420/29420 [==============================] - 6s 214us/step - loss: 0.0393 - acc: 0.9857 - val_loss: 0.0666 - val_acc: 0.9786\n",
      "Epoch 40/100\n",
      "29420/29420 [==============================] - 6s 211us/step - loss: 0.0388 - acc: 0.9859 - val_loss: 0.0545 - val_acc: 0.9837\n",
      "Epoch 41/100\n",
      "29420/29420 [==============================] - 6s 213us/step - loss: 0.0354 - acc: 0.9870 - val_loss: 0.0423 - val_acc: 0.9931\n",
      "Epoch 42/100\n",
      "29420/29420 [==============================] - 6s 214us/step - loss: 0.0365 - acc: 0.9862 - val_loss: 0.0499 - val_acc: 0.9898\n",
      "Epoch 43/100\n",
      "29420/29420 [==============================] - 6s 214us/step - loss: 0.0364 - acc: 0.9863 - val_loss: 0.0503 - val_acc: 0.9923\n",
      "Epoch 44/100\n",
      "29420/29420 [==============================] - 6s 210us/step - loss: 0.0348 - acc: 0.9875 - val_loss: 0.0579 - val_acc: 0.9887\n",
      "Epoch 45/100\n",
      "29420/29420 [==============================] - 6s 213us/step - loss: 0.0352 - acc: 0.9870 - val_loss: 0.0444 - val_acc: 0.9917\n",
      "Epoch 46/100\n",
      "29420/29420 [==============================] - 6s 213us/step - loss: 0.0371 - acc: 0.9867 - val_loss: 0.0560 - val_acc: 0.9857\n",
      "Epoch 47/100\n",
      "29420/29420 [==============================] - 6s 213us/step - loss: 0.0321 - acc: 0.9890 - val_loss: 0.0513 - val_acc: 0.9889\n",
      "Epoch 48/100\n",
      "29420/29420 [==============================] - 6s 211us/step - loss: 0.0315 - acc: 0.9883 - val_loss: 0.0552 - val_acc: 0.9869\n",
      "Epoch 49/100\n",
      "29420/29420 [==============================] - 6s 215us/step - loss: 0.0309 - acc: 0.9886 - val_loss: 0.0566 - val_acc: 0.9877\n",
      "Epoch 50/100\n",
      "29420/29420 [==============================] - 6s 215us/step - loss: 0.0300 - acc: 0.9888 - val_loss: 0.0672 - val_acc: 0.9832\n",
      "Epoch 51/100\n",
      "29420/29420 [==============================] - 6s 212us/step - loss: 0.0316 - acc: 0.9885 - val_loss: 0.0587 - val_acc: 0.9869\n",
      "Epoch 52/100\n",
      "29420/29420 [==============================] - 6s 211us/step - loss: 0.0299 - acc: 0.9886 - val_loss: 0.0674 - val_acc: 0.9868\n",
      "Epoch 53/100\n",
      "29420/29420 [==============================] - 6s 216us/step - loss: 0.0331 - acc: 0.9883 - val_loss: 0.0407 - val_acc: 0.9921\n",
      "Epoch 54/100\n",
      "29420/29420 [==============================] - 6s 211us/step - loss: 0.0292 - acc: 0.9903 - val_loss: 0.0640 - val_acc: 0.9824\n",
      "Epoch 55/100\n",
      "29420/29420 [==============================] - 6s 210us/step - loss: 0.0298 - acc: 0.9882 - val_loss: 0.0490 - val_acc: 0.9930\n",
      "Epoch 56/100\n",
      "29420/29420 [==============================] - 6s 213us/step - loss: 0.0262 - acc: 0.9900 - val_loss: 0.0733 - val_acc: 0.9867\n",
      "Epoch 57/100\n",
      "29420/29420 [==============================] - 6s 209us/step - loss: 0.0265 - acc: 0.9902 - val_loss: 0.0581 - val_acc: 0.9905\n",
      "Epoch 58/100\n",
      "29420/29420 [==============================] - 6s 206us/step - loss: 0.0262 - acc: 0.9904 - val_loss: 0.0499 - val_acc: 0.9885\n",
      "Epoch 59/100\n"
     ]
    },
    {
     "name": "stdout",
     "output_type": "stream",
     "text": [
      "29420/29420 [==============================] - 6s 208us/step - loss: 0.0254 - acc: 0.9910 - val_loss: 0.0546 - val_acc: 0.9863\n",
      "Epoch 60/100\n",
      "29420/29420 [==============================] - 6s 210us/step - loss: 0.0309 - acc: 0.9886 - val_loss: 0.0616 - val_acc: 0.9880\n",
      "Epoch 61/100\n",
      "29420/29420 [==============================] - 6s 211us/step - loss: 0.0306 - acc: 0.9901 - val_loss: 0.0470 - val_acc: 0.9923\n",
      "Epoch 62/100\n",
      "29420/29420 [==============================] - 6s 213us/step - loss: 0.0275 - acc: 0.9898 - val_loss: 0.0606 - val_acc: 0.9863\n",
      "Epoch 63/100\n",
      "29420/29420 [==============================] - 6s 213us/step - loss: 0.0249 - acc: 0.9907 - val_loss: 0.0557 - val_acc: 0.9893\n",
      "Epoch 64/100\n",
      "29420/29420 [==============================] - 6s 209us/step - loss: 0.0242 - acc: 0.9911 - val_loss: 0.0669 - val_acc: 0.9892\n",
      "Epoch 65/100\n",
      "29420/29420 [==============================] - 6s 211us/step - loss: 0.0264 - acc: 0.9910 - val_loss: 0.0490 - val_acc: 0.9899\n",
      "Epoch 66/100\n",
      "29420/29420 [==============================] - 6s 210us/step - loss: 0.0309 - acc: 0.9899 - val_loss: 0.0564 - val_acc: 0.9881\n",
      "Epoch 67/100\n",
      "29420/29420 [==============================] - 6s 212us/step - loss: 0.0244 - acc: 0.9911 - val_loss: 0.0743 - val_acc: 0.9881\n",
      "Epoch 68/100\n",
      "29420/29420 [==============================] - 6s 209us/step - loss: 0.0237 - acc: 0.9910 - val_loss: 0.0648 - val_acc: 0.9861\n",
      "Epoch 69/100\n",
      "29420/29420 [==============================] - 6s 212us/step - loss: 0.0267 - acc: 0.9908 - val_loss: 0.0644 - val_acc: 0.9856\n",
      "Epoch 70/100\n",
      "29420/29420 [==============================] - 6s 211us/step - loss: 0.0226 - acc: 0.9918 - val_loss: 0.0654 - val_acc: 0.9885\n",
      "Epoch 71/100\n",
      "29420/29420 [==============================] - 6s 211us/step - loss: 0.0217 - acc: 0.9917 - val_loss: 0.0520 - val_acc: 0.9922\n",
      "Epoch 72/100\n",
      "29420/29420 [==============================] - 6s 212us/step - loss: 0.0215 - acc: 0.9921 - val_loss: 0.0629 - val_acc: 0.9844\n",
      "Epoch 73/100\n",
      "29420/29420 [==============================] - 6s 209us/step - loss: 0.0272 - acc: 0.9907 - val_loss: 0.0668 - val_acc: 0.9854\n",
      "Epoch 74/100\n",
      "29420/29420 [==============================] - 6s 217us/step - loss: 0.0218 - acc: 0.9925 - val_loss: 0.0488 - val_acc: 0.9914\n",
      "Epoch 75/100\n",
      "29420/29420 [==============================] - 6s 213us/step - loss: 0.0267 - acc: 0.9906 - val_loss: 0.0517 - val_acc: 0.9912\n",
      "Epoch 76/100\n",
      "29420/29420 [==============================] - 6s 211us/step - loss: 0.0213 - acc: 0.9922 - val_loss: 0.0666 - val_acc: 0.9859\n",
      "Epoch 77/100\n",
      "29420/29420 [==============================] - 5s 185us/step - loss: 0.0203 - acc: 0.9926 - val_loss: 0.0823 - val_acc: 0.9859\n",
      "Epoch 78/100\n",
      "29420/29420 [==============================] - 5s 184us/step - loss: 0.0226 - acc: 0.9918 - val_loss: 0.0562 - val_acc: 0.9917\n",
      "Epoch 79/100\n",
      "29420/29420 [==============================] - 6s 203us/step - loss: 0.0206 - acc: 0.9925 - val_loss: 0.0561 - val_acc: 0.9928\n",
      "Epoch 80/100\n",
      "29420/29420 [==============================] - 6s 217us/step - loss: 0.0201 - acc: 0.9927 - val_loss: 0.0555 - val_acc: 0.9880\n",
      "Epoch 81/100\n",
      "29420/29420 [==============================] - 6s 211us/step - loss: 0.0211 - acc: 0.9924 - val_loss: 0.0696 - val_acc: 0.9888\n",
      "Epoch 82/100\n",
      "29420/29420 [==============================] - 6s 201us/step - loss: 0.0212 - acc: 0.9925 - val_loss: 0.0589 - val_acc: 0.9872\n",
      "Epoch 83/100\n",
      "29420/29420 [==============================] - 6s 191us/step - loss: 0.0249 - acc: 0.9913 - val_loss: 0.0599 - val_acc: 0.9904\n",
      "Epoch 84/100\n",
      "29420/29420 [==============================] - 6s 199us/step - loss: 0.0255 - acc: 0.9915 - val_loss: 0.0458 - val_acc: 0.9930\n",
      "Epoch 85/100\n",
      "29420/29420 [==============================] - 6s 202us/step - loss: 0.0209 - acc: 0.9926 - val_loss: 0.0558 - val_acc: 0.9894\n",
      "Epoch 86/100\n",
      "29420/29420 [==============================] - 5s 186us/step - loss: 0.0157 - acc: 0.9948 - val_loss: 0.0728 - val_acc: 0.9868\n",
      "Epoch 87/100\n",
      "29420/29420 [==============================] - 6s 188us/step - loss: 0.0173 - acc: 0.9938 - val_loss: 0.0691 - val_acc: 0.9841\n",
      "Epoch 88/100\n",
      "29420/29420 [==============================] - 5s 186us/step - loss: 0.0210 - acc: 0.9927 - val_loss: 0.0673 - val_acc: 0.9866\n",
      "Epoch 89/100\n",
      "29420/29420 [==============================] - 6s 191us/step - loss: 0.0190 - acc: 0.9934 - val_loss: 0.0621 - val_acc: 0.9897\n",
      "Epoch 90/100\n",
      "29420/29420 [==============================] - 6s 189us/step - loss: 0.0179 - acc: 0.9932 - val_loss: 0.0585 - val_acc: 0.9897\n",
      "Epoch 91/100\n",
      "29420/29420 [==============================] - 5s 186us/step - loss: 0.0156 - acc: 0.9945 - val_loss: 0.0777 - val_acc: 0.9918\n",
      "Epoch 92/100\n",
      "29420/29420 [==============================] - 6s 201us/step - loss: 0.0181 - acc: 0.9940 - val_loss: 0.0571 - val_acc: 0.9940\n",
      "Epoch 93/100\n",
      "29420/29420 [==============================] - 6s 194us/step - loss: 0.0177 - acc: 0.9936 - val_loss: 0.1008 - val_acc: 0.9773\n",
      "Epoch 94/100\n",
      "29420/29420 [==============================] - 6s 192us/step - loss: 0.0203 - acc: 0.9935 - val_loss: 0.0512 - val_acc: 0.9892\n",
      "Epoch 95/100\n",
      "29420/29420 [==============================] - 6s 195us/step - loss: 0.0208 - acc: 0.9932 - val_loss: 0.0731 - val_acc: 0.9892\n",
      "Epoch 96/100\n",
      "29420/29420 [==============================] - 5s 186us/step - loss: 0.0199 - acc: 0.9933 - val_loss: 0.0540 - val_acc: 0.9875\n",
      "Epoch 97/100\n",
      "29420/29420 [==============================] - 5s 187us/step - loss: 0.0170 - acc: 0.9942 - val_loss: 0.0797 - val_acc: 0.9842\n",
      "Epoch 98/100\n",
      "29420/29420 [==============================] - 6s 189us/step - loss: 0.0193 - acc: 0.9934 - val_loss: 0.0490 - val_acc: 0.9905\n",
      "Epoch 99/100\n",
      "29420/29420 [==============================] - 6s 190us/step - loss: 0.0215 - acc: 0.9928 - val_loss: 0.0477 - val_acc: 0.9906\n",
      "Epoch 100/100\n",
      "29420/29420 [==============================] - 6s 187us/step - loss: 0.0184 - acc: 0.9933 - val_loss: 0.0639 - val_acc: 0.9869\n",
      "33333/33333 [==============================] - 1s 34us/step\n",
      "Test score: 0.06392679898017968\n",
      "Test accuracy: 0.9868598580360413\n"
     ]
    }
   ],
   "source": [
    "from keras.layers import Dropout, concatenate, Input\n",
    "import keras as K\n",
    "\n",
    "# def recall_m(y_true, y_pred):\n",
    "#     true_positives = K.sum(K.round(K.clip(y_true * y_pred, 0, 1)))\n",
    "#     possible_positives = K.sum(K.round(K.clip(y_true, 0, 1)))\n",
    "#     recall = true_positives / (possible_positives + K.epsilon())\n",
    "#     return recall\n",
    "\n",
    "# def precision_m(y_true, y_pred):\n",
    "#     true_positives = K.sum(K.round(K.clip(y_true * y_pred, 0, 1)))\n",
    "#     predicted_positives = K.sum(K.round(K.clip(y_pred, 0, 1)))\n",
    "#     precision = true_positives / (predicted_positives + K.epsilon())\n",
    "#     return precision\n",
    "\n",
    "# def f1_m(y_true, y_pred):\n",
    "#     precision = precision_m(y_true, y_pred)\n",
    "#     recall = recall_m(y_true, y_pred)\n",
    "#     return 2*((precision*recall)/(precision+recall+K.epsilon()))\n",
    "\n",
    "# max_features = 20000\n",
    "batch_size = 32\n",
    "epochs = 100\n",
    "learning_rate = 0.001\n",
    "\n",
    "\n",
    "# First Half\n",
    "first_half = Input(shape=(199,))\n",
    "x = Dense(150, activation='relu', input_shape=(199,))(first_half)\n",
    "x = Dropout(0.2)(x)\n",
    "x = Dense(100, activation='relu', input_shape=(150,))(x)\n",
    "x = Dropout(0.2)(x)\n",
    "x = Dense(75, activation='relu', input_shape=(100,))(x)\n",
    "x = Dropout(0.2)(x)\n",
    "x = Dense(50, activation='relu', input_shape=(75,))(x)\n",
    "out_first = Dropout(0.2)(x)\n",
    "\n",
    "second_half = Input(shape=(199,))\n",
    "x = Dense(150, activation='relu', input_shape=(199,))(second_half)\n",
    "x = Dropout(0.2)(x)\n",
    "x = Dense(100, activation='relu', input_shape=(150,))(x)\n",
    "x = Dropout(0.2)(x)\n",
    "x = Dense(75, activation='relu', input_shape=(100,))(x)\n",
    "x = Dropout(0.2)(x)\n",
    "x = Dense(50, activation='relu', input_shape=(75,))(x)\n",
    "out_second = Dropout(0.2)(x)\n",
    "\n",
    "concatenated = concatenate([out_first, out_second])\n",
    "x = Dense(100, activation='relu')(concatenated)\n",
    "# model.add(Dropout(0.2))\n",
    "x = Dense(50, activation='relu')(x)\n",
    "# model.add(Dropout(0.2))\n",
    "x = Dense(20, activation='relu')(x)\n",
    "# model.add(Dropout(0.2))\n",
    "out_final = Dense(1, activation='sigmoid')(x)\n",
    "\n",
    "model = K.Model([first_half, second_half], out_final)\n",
    "\n",
    "# try using different optimizers and different optimizer configs\n",
    "opt = K.optimizers.Adam(learning_rate=learning_rate)\n",
    "model.compile(loss='binary_crossentropy', optimizer=opt, metrics=['acc'])\n",
    "\n",
    "# model.add(Dense(150, activation='relu', input_shape=(198,)))\n",
    "# model.add(Dropout(0.2))\n",
    "# model.add(Dense(100, activation='relu'))\n",
    "# model.add(Dropout(0.2))\n",
    "# model.add(Dense(75, activation='relu'))\n",
    "# model.add(Dropout(0.2))\n",
    "# out_a = model.add(Dense(50, activation='relu'))\n",
    "\n",
    "# # Second Half\n",
    "# model.add(Dense(150, activation='relu', input_shape=(198,)))\n",
    "# model.add(Dropout(0.2))\n",
    "# model.add(Dense(100, activation='relu'))\n",
    "# model.add(Dropout(0.2))\n",
    "# model.add(Dense(75, activation='relu'))\n",
    "# model.add(Dropout(0.2))\n",
    "# out_b = model.add(Dense(50, activation='relu'))\n",
    "\n",
    "# # Concatenate\n",
    "# concatenated = concatenate([out_a, out_b])\n",
    "# model.add(Dense(100, activation='relu')(concatenated))\n",
    "# # model.add(Dropout(0.2))\n",
    "# model.add(Dense(50, activation='relu'))\n",
    "# # model.add(Dropout(0.2))\n",
    "# model.add(Dense(20, activation='relu'))\n",
    "# # model.add(Dropout(0.2))\n",
    "# model.add(Dense(1, activation='sigmoid'))\n",
    "\n",
    "# # try using different optimizers and different optimizer configs\n",
    "# opt = K.optimizers.Adam(learning_rate=learning_rate)\n",
    "# model.compile(loss='binary_crossentropy', optimizer=opt, metrics=['acc'])\n",
    "\n",
    "print('Train...')\n",
    "model.fit(train_seq_tok_split, train_label, batch_size=batch_size, epochs=epochs, validation_data=(test_seq_tok_split, test_label))\n",
    "score, acc = model.evaluate(test_seq_tok_split, test_label, batch_size=batch_size)\n",
    "print('Test score:', score)\n",
    "print('Test accuracy:', acc)"
   ]
  },
  {
   "cell_type": "code",
   "execution_count": null,
   "metadata": {},
   "outputs": [],
   "source": []
  }
 ],
 "metadata": {
  "kernelspec": {
   "display_name": "ml4hc_proj4",
   "language": "python",
   "name": "ml4hc_proj4"
  },
  "language_info": {
   "codemirror_mode": {
    "name": "ipython",
    "version": 3
   },
   "file_extension": ".py",
   "mimetype": "text/x-python",
   "name": "python",
   "nbconvert_exporter": "python",
   "pygments_lexer": "ipython3",
   "version": "3.6.10"
  }
 },
 "nbformat": 4,
 "nbformat_minor": 2
}
