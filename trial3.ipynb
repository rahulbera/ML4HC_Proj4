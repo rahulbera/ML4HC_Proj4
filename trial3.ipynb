{
 "cells": [
  {
   "cell_type": "code",
   "execution_count": 15,
   "metadata": {},
   "outputs": [
    {
     "name": "stdout",
     "output_type": "stream",
     "text": [
      "train_seq shape: (29420,)\n",
      "test_seq shape: (33333,)\n"
     ]
    }
   ],
   "source": [
    "from keras.preprocessing import sequence, text\n",
    "from keras.models import Sequential\n",
    "from keras.layers import Dense, Embedding\n",
    "from keras.layers import LSTM\n",
    "import pandas as pd\n",
    "import numpy as np\n",
    "\n",
    "#train_data_source = './exercise_data/human_dna_train_small.csv'\n",
    "train_data_source = './exercise_data/human_dna_train_split_5_95.csv'\n",
    "val_data_source = './exercise_data/human_dna_validation_split.csv'\n",
    "test_data_source = './exercise_data/human_dna_test_split.csv'\n",
    "\n",
    "train_df = pd.read_csv(train_data_source, header=0)\n",
    "test_df = pd.read_csv(test_data_source, header=0)\n",
    "\n",
    "train_seq = train_df['sequences']\n",
    "train_label = train_df['labels']\n",
    "test_seq = test_df['sequences']\n",
    "test_label = test_df['labels']\n",
    "\n",
    "# Preprocess\n",
    "tk = text.Tokenizer(char_level=True)\n",
    "tk.fit_on_texts(train_seq)\n",
    "\n",
    "train_seq_tok = tk.texts_to_sequences(train_seq)\n",
    "test_seq_tok = tk.texts_to_sequences(test_seq)\n",
    "\n",
    "train_seq = np.array(train_seq)\n",
    "train_seq_tok = np.array(train_seq_tok)\n",
    "train_label = np.array(train_label)\n",
    "test_seq = np.array(test_seq)\n",
    "test_seq_tok = np.array(test_seq_tok)\n",
    "test_label = np.array(test_label)\n",
    "\n",
    "print('train_seq shape:', train_seq.shape)\n",
    "print('test_seq shape:', test_seq.shape)"
   ]
  },
  {
   "cell_type": "code",
   "execution_count": 16,
   "metadata": {},
   "outputs": [],
   "source": [
    "train_label[train_label<0]=0\n",
    "test_label[test_label<0]=0"
   ]
  },
  {
   "cell_type": "code",
   "execution_count": 17,
   "metadata": {},
   "outputs": [
    {
     "data": {
      "text/plain": [
       "array([1, 1, 1, ..., 0, 0, 0])"
      ]
     },
     "execution_count": 17,
     "metadata": {},
     "output_type": "execute_result"
    }
   ],
   "source": [
    "train_label"
   ]
  },
  {
   "cell_type": "code",
   "execution_count": 18,
   "metadata": {},
   "outputs": [],
   "source": [
    "train_seq_tok = train_seq_tok - np.ones(shape=train_seq_tok.shape)\n",
    "test_seq_tok = test_seq_tok - np.ones(shape=test_seq_tok.shape)"
   ]
  },
  {
   "cell_type": "code",
   "execution_count": 19,
   "metadata": {
    "scrolled": true
   },
   "outputs": [
    {
     "data": {
      "text/plain": [
       "array([[0., 3., 1., ..., 1., 0., 1.],\n",
       "       [0., 2., 2., ..., 0., 0., 0.],\n",
       "       [1., 2., 2., ..., 1., 2., 0.],\n",
       "       ...,\n",
       "       [2., 0., 0., ..., 1., 1., 2.],\n",
       "       [1., 3., 1., ..., 2., 1., 1.],\n",
       "       [2., 0., 0., ..., 1., 1., 1.]])"
      ]
     },
     "execution_count": 19,
     "metadata": {},
     "output_type": "execute_result"
    }
   ],
   "source": [
    "train_seq_tok"
   ]
  },
  {
   "cell_type": "code",
   "execution_count": 20,
   "metadata": {},
   "outputs": [],
   "source": [
    "train_seq_tok_split = np.hsplit(train_seq_tok, 2)"
   ]
  },
  {
   "cell_type": "code",
   "execution_count": 21,
   "metadata": {},
   "outputs": [
    {
     "data": {
      "text/plain": [
       "(29420, 398)"
      ]
     },
     "execution_count": 21,
     "metadata": {},
     "output_type": "execute_result"
    }
   ],
   "source": [
    "train_seq_tok.shape"
   ]
  },
  {
   "cell_type": "code",
   "execution_count": 22,
   "metadata": {},
   "outputs": [
    {
     "data": {
      "text/plain": [
       "(29420, 199)"
      ]
     },
     "execution_count": 22,
     "metadata": {},
     "output_type": "execute_result"
    }
   ],
   "source": [
    "train_seq_tok_split[0].shape"
   ]
  },
  {
   "cell_type": "code",
   "execution_count": 23,
   "metadata": {},
   "outputs": [
    {
     "data": {
      "text/plain": [
       "array([0., 3., 1., 1., 2., 1., 2., 2., 0., 0., 1., 1., 2., 3., 1., 1., 3.,\n",
       "       0., 0., 2., 0., 2., 2., 1., 0., 2., 2., 0., 3., 1., 0., 2., 2., 1.,\n",
       "       3., 2., 1., 0., 1., 2., 2., 2., 1., 1., 3., 0., 1., 0., 0., 2., 3.,\n",
       "       1., 1., 1., 0., 0., 3., 0., 0., 2., 1., 2., 3., 1., 0., 2., 2., 0.,\n",
       "       2., 0., 0., 2., 1., 3., 1., 2., 2., 2., 1., 1., 2., 1., 1., 1., 1.,\n",
       "       3., 1., 2., 0., 1., 0., 0., 3., 3., 1., 2., 1., 0., 3., 1., 2., 0.,\n",
       "       0., 1., 2., 0., 2., 0., 2., 2., 3., 1., 2., 0., 1., 1., 1., 1., 3.,\n",
       "       1., 3., 1., 0., 2., 1., 2., 2., 2., 2., 0., 2., 1., 3., 0., 2., 1.,\n",
       "       1., 2., 2., 2., 1., 1., 2., 3., 1., 2., 3., 1., 1., 1., 1., 1., 3.,\n",
       "       0., 2., 2., 3., 1., 2., 1., 1., 1., 1., 1., 1., 3., 1., 1., 2., 3.,\n",
       "       1., 2., 3., 0., 3., 0., 0., 0., 3., 0., 3., 0., 2., 0., 0., 0., 0.,\n",
       "       0., 0., 0., 0., 0., 2., 3., 3., 1., 1., 1., 2., 2., 1., 0., 1., 3.,\n",
       "       3., 0., 3., 3., 3., 0., 3., 1., 1., 3., 1., 1., 0., 2., 2., 2., 3.,\n",
       "       1., 0., 0., 3., 3., 0., 1., 2., 2., 2., 1., 2., 3., 1., 0., 3., 1.,\n",
       "       0., 0., 1., 1., 3., 1., 1., 2., 1., 0., 0., 3., 3., 1., 2., 3., 0.,\n",
       "       3., 0., 1., 3., 0., 3., 3., 0., 0., 3., 3., 0., 2., 3., 0., 2., 1.,\n",
       "       2., 2., 0., 0., 0., 2., 0., 3., 2., 3., 0., 0., 1., 1., 2., 1., 1.,\n",
       "       0., 3., 0., 2., 2., 1., 2., 1., 3., 1., 2., 2., 0., 1., 2., 2., 2.,\n",
       "       0., 2., 3., 1., 2., 0., 2., 2., 3., 0., 0., 1., 3., 1., 3., 3., 0.,\n",
       "       2., 0., 1., 1., 0., 3., 3., 0., 1., 2., 3., 1., 3., 0., 0., 0., 2.,\n",
       "       2., 2., 1., 2., 2., 3., 3., 1., 1., 2., 2., 3., 2., 0., 2., 0., 1.,\n",
       "       2., 1., 0., 3., 1., 3., 3., 0., 2., 1., 2., 2., 0., 3., 1., 2., 2.,\n",
       "       1., 2., 0., 0., 3., 1., 1., 3., 1., 3., 3., 1., 2., 3., 3., 0., 2.,\n",
       "       1., 3., 3., 1., 1., 0., 1.])"
      ]
     },
     "execution_count": 23,
     "metadata": {},
     "output_type": "execute_result"
    }
   ],
   "source": [
    "train_seq_tok[0]"
   ]
  },
  {
   "cell_type": "code",
   "execution_count": 24,
   "metadata": {},
   "outputs": [],
   "source": [
    "test_seq_tok_split = np.hsplit(test_seq_tok, 2)"
   ]
  },
  {
   "cell_type": "code",
   "execution_count": 25,
   "metadata": {},
   "outputs": [
    {
     "data": {
      "text/plain": [
       "array([0., 3., 1., 1., 2., 1., 2., 2., 0., 0., 1., 1., 2., 3., 1., 1., 3.,\n",
       "       0., 0., 2., 0., 2., 2., 1., 0., 2., 2., 0., 3., 1., 0., 2., 2., 1.,\n",
       "       3., 2., 1., 0., 1., 2., 2., 2., 1., 1., 3., 0., 1., 0., 0., 2., 3.,\n",
       "       1., 1., 1., 0., 0., 3., 0., 0., 2., 1., 2., 3., 1., 0., 2., 2., 0.,\n",
       "       2., 0., 0., 2., 1., 3., 1., 2., 2., 2., 1., 1., 2., 1., 1., 1., 1.,\n",
       "       3., 1., 2., 0., 1., 0., 0., 3., 3., 1., 2., 1., 0., 3., 1., 2., 0.,\n",
       "       0., 1., 2., 0., 2., 0., 2., 2., 3., 1., 2., 0., 1., 1., 1., 1., 3.,\n",
       "       1., 3., 1., 0., 2., 1., 2., 2., 2., 2., 0., 2., 1., 3., 0., 2., 1.,\n",
       "       1., 2., 2., 2., 1., 1., 2., 3., 1., 2., 3., 1., 1., 1., 1., 1., 3.,\n",
       "       0., 2., 2., 3., 1., 2., 1., 1., 1., 1., 1., 1., 3., 1., 1., 2., 3.,\n",
       "       1., 2., 3., 0., 3., 0., 0., 0., 3., 0., 3., 0., 2., 0., 0., 0., 0.,\n",
       "       0., 0., 0., 0., 0., 2., 3., 3., 1., 1., 1., 2.])"
      ]
     },
     "execution_count": 25,
     "metadata": {},
     "output_type": "execute_result"
    }
   ],
   "source": [
    "train_seq_tok_split[0][0]"
   ]
  },
  {
   "cell_type": "code",
   "execution_count": 42,
   "metadata": {},
   "outputs": [
    {
     "name": "stdout",
     "output_type": "stream",
     "text": [
      "Train...\n",
      "Train on 29420 samples, validate on 33333 samples\n",
      "Epoch 1/200\n",
      "29420/29420 [==============================] - 3s 102us/step - loss: 0.2063 - acc: 0.9500 - recall_m: 0.0000e+00 - precision_m: 0.0000e+00 - f1_m: 0.0000e+00 - val_loss: 0.0702 - val_acc: 0.9969 - val_recall_m: 0.0000e+00 - val_precision_m: 0.0000e+00 - val_f1_m: 0.0000e+00\n",
      "Epoch 2/200\n",
      "29420/29420 [==============================] - 3s 87us/step - loss: 0.1930 - acc: 0.9500 - recall_m: 0.0000e+00 - precision_m: 0.0000e+00 - f1_m: 0.0000e+00 - val_loss: 0.0656 - val_acc: 0.9969 - val_recall_m: 0.0000e+00 - val_precision_m: 0.0000e+00 - val_f1_m: 0.0000e+00\n",
      "Epoch 3/200\n",
      "29420/29420 [==============================] - 3s 87us/step - loss: 0.1807 - acc: 0.9500 - recall_m: 0.0000e+00 - precision_m: 0.0000e+00 - f1_m: 0.0000e+00 - val_loss: 0.0422 - val_acc: 0.9969 - val_recall_m: 0.0000e+00 - val_precision_m: 0.0000e+00 - val_f1_m: 0.0000e+00\n",
      "Epoch 4/200\n",
      "29420/29420 [==============================] - 3s 85us/step - loss: 0.1708 - acc: 0.9500 - recall_m: 0.0000e+00 - precision_m: 0.0000e+00 - f1_m: 0.0000e+00 - val_loss: 0.0626 - val_acc: 0.9968 - val_recall_m: 0.0000e+00 - val_precision_m: 0.0000e+00 - val_f1_m: 0.0000e+00\n",
      "Epoch 5/200\n",
      "29420/29420 [==============================] - 3s 86us/step - loss: 0.1635 - acc: 0.9500 - recall_m: 7.2464e-04 - precision_m: 0.0022 - f1_m: 0.0011 - val_loss: 0.0728 - val_acc: 0.9967 - val_recall_m: 0.0000e+00 - val_precision_m: 0.0000e+00 - val_f1_m: 0.0000e+00\n",
      "Epoch 6/200\n",
      "29420/29420 [==============================] - 3s 86us/step - loss: 0.1547 - acc: 0.9505 - recall_m: 0.0185 - precision_m: 0.0511 - f1_m: 0.0253 - val_loss: 0.0593 - val_acc: 0.9952 - val_recall_m: 0.0019 - val_precision_m: 0.0019 - val_f1_m: 0.0019\n",
      "Epoch 7/200\n",
      "29420/29420 [==============================] - 3s 86us/step - loss: 0.1466 - acc: 0.9515 - recall_m: 0.0570 - precision_m: 0.1630 - f1_m: 0.0789 - val_loss: 0.0540 - val_acc: 0.9947 - val_recall_m: 0.0019 - val_precision_m: 0.0019 - val_f1_m: 0.0019\n",
      "Epoch 8/200\n",
      "29420/29420 [==============================] - 3s 87us/step - loss: 0.1371 - acc: 0.9532 - recall_m: 0.1147 - precision_m: 0.2618 - f1_m: 0.1476 - val_loss: 0.0559 - val_acc: 0.9927 - val_recall_m: 0.0019 - val_precision_m: 0.0019 - val_f1_m: 0.0019\n",
      "Epoch 9/200\n",
      "29420/29420 [==============================] - 3s 87us/step - loss: 0.1262 - acc: 0.9555 - recall_m: 0.1828 - precision_m: 0.3694 - f1_m: 0.2246 - val_loss: 0.0788 - val_acc: 0.9823 - val_recall_m: 0.0067 - val_precision_m: 0.0045 - val_f1_m: 0.0052\n",
      "Epoch 10/200\n",
      "29420/29420 [==============================] - 3s 86us/step - loss: 0.1146 - acc: 0.9590 - recall_m: 0.2722 - precision_m: 0.4782 - f1_m: 0.3209 - val_loss: 0.0466 - val_acc: 0.9915 - val_recall_m: 0.0038 - val_precision_m: 0.0038 - val_f1_m: 0.0038\n",
      "Epoch 11/200\n",
      "29420/29420 [==============================] - 2s 85us/step - loss: 0.1021 - acc: 0.9631 - recall_m: 0.3526 - precision_m: 0.6253 - f1_m: 0.4183 - val_loss: 0.0616 - val_acc: 0.9831 - val_recall_m: 0.0077 - val_precision_m: 0.0064 - val_f1_m: 0.0067\n",
      "Epoch 12/200\n",
      "29420/29420 [==============================] - 3s 86us/step - loss: 0.0877 - acc: 0.9681 - recall_m: 0.4411 - precision_m: 0.6587 - f1_m: 0.4982 - val_loss: 0.0806 - val_acc: 0.9729 - val_recall_m: 0.0154 - val_precision_m: 0.0094 - val_f1_m: 0.0111\n",
      "Epoch 13/200\n",
      "29420/29420 [==============================] - 3s 86us/step - loss: 0.0758 - acc: 0.9730 - recall_m: 0.5486 - precision_m: 0.7351 - f1_m: 0.5921 - val_loss: 0.0461 - val_acc: 0.9879 - val_recall_m: 0.0038 - val_precision_m: 0.0038 - val_f1_m: 0.0038\n",
      "Epoch 00013: early stopping\n",
      "33333/33333 [==============================] - 1s 20us/step\n",
      "Test score: 0.04614791714164173\n",
      "Test accuracy: 0.9878798723220825\n",
      "Test recall: 0.0038387710228562355\n",
      "Test precision: 0.0038387710228562355\n",
      "Test F1: 0.0038387710228562355\n"
     ]
    },
    {
     "data": {
      "image/png": "[encoded data removed]",
      "text/plain": [
       "<Figure size 432x288 with 1 Axes>"
      ]
     },
     "metadata": {
      "needs_background": "light"
     },
     "output_type": "display_data"
    }
   ],
   "source": [
    "from keras.layers import Dropout, concatenate, Input\n",
    "import keras as K\n",
    "import keras.backend as K2\n",
    "from keras.callbacks import EarlyStopping\n",
    "from matplotlib import pyplot\n",
    "\n",
    "def recall_m(y_true, y_pred):\n",
    "    true_positives = K2.sum(K2.round(K2.clip(y_true * y_pred, 0, 1)))\n",
    "    possible_positives = K2.sum(K2.round(K2.clip(y_true, 0, 1)))\n",
    "    recall = true_positives / (possible_positives + K2.epsilon())\n",
    "    return recall\n",
    "\n",
    "def precision_m(y_true, y_pred):\n",
    "    true_positives = K2.sum(K2.round(K2.clip(y_true * y_pred, 0, 1)))\n",
    "    predicted_positives = K2.sum(K2.round(K2.clip(y_pred, 0, 1)))\n",
    "    precision = true_positives / (predicted_positives + K2.epsilon())\n",
    "    return precision\n",
    "\n",
    "def f1_m(y_true, y_pred):\n",
    "    precision = precision_m(y_true, y_pred)\n",
    "    recall = recall_m(y_true, y_pred)\n",
    "    return 2*((precision*recall)/(precision+recall+K2.epsilon()))\n",
    "\n",
    "batch_size = 64\n",
    "epochs = 200\n",
    "learning_rate = 0.0001\n",
    "\n",
    "# First Half\n",
    "first_half = Input(shape=(199,))\n",
    "x = Dense(150, activation='relu')(first_half)\n",
    "# x = Dropout(0.2)(x)\n",
    "x = Dense(100, activation='relu')(x)\n",
    "# x = Dropout(0.2)(x)\n",
    "x = Dense(75, activation='relu')(x)\n",
    "# x = Dropout(0.2)(x)\n",
    "out_first = Dense(50, activation='relu')(x)\n",
    "# out_first = Dropout(0.2)(x)\n",
    "\n",
    "second_half = Input(shape=(199,))\n",
    "x = Dense(100, activation='relu')(second_half)\n",
    "# x = Dropout(0.2)(x)\n",
    "x = Dense(50, activation='relu')(x)\n",
    "# x = Dropout(0.2)(x)\n",
    "out_second = Dense(25, activation='relu')(x)\n",
    "# x = Dropout(0.2)(x)\n",
    "# x = Dense(50, activation='relu', input_shape=(75,))(x)\n",
    "# out_second = Dropout(0.2)(x)\n",
    "\n",
    "concatenated = concatenate([out_first, out_second])\n",
    "x = Dense(75, activation='relu')(concatenated)\n",
    "# model.add(Dropout(0.2))\n",
    "x = Dense(50, activation='relu')(x)\n",
    "# model.add(Dropout(0.2))\n",
    "x = Dense(20, activation='relu')(x)\n",
    "# model.add(Dropout(0.2))\n",
    "out_final = Dense(1, activation='sigmoid')(x)\n",
    "\n",
    "model = K.Model([first_half, second_half], out_final)\n",
    "\n",
    "# try using different optimizers and different optimizer configs\n",
    "opt = K.optimizers.Adam(learning_rate=learning_rate)\n",
    "model.compile(loss='binary_crossentropy', optimizer=opt, metrics=['acc', recall_m, precision_m, f1_m])\n",
    "\n",
    "print('Train...')\n",
    "es = EarlyStopping(monitor='val_loss', mode='min', verbose=1, patience=10)\n",
    "history = model.fit(train_seq_tok_split, train_label, batch_size=batch_size, epochs=epochs, validation_data=(test_seq_tok_split, test_label), callbacks=[es])\n",
    "score, acc, recall, precision, f1 = model.evaluate(test_seq_tok_split, test_label, batch_size=batch_size)\n",
    "print('Test score:', score)\n",
    "print('Test accuracy:', acc)\n",
    "print('Test recall:', recall)\n",
    "print('Test precision:', precision)\n",
    "print('Test F1:', f1)\n",
    "\n",
    "\n",
    "pyplot.plot(history.history['loss'], label='train')\n",
    "pyplot.plot(history.history['val_loss'], label='test')\n",
    "pyplot.legend()\n",
    "pyplot.show()"
   ]
  },
  {
   "cell_type": "code",
   "execution_count": 43,
   "metadata": {},
   "outputs": [
    {
     "name": "stdout",
     "output_type": "stream",
     "text": [
      "Train on 29420 samples, validate on 33333 samples\n",
      "Epoch 1/100\n",
      "29420/29420 [==============================] - 3s 103us/step - loss: 0.2024 - acc: 0.9493 - f1_m: 1.8116e-04 - val_loss: 0.0668 - val_acc: 0.9969 - val_f1_m: 0.0000e+00\n",
      "Epoch 2/100\n",
      "29420/29420 [==============================] - 3s 91us/step - loss: 0.1836 - acc: 0.9500 - f1_m: 0.0000e+00 - val_loss: 0.0373 - val_acc: 0.9969 - val_f1_m: 0.0000e+00\n",
      "Epoch 3/100\n",
      "29420/29420 [==============================] - 3s 89us/step - loss: 0.1761 - acc: 0.9500 - f1_m: 0.0000e+00 - val_loss: 0.1038 - val_acc: 0.9969 - val_f1_m: 0.0000e+00\n",
      "Epoch 4/100\n",
      "29420/29420 [==============================] - 3s 88us/step - loss: 0.1658 - acc: 0.9501 - f1_m: 0.0026 - val_loss: 0.0806 - val_acc: 0.9969 - val_f1_m: 0.0000e+00\n",
      "Epoch 5/100\n",
      "29420/29420 [==============================] - 3s 91us/step - loss: 0.1571 - acc: 0.9513 - f1_m: 0.0638 - val_loss: 0.0854 - val_acc: 0.9863 - val_f1_m: 0.0048\n",
      "Epoch 6/100\n",
      "29420/29420 [==============================] - 3s 90us/step - loss: 0.1444 - acc: 0.9524 - f1_m: 0.1606 - val_loss: 0.0357 - val_acc: 0.9941 - val_f1_m: 0.0058\n",
      "Epoch 7/100\n",
      "29420/29420 [==============================] - 3s 89us/step - loss: 0.1281 - acc: 0.9568 - f1_m: 0.2554 - val_loss: 0.0982 - val_acc: 0.9702 - val_f1_m: 0.0137\n",
      "Epoch 8/100\n",
      "29420/29420 [==============================] - 3s 88us/step - loss: 0.1105 - acc: 0.9622 - f1_m: 0.3923 - val_loss: 0.0559 - val_acc: 0.9884 - val_f1_m: 0.0070\n",
      "Epoch 9/100\n",
      "29420/29420 [==============================] - 3s 88us/step - loss: 0.0947 - acc: 0.9660 - f1_m: 0.4755 - val_loss: 0.0593 - val_acc: 0.9877 - val_f1_m: 0.0109\n",
      "Epoch 10/100\n",
      "29420/29420 [==============================] - 3s 89us/step - loss: 0.0747 - acc: 0.9723 - f1_m: 0.5946 - val_loss: 0.0456 - val_acc: 0.9890 - val_f1_m: 0.0080\n",
      "Epoch 11/100\n",
      "29420/29420 [==============================] - 3s 90us/step - loss: 0.0649 - acc: 0.9756 - f1_m: 0.6542 - val_loss: 0.0856 - val_acc: 0.9716 - val_f1_m: 0.0126\n",
      "Epoch 12/100\n",
      "29420/29420 [==============================] - 3s 90us/step - loss: 0.0576 - acc: 0.9787 - f1_m: 0.7014 - val_loss: 0.1140 - val_acc: 0.9557 - val_f1_m: 0.0138\n",
      "Epoch 13/100\n",
      "29420/29420 [==============================] - 3s 90us/step - loss: 0.0470 - acc: 0.9831 - f1_m: 0.7694 - val_loss: 0.1143 - val_acc: 0.9609 - val_f1_m: 0.0097\n",
      "Epoch 14/100\n",
      "29420/29420 [==============================] - 3s 87us/step - loss: 0.0411 - acc: 0.9843 - f1_m: 0.7774 - val_loss: 0.0486 - val_acc: 0.9869 - val_f1_m: 0.0054\n",
      "Epoch 15/100\n",
      "29420/29420 [==============================] - 3s 89us/step - loss: 0.0359 - acc: 0.9855 - f1_m: 0.7972 - val_loss: 0.0456 - val_acc: 0.9932 - val_f1_m: 0.0038\n",
      "Epoch 16/100\n",
      "29420/29420 [==============================] - 3s 88us/step - loss: 0.0327 - acc: 0.9876 - f1_m: 0.8000 - val_loss: 0.0628 - val_acc: 0.9862 - val_f1_m: 0.0106\n",
      "Epoch 17/100\n",
      "29420/29420 [==============================] - 3s 87us/step - loss: 0.0294 - acc: 0.9891 - f1_m: 0.8244 - val_loss: 0.0679 - val_acc: 0.9805 - val_f1_m: 0.0064\n",
      "Epoch 18/100\n",
      "29420/29420 [==============================] - 3s 89us/step - loss: 0.0239 - acc: 0.9906 - f1_m: 0.8518 - val_loss: 0.0881 - val_acc: 0.9776 - val_f1_m: 0.0134\n",
      "Epoch 19/100\n",
      "29420/29420 [==============================] - 3s 89us/step - loss: 0.0233 - acc: 0.9911 - f1_m: 0.8575 - val_loss: 0.0751 - val_acc: 0.9823 - val_f1_m: 0.0090\n",
      "Epoch 20/100\n",
      "29420/29420 [==============================] - 3s 88us/step - loss: 0.0254 - acc: 0.9911 - f1_m: 0.8622 - val_loss: 0.0554 - val_acc: 0.9916 - val_f1_m: 0.0070\n",
      "Epoch 21/100\n",
      "29420/29420 [==============================] - 3s 89us/step - loss: 0.0189 - acc: 0.9935 - f1_m: 0.8833 - val_loss: 0.0760 - val_acc: 0.9850 - val_f1_m: 0.0058\n",
      "Epoch 22/100\n",
      "29420/29420 [==============================] - 3s 89us/step - loss: 0.0190 - acc: 0.9929 - f1_m: 0.8743 - val_loss: 0.0923 - val_acc: 0.9799 - val_f1_m: 0.0097\n",
      "Epoch 23/100\n",
      "29420/29420 [==============================] - 3s 88us/step - loss: 0.0179 - acc: 0.9937 - f1_m: 0.9096 - val_loss: 0.1021 - val_acc: 0.9707 - val_f1_m: 0.0137\n",
      "Epoch 24/100\n",
      "29420/29420 [==============================] - 3s 88us/step - loss: 0.0164 - acc: 0.9948 - f1_m: 0.9062 - val_loss: 0.0819 - val_acc: 0.9845 - val_f1_m: 0.0077\n",
      "Epoch 25/100\n",
      "29420/29420 [==============================] - 3s 88us/step - loss: 0.0199 - acc: 0.9928 - f1_m: 0.8869 - val_loss: 0.0679 - val_acc: 0.9820 - val_f1_m: 0.0107\n",
      "Epoch 26/100\n",
      "29420/29420 [==============================] - 3s 88us/step - loss: 0.0138 - acc: 0.9950 - f1_m: 0.9218 - val_loss: 0.0793 - val_acc: 0.9843 - val_f1_m: 0.0128\n",
      "Epoch 27/100\n",
      "29420/29420 [==============================] - 3s 87us/step - loss: 0.0193 - acc: 0.9930 - f1_m: 0.8948 - val_loss: 0.1083 - val_acc: 0.9734 - val_f1_m: 0.0166\n",
      "Epoch 28/100\n",
      "29420/29420 [==============================] - 3s 88us/step - loss: 0.0137 - acc: 0.9953 - f1_m: 0.9101 - val_loss: 0.0774 - val_acc: 0.9854 - val_f1_m: 0.0086\n",
      "Epoch 29/100\n",
      "29420/29420 [==============================] - 3s 87us/step - loss: 0.0139 - acc: 0.9947 - f1_m: 0.8975 - val_loss: 0.0998 - val_acc: 0.9873 - val_f1_m: 0.0048\n",
      "Epoch 30/100\n",
      "29420/29420 [==============================] - 3s 89us/step - loss: 0.0144 - acc: 0.9951 - f1_m: 0.9174 - val_loss: 0.0760 - val_acc: 0.9860 - val_f1_m: 0.0074\n",
      "Epoch 31/100\n",
      "29420/29420 [==============================] - 3s 87us/step - loss: 0.0137 - acc: 0.9954 - f1_m: 0.9075 - val_loss: 0.1121 - val_acc: 0.9613 - val_f1_m: 0.0149\n",
      "Epoch 32/100\n",
      "29420/29420 [==============================] - 3s 90us/step - loss: 0.0139 - acc: 0.9949 - f1_m: 0.9098 - val_loss: 0.0743 - val_acc: 0.9858 - val_f1_m: 0.0058\n",
      "Epoch 33/100\n",
      "29420/29420 [==============================] - 3s 88us/step - loss: 0.0132 - acc: 0.9954 - f1_m: 0.9085 - val_loss: 0.0818 - val_acc: 0.9882 - val_f1_m: 0.0106\n",
      "Epoch 34/100\n",
      "29420/29420 [==============================] - 3s 89us/step - loss: 0.0186 - acc: 0.9942 - f1_m: 0.8887 - val_loss: 0.0929 - val_acc: 0.9831 - val_f1_m: 0.0111\n",
      "Epoch 35/100\n",
      "29420/29420 [==============================] - 3s 88us/step - loss: 0.0121 - acc: 0.9958 - f1_m: 0.9180 - val_loss: 0.1583 - val_acc: 0.9568 - val_f1_m: 0.0119\n",
      "Epoch 36/100\n",
      "29420/29420 [==============================] - 3s 89us/step - loss: 0.0123 - acc: 0.9956 - f1_m: 0.9085 - val_loss: 0.0738 - val_acc: 0.9905 - val_f1_m: 0.0090\n",
      "Epoch 37/100\n",
      "29420/29420 [==============================] - 3s 88us/step - loss: 0.0134 - acc: 0.9955 - f1_m: 0.9069 - val_loss: 0.1018 - val_acc: 0.9814 - val_f1_m: 0.0096\n",
      "Epoch 38/100\n",
      "29420/29420 [==============================] - 3s 87us/step - loss: 0.0108 - acc: 0.9967 - f1_m: 0.9343 - val_loss: 0.0887 - val_acc: 0.9868 - val_f1_m: 0.0077\n",
      "Epoch 39/100\n",
      "29420/29420 [==============================] - 3s 89us/step - loss: 0.0116 - acc: 0.9958 - f1_m: 0.8986 - val_loss: 0.1034 - val_acc: 0.9761 - val_f1_m: 0.0099\n",
      "Epoch 40/100\n",
      "29420/29420 [==============================] - 3s 89us/step - loss: 0.0076 - acc: 0.9975 - f1_m: 0.9334 - val_loss: 0.1328 - val_acc: 0.9834 - val_f1_m: 0.0080\n",
      "Epoch 41/100\n",
      "29420/29420 [==============================] - 3s 89us/step - loss: 0.0173 - acc: 0.9936 - f1_m: 0.8810 - val_loss: 0.0698 - val_acc: 0.9883 - val_f1_m: 0.0099\n",
      "Epoch 42/100\n",
      "29420/29420 [==============================] - 3s 87us/step - loss: 0.0094 - acc: 0.9967 - f1_m: 0.9179 - val_loss: 0.0733 - val_acc: 0.9884 - val_f1_m: 0.0093\n",
      "Epoch 43/100\n",
      "29420/29420 [==============================] - 3s 87us/step - loss: 0.0105 - acc: 0.9966 - f1_m: 0.9299 - val_loss: 0.1032 - val_acc: 0.9779 - val_f1_m: 0.0118\n",
      "Epoch 44/100\n",
      "29420/29420 [==============================] - 3s 88us/step - loss: 0.0103 - acc: 0.9967 - f1_m: 0.9353 - val_loss: 0.0788 - val_acc: 0.9869 - val_f1_m: 0.0139\n",
      "Epoch 45/100\n",
      "29420/29420 [==============================] - 3s 87us/step - loss: 0.0078 - acc: 0.9975 - f1_m: 0.9218 - val_loss: 0.0799 - val_acc: 0.9888 - val_f1_m: 0.0115\n",
      "Epoch 46/100\n",
      "29420/29420 [==============================] - 3s 88us/step - loss: 0.0097 - acc: 0.9968 - f1_m: 0.9220 - val_loss: 0.0578 - val_acc: 0.9863 - val_f1_m: 0.0038\n",
      "Epoch 47/100\n",
      "29420/29420 [==============================] - 3s 87us/step - loss: 0.0093 - acc: 0.9969 - f1_m: 0.9249 - val_loss: 0.1723 - val_acc: 0.9680 - val_f1_m: 0.0163\n"
     ]
    },
    {
     "name": "stdout",
     "output_type": "stream",
     "text": [
      "Epoch 48/100\n",
      "29420/29420 [==============================] - 3s 87us/step - loss: 0.0120 - acc: 0.9957 - f1_m: 0.9063 - val_loss: 0.0889 - val_acc: 0.9806 - val_f1_m: 0.0203\n",
      "Epoch 49/100\n",
      "29420/29420 [==============================] - 3s 87us/step - loss: 0.0089 - acc: 0.9970 - f1_m: 0.9303 - val_loss: 0.0779 - val_acc: 0.9801 - val_f1_m: 0.0150\n",
      "Epoch 50/100\n",
      "29420/29420 [==============================] - 3s 89us/step - loss: 0.0094 - acc: 0.9968 - f1_m: 0.9250 - val_loss: 0.0926 - val_acc: 0.9795 - val_f1_m: 0.0116\n",
      "Epoch 51/100\n",
      "29420/29420 [==============================] - 3s 88us/step - loss: 0.0080 - acc: 0.9972 - f1_m: 0.9391 - val_loss: 0.1169 - val_acc: 0.9808 - val_f1_m: 0.0126\n",
      "Epoch 52/100\n",
      "29420/29420 [==============================] - 3s 89us/step - loss: 0.0079 - acc: 0.9969 - f1_m: 0.9230 - val_loss: 0.1107 - val_acc: 0.9812 - val_f1_m: 0.0084\n",
      "Epoch 53/100\n",
      "29420/29420 [==============================] - 3s 90us/step - loss: 0.0075 - acc: 0.9976 - f1_m: 0.9416 - val_loss: 0.1502 - val_acc: 0.9716 - val_f1_m: 0.0153\n",
      "Epoch 54/100\n",
      "29420/29420 [==============================] - 3s 89us/step - loss: 0.0077 - acc: 0.9976 - f1_m: 0.9325 - val_loss: 0.1133 - val_acc: 0.9791 - val_f1_m: 0.0139\n",
      "Epoch 55/100\n",
      "29420/29420 [==============================] - 3s 88us/step - loss: 0.0119 - acc: 0.9962 - f1_m: 0.9175 - val_loss: 0.0702 - val_acc: 0.9917 - val_f1_m: 0.0019\n",
      "Epoch 56/100\n",
      "29420/29420 [==============================] - 3s 88us/step - loss: 0.0137 - acc: 0.9954 - f1_m: 0.8954 - val_loss: 0.1100 - val_acc: 0.9774 - val_f1_m: 0.0089\n",
      "Epoch 57/100\n",
      "29420/29420 [==============================] - 3s 88us/step - loss: 0.0057 - acc: 0.9980 - f1_m: 0.9423 - val_loss: 0.0944 - val_acc: 0.9867 - val_f1_m: 0.0109\n",
      "Epoch 58/100\n",
      "29420/29420 [==============================] - 3s 88us/step - loss: 0.0092 - acc: 0.9970 - f1_m: 0.9271 - val_loss: 0.1076 - val_acc: 0.9829 - val_f1_m: 0.0138\n",
      "Epoch 59/100\n",
      "29420/29420 [==============================] - 3s 88us/step - loss: 0.0043 - acc: 0.9986 - f1_m: 0.9481 - val_loss: 0.1049 - val_acc: 0.9907 - val_f1_m: 0.0038\n",
      "Epoch 60/100\n",
      "29420/29420 [==============================] - 3s 88us/step - loss: 0.0067 - acc: 0.9977 - f1_m: 0.9193 - val_loss: 0.0994 - val_acc: 0.9837 - val_f1_m: 0.0090\n",
      "Epoch 61/100\n",
      "29420/29420 [==============================] - 3s 86us/step - loss: 0.0083 - acc: 0.9971 - f1_m: 0.9246 - val_loss: 0.0831 - val_acc: 0.9892 - val_f1_m: 0.0112\n",
      "Epoch 62/100\n",
      "29420/29420 [==============================] - 3s 88us/step - loss: 0.0071 - acc: 0.9978 - f1_m: 0.9381 - val_loss: 0.1188 - val_acc: 0.9758 - val_f1_m: 0.0152\n",
      "Epoch 63/100\n",
      "29420/29420 [==============================] - 3s 88us/step - loss: 0.0076 - acc: 0.9974 - f1_m: 0.9392 - val_loss: 0.1091 - val_acc: 0.9771 - val_f1_m: 0.0125\n",
      "Epoch 64/100\n",
      "29420/29420 [==============================] - 3s 87us/step - loss: 0.0048 - acc: 0.9988 - f1_m: 0.9524 - val_loss: 0.1154 - val_acc: 0.9752 - val_f1_m: 0.0118\n",
      "Epoch 65/100\n",
      "29420/29420 [==============================] - 3s 88us/step - loss: 0.0058 - acc: 0.9981 - f1_m: 0.9377 - val_loss: 0.1136 - val_acc: 0.9788 - val_f1_m: 0.0157\n",
      "Epoch 66/100\n",
      "29420/29420 [==============================] - 3s 88us/step - loss: 0.0102 - acc: 0.9972 - f1_m: 0.9391 - val_loss: 0.0886 - val_acc: 0.9842 - val_f1_m: 0.0090\n",
      "Epoch 67/100\n",
      "29420/29420 [==============================] - 3s 89us/step - loss: 0.0059 - acc: 0.9981 - f1_m: 0.9302 - val_loss: 0.1121 - val_acc: 0.9854 - val_f1_m: 0.0072\n",
      "Epoch 68/100\n",
      "29420/29420 [==============================] - 3s 88us/step - loss: 0.0097 - acc: 0.9971 - f1_m: 0.9212 - val_loss: 0.0968 - val_acc: 0.9831 - val_f1_m: 0.0112\n",
      "Epoch 69/100\n",
      "29420/29420 [==============================] - 3s 88us/step - loss: 0.0061 - acc: 0.9982 - f1_m: 0.9460 - val_loss: 0.1044 - val_acc: 0.9846 - val_f1_m: 0.0131\n",
      "Epoch 70/100\n",
      "29420/29420 [==============================] - 3s 88us/step - loss: 0.0044 - acc: 0.9985 - f1_m: 0.9502 - val_loss: 0.0965 - val_acc: 0.9915 - val_f1_m: 0.0102\n",
      "Epoch 71/100\n",
      "29420/29420 [==============================] - 3s 87us/step - loss: 0.0051 - acc: 0.9983 - f1_m: 0.9305 - val_loss: 0.1891 - val_acc: 0.9701 - val_f1_m: 0.0140\n",
      "Epoch 72/100\n",
      "29420/29420 [==============================] - 3s 90us/step - loss: 0.0078 - acc: 0.9973 - f1_m: 0.9393 - val_loss: 0.1074 - val_acc: 0.9900 - val_f1_m: 0.0090\n",
      "Epoch 73/100\n",
      "29420/29420 [==============================] - 3s 88us/step - loss: 0.0077 - acc: 0.9977 - f1_m: 0.9394 - val_loss: 0.0747 - val_acc: 0.9845 - val_f1_m: 0.0107\n",
      "Epoch 74/100\n",
      "29420/29420 [==============================] - 3s 89us/step - loss: 0.0069 - acc: 0.9973 - f1_m: 0.9411 - val_loss: 0.0915 - val_acc: 0.9848 - val_f1_m: 0.0088\n",
      "Epoch 75/100\n",
      "29420/29420 [==============================] - 3s 88us/step - loss: 0.0056 - acc: 0.9983 - f1_m: 0.9299 - val_loss: 0.0805 - val_acc: 0.9857 - val_f1_m: 0.0096\n",
      "Epoch 76/100\n",
      "29420/29420 [==============================] - 3s 88us/step - loss: 0.0079 - acc: 0.9977 - f1_m: 0.9385 - val_loss: 0.0607 - val_acc: 0.9870 - val_f1_m: 0.0074\n",
      "Epoch 77/100\n",
      "29420/29420 [==============================] - 3s 90us/step - loss: 0.0044 - acc: 0.9987 - f1_m: 0.9539 - val_loss: 0.1169 - val_acc: 0.9830 - val_f1_m: 0.0163\n",
      "Epoch 78/100\n",
      "29420/29420 [==============================] - 3s 89us/step - loss: 1.3885e-04 - acc: 1.0000 - f1_m: 0.9563 - val_loss: 0.1557 - val_acc: 0.9825 - val_f1_m: 0.0155\n",
      "Epoch 79/100\n",
      "29420/29420 [==============================] - 3s 88us/step - loss: 8.0147e-06 - acc: 1.0000 - f1_m: 0.9478 - val_loss: 0.2038 - val_acc: 0.9851 - val_f1_m: 0.0144\n",
      "Epoch 80/100\n",
      "29420/29420 [==============================] - 3s 89us/step - loss: 2.8645e-07 - acc: 1.0000 - f1_m: 0.9587 - val_loss: 0.2223 - val_acc: 0.9851 - val_f1_m: 0.0144\n",
      "Epoch 81/100\n",
      "29420/29420 [==============================] - 3s 90us/step - loss: 1.4512e-07 - acc: 1.0000 - f1_m: 0.9565 - val_loss: 0.2318 - val_acc: 0.9853 - val_f1_m: 0.0144\n",
      "Epoch 82/100\n",
      "29420/29420 [==============================] - 3s 88us/step - loss: 8.9965e-08 - acc: 1.0000 - f1_m: 0.9587 - val_loss: 0.2398 - val_acc: 0.9853 - val_f1_m: 0.0144\n",
      "Epoch 83/100\n",
      "29420/29420 [==============================] - 3s 89us/step - loss: 6.1139e-08 - acc: 1.0000 - f1_m: 0.9652 - val_loss: 0.2461 - val_acc: 0.9853 - val_f1_m: 0.0144\n",
      "Epoch 84/100\n",
      "29420/29420 [==============================] - 3s 88us/step - loss: 4.5689e-08 - acc: 1.0000 - f1_m: 0.9565 - val_loss: 0.2513 - val_acc: 0.9853 - val_f1_m: 0.0144\n",
      "Epoch 85/100\n",
      "29420/29420 [==============================] - 2s 82us/step - loss: 3.6201e-08 - acc: 1.0000 - f1_m: 0.9717 - val_loss: 0.2556 - val_acc: 0.9854 - val_f1_m: 0.0144\n",
      "Epoch 86/100\n",
      "29420/29420 [==============================] - 2s 85us/step - loss: 2.8927e-08 - acc: 1.0000 - f1_m: 0.9717 - val_loss: 0.2594 - val_acc: 0.9854 - val_f1_m: 0.0144\n",
      "Epoch 87/100\n",
      "29420/29420 [==============================] - 3s 86us/step - loss: 2.3251e-08 - acc: 1.0000 - f1_m: 0.9674 - val_loss: 0.2631 - val_acc: 0.9855 - val_f1_m: 0.0144\n",
      "Epoch 88/100\n",
      "29420/29420 [==============================] - 3s 88us/step - loss: 1.8814e-08 - acc: 1.0000 - f1_m: 0.9674 - val_loss: 0.2662 - val_acc: 0.9857 - val_f1_m: 0.0147\n",
      "Epoch 89/100\n",
      "29420/29420 [==============================] - 3s 90us/step - loss: 1.5377e-08 - acc: 1.0000 - f1_m: 0.9457 - val_loss: 0.2691 - val_acc: 0.9858 - val_f1_m: 0.0147\n",
      "Epoch 90/100\n",
      "29420/29420 [==============================] - 3s 88us/step - loss: 1.2695e-08 - acc: 1.0000 - f1_m: 0.9630 - val_loss: 0.2724 - val_acc: 0.9858 - val_f1_m: 0.0147\n",
      "Epoch 91/100\n",
      "29420/29420 [==============================] - 3s 89us/step - loss: 1.0461e-08 - acc: 1.0000 - f1_m: 0.9696 - val_loss: 0.2752 - val_acc: 0.9859 - val_f1_m: 0.0147\n",
      "Epoch 92/100\n",
      "29420/29420 [==============================] - 3s 89us/step - loss: 8.6530e-09 - acc: 1.0000 - f1_m: 0.9630 - val_loss: 0.2786 - val_acc: 0.9859 - val_f1_m: 0.0147\n",
      "Epoch 93/100\n",
      "29420/29420 [==============================] - 3s 87us/step - loss: 7.1451e-09 - acc: 1.0000 - f1_m: 0.9609 - val_loss: 0.2815 - val_acc: 0.9858 - val_f1_m: 0.0147\n",
      "Epoch 94/100\n",
      "29420/29420 [==============================] - 3s 89us/step - loss: 5.9193e-09 - acc: 1.0000 - f1_m: 0.9609 - val_loss: 0.2845 - val_acc: 0.9857 - val_f1_m: 0.0147\n"
     ]
    },
    {
     "name": "stdout",
     "output_type": "stream",
     "text": [
      "Epoch 95/100\n",
      "29420/29420 [==============================] - 3s 90us/step - loss: 4.9419e-09 - acc: 1.0000 - f1_m: 0.9652 - val_loss: 0.2868 - val_acc: 0.9860 - val_f1_m: 0.0147\n",
      "Epoch 96/100\n",
      "29420/29420 [==============================] - 3s 88us/step - loss: 4.1110e-09 - acc: 1.0000 - f1_m: 0.9717 - val_loss: 0.2897 - val_acc: 0.9859 - val_f1_m: 0.0147\n",
      "Epoch 97/100\n",
      "29420/29420 [==============================] - 3s 88us/step - loss: 3.3832e-09 - acc: 1.0000 - f1_m: 0.9674 - val_loss: 0.2923 - val_acc: 0.9859 - val_f1_m: 0.0147\n",
      "Epoch 98/100\n",
      "29420/29420 [==============================] - 3s 89us/step - loss: 2.7923e-09 - acc: 1.0000 - f1_m: 0.9674 - val_loss: 0.2950 - val_acc: 0.9858 - val_f1_m: 0.0147\n",
      "Epoch 99/100\n",
      "29420/29420 [==============================] - 3s 88us/step - loss: 2.3347e-09 - acc: 1.0000 - f1_m: 0.9565 - val_loss: 0.2973 - val_acc: 0.9857 - val_f1_m: 0.0134\n",
      "Epoch 100/100\n",
      "29420/29420 [==============================] - 3s 89us/step - loss: 1.9564e-09 - acc: 1.0000 - f1_m: 0.9717 - val_loss: 0.2996 - val_acc: 0.9857 - val_f1_m: 0.0134\n",
      "33333/33333 [==============================] - 1s 21us/step\n",
      "Test score: 0.2996316272663492\n",
      "Test accuracy: 0.9857498407363892\n",
      "Test F1: 0.013435699045658112\n"
     ]
    }
   ],
   "source": [
    "def get_model(learning_rate):\n",
    "    # First Half\n",
    "    first_half = Input(shape=(199,))\n",
    "    x = Dense(150, activation='relu')(first_half)\n",
    "    x = Dense(100, activation='relu')(x)\n",
    "    x = Dense(75, activation='relu')(x)\n",
    "    out_first = Dense(50, activation='relu')(x)\n",
    "\n",
    "    second_half = Input(shape=(199,))\n",
    "    x = Dense(100, activation='relu')(second_half)\n",
    "    x = Dense(50, activation='relu')(x)\n",
    "    out_second = Dense(25, activation='relu')(x)\n",
    "\n",
    "    concatenated = concatenate([out_first, out_second])\n",
    "    x = Dense(75, activation='relu')(concatenated)\n",
    "    x = Dense(50, activation='relu')(x)\n",
    "    x = Dense(20, activation='relu')(x)\n",
    "    out_final = Dense(1, activation='sigmoid')(x)\n",
    "\n",
    "    model = K.Model([first_half, second_half], out_final)\n",
    "\n",
    "    # Hyperparameters: learning_rate, beta_1, beta_2, epsilon\n",
    "    opt = K.optimizers.Adam(learning_rate=learning_rate)\n",
    "    model.compile(loss='binary_crossentropy', optimizer=opt, metrics=['acc', f1_m])\n",
    "\n",
    "    return model\n",
    "\n",
    "epochs = 100\n",
    "batch_size = 64\n",
    "learning_rate = 0.001\n",
    "\n",
    "model = get_model(learning_rate=learning_rate)\n",
    "history = model.fit(train_seq_tok_split, train_label, \n",
    "                    batch_size=batch_size, epochs=epochs, \n",
    "                    validation_data=(test_seq_tok_split, test_label))\n",
    "score, acc, f1 = model.evaluate(test_seq_tok_split, test_label, batch_size=batch_size)\n",
    "print('Test score:', score)\n",
    "print('Test accuracy:', acc)\n",
    "print('Test F1:', f1)"
   ]
  },
  {
   "cell_type": "code",
   "execution_count": null,
   "metadata": {},
   "outputs": [],
   "source": []
  }
 ],
 "metadata": {
  "kernelspec": {
   "display_name": "ml4hc_proj4",
   "language": "python",
   "name": "ml4hc_proj4"
  },
  "language_info": {
   "codemirror_mode": {
    "name": "ipython",
    "version": 3
   },
   "file_extension": ".py",
   "mimetype": "text/x-python",
   "name": "python",
   "nbconvert_exporter": "python",
   "pygments_lexer": "ipython3",
   "version": "3.6.10"
  }
 },
 "nbformat": 4,
 "nbformat_minor": 2
}
