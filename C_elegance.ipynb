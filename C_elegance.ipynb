{
 "cells": [
  {
   "cell_type": "code",
   "execution_count": 2,
   "metadata": {},
   "outputs": [],
   "source": [
    "import time\n",
    "import numpy as np\n",
    "import pandas as pd\n",
    "import shogun as sg\n",
    "from sklearn.model_selection import train_test_split\n",
    "\n",
    "def saveInfo(name, my_time, my_acc, my_F1, my_precision, my_recall, timeDict, accDict, F1Dict, precisionDict, recallDict):\n",
    "\ttimeDict[name] = my_time\n",
    "\taccDict[name] = my_acc\n",
    "\tF1Dict[name]= my_F1\n",
    "\tprecisionDict[name] = my_precision\n",
    "\trecallDict[name] = my_recall\n",
    "\t# print(\"---{}: {} seconds ---\".format (name, my_time))\n",
    "\t# print('{}, {} accuracy score: {}, F1-score: {}'.format(title, name, accuracy_score, my_F1))\n",
    "\n",
    "def evaluateAndSave(name, train_time, features_test, labels_test, labels_predict, timeDict, accDict, F1Dict, precisionDict, recallDict):\n",
    "\tacc = sg.AccuracyMeasure().evaluate(labels_predict, labels_test)\n",
    "\tf1 = sg.F1Measure().evaluate(labels_predict, labels_test)\n",
    "\tprec = sg.PrecisionMeasure().evaluate(labels_predict, labels_test)\n",
    "\trec = sg.RecallMeasure().evaluate(labels_predict, labels_test)\n",
    "\tprint('Accuracy:', acc)\n",
    "\tprint('F1:', f1)\n",
    "\tprint('Precision:', prec)\n",
    "\tprint('Recall:', rec)\n",
    "\tsaveInfo(name, train_time, acc, f1, prec, rec, timeDict, accDict, F1Dict, precisionDict, recallDict)\n",
    "\n",
    "df = pd.read_csv('./exercise_data/C_elegans_processed.csv', header=0)"
   ]
  },
  {
   "cell_type": "code",
   "execution_count": 3,
   "metadata": {},
   "outputs": [],
   "source": [
    "train_seq, test_seq, train_label, test_label = train_test_split(df['sequences'], df['labels'], test_size=0.33, random_state=42)"
   ]
  },
  {
   "cell_type": "code",
   "execution_count": 4,
   "metadata": {},
   "outputs": [
    {
     "data": {
      "text/plain": [
       "{-1.0: 1335, 1.0: 139}"
      ]
     },
     "execution_count": 4,
     "metadata": {},
     "output_type": "execute_result"
    }
   ],
   "source": [
    "unique, counts = np.unique(train_label, return_counts=True)\n",
    "dict(zip(unique, counts))"
   ]
  },
  {
   "cell_type": "code",
   "execution_count": 5,
   "metadata": {},
   "outputs": [
    {
     "data": {
      "text/plain": [
       "(1474,)"
      ]
     },
     "execution_count": 5,
     "metadata": {},
     "output_type": "execute_result"
    }
   ],
   "source": [
    "train_label.shape"
   ]
  },
  {
   "cell_type": "code",
   "execution_count": 6,
   "metadata": {
    "scrolled": true
   },
   "outputs": [
    {
     "name": "stdout",
     "output_type": "stream",
     "text": [
      "train_seq shape: (1474,)\n",
      "test_seq shape: (726,)\n"
     ]
    }
   ],
   "source": [
    "# train_df = pd.read_csv(train_data_source, header=0)\n",
    "# test_df = pd.read_csv(test_data_source, header=0)\n",
    "\n",
    "# train_seq = train_df['sequences']\n",
    "# train_label = train_df['labels']\n",
    "# test_seq = test_df['sequences']\n",
    "# test_label = test_df['labels']\n",
    "\n",
    "# train_seq = np.array(train_seq)\n",
    "# train_label = np.array(train_label)\n",
    "# test_seq = np.array(test_seq)\n",
    "# test_label = np.array(test_label)\n",
    "\n",
    "print('train_seq shape:', train_seq.shape)\n",
    "print('test_seq shape:', test_seq.shape)\n",
    "\n",
    "timeDict = {}\n",
    "accDict = {}\n",
    "F1Dict = {}\n",
    "precisionDict = {}\n",
    "recallDict = {}\n",
    "\n",
    "features_train = sg.StringCharFeatures(train_seq.tolist(), sg.DNA)\n",
    "features_test = sg.StringCharFeatures(test_seq.tolist(), sg.DNA)\n",
    "labels_train = sg.BinaryLabels(np.array(train_label))\n",
    "labels_test = sg.BinaryLabels(np.array(test_label))\n",
    "\n",
    "# SVM\n",
    "C = 1.0\n",
    "epsilon = 0.001"
   ]
  },
  {
   "cell_type": "code",
   "execution_count": 55,
   "metadata": {},
   "outputs": [
    {
     "data": {
      "text/plain": [
       "82"
      ]
     },
     "execution_count": 55,
     "metadata": {},
     "output_type": "execute_result"
    }
   ],
   "source": [
    "features_test.get_max_vector_length()"
   ]
  },
  {
   "cell_type": "code",
   "execution_count": 7,
   "metadata": {},
   "outputs": [
    {
     "name": "stdout",
     "output_type": "stream",
     "text": [
      "Accuracy: 0.9724517906336089\n",
      "F1: 0.8113207547169812\n",
      "Precision: 0.9555555555555556\n",
      "Recall: 0.7049180327868853\n"
     ]
    }
   ],
   "source": [
    "svm = sg.LibSVM(C, sg.WeightedDegreeStringKernel(features_train, features_train, 5), labels_train)\n",
    "svm.set_epsilon(epsilon)\n",
    "start = time.time()\n",
    "svm.train()\n",
    "evaluateAndSave(\"WeightedDegreeStringKernel\", time.time()-start, \n",
    "\t\t\t\tfeatures_test, labels_test, svm.apply_binary(features_test),\n",
    "\t\t\t\ttimeDict, accDict, F1Dict, precisionDict, recallDict)"
   ]
  },
  {
   "cell_type": "code",
   "execution_count": 8,
   "metadata": {},
   "outputs": [
    {
     "name": "stdout",
     "output_type": "stream",
     "text": [
      "Accuracy: 0.9683195592286501\n",
      "F1: 0.7766990291262136\n",
      "Precision: 0.9523809523809523\n",
      "Recall: 0.6557377049180327\n"
     ]
    }
   ],
   "source": [
    "svm = sg.LibSVM(C, sg.WeightedDegreePositionStringKernel(features_train, features_train, 20), labels_train)\n",
    "svm.set_epsilon(epsilon)\n",
    "svm.set_batch_computation_enabled(True)\n",
    "start = time.time()\n",
    "svm.train()\n",
    "evaluateAndSave(\"WeightedDegreePositionStringKernel\", time.time()-start, \n",
    "\t\t\t\tfeatures_test, labels_test, svm.apply_binary(features_test),\n",
    "\t\t\t\ttimeDict, accDict, F1Dict, precisionDict, recallDict)"
   ]
  },
  {
   "cell_type": "code",
   "execution_count": 42,
   "metadata": {},
   "outputs": [
    {
     "name": "stdout",
     "output_type": "stream",
     "text": [
      "Accuracy: 0.9159779614325069\n",
      "F1: 0.0\n",
      "Precision: nan\n",
      "Recall: 0.0\n"
     ]
    }
   ],
   "source": [
    "svm = sg.LibSVM(C, sg.PolyMatchStringKernel(features_train, features_train, 5, True), labels_train)\n",
    "svm.set_epsilon(epsilon)\n",
    "start = time.time()\n",
    "svm.train()\n",
    "evaluateAndSave(\"PolyMatchStringKernel\", time.time()-start, \n",
    "\t\t\t\tfeatures_test, labels_test, svm.apply_binary(features_test),\n",
    "\t\t\t\ttimeDict, accDict, F1Dict, precisionDict, recallDict)"
   ]
  },
  {
   "cell_type": "code",
   "execution_count": 43,
   "metadata": {},
   "outputs": [
    {
     "name": "stdout",
     "output_type": "stream",
     "text": [
      "Accuracy: 0.953168044077135\n",
      "F1: 0.6530612244897959\n",
      "Precision: 0.8648648648648649\n",
      "Recall: 0.5245901639344263\n"
     ]
    }
   ],
   "source": [
    "svm = sg.LibSVM(C, sg.FixedDegreeStringKernel(features_train, features_train, 5), labels_train)\n",
    "svm.set_epsilon(epsilon)\n",
    "start = time.time()\n",
    "svm.train()\n",
    "evaluateAndSave(\"FixedDegreeStringKernel\", time.time()-start, \n",
    "\t\t\t\tfeatures_test, labels_test, svm.apply_binary(features_test),\n",
    "\t\t\t\ttimeDict, accDict, F1Dict, precisionDict, recallDict)"
   ]
  },
  {
   "cell_type": "code",
   "execution_count": 44,
   "metadata": {},
   "outputs": [
    {
     "name": "stdout",
     "output_type": "stream",
     "text": [
      "Accuracy: 0.8650137741046832\n",
      "F1: 0.0392156862745098\n",
      "Precision: 0.04878048780487805\n",
      "Recall: 0.03278688524590164\n"
     ]
    }
   ],
   "source": [
    "svm = sg.LibSVM(C, sg.LinearStringKernel(features_train, features_train), labels_train)\n",
    "svm.set_epsilon(epsilon)\n",
    "start = time.time()\n",
    "svm.train()\n",
    "evaluateAndSave(\"LinearStringKernel\", time.time()-start, \n",
    "\t\t\t\tfeatures_test, labels_test, svm.apply_binary(features_test),\n",
    "\t\t\t\ttimeDict, accDict, F1Dict, precisionDict, recallDict)"
   ]
  },
  {
   "cell_type": "code",
   "execution_count": 45,
   "metadata": {},
   "outputs": [
    {
     "name": "stdout",
     "output_type": "stream",
     "text": [
      "Accuracy: 0.9159779614325069\n",
      "F1: 0.0\n",
      "Precision: nan\n",
      "Recall: 0.0\n"
     ]
    }
   ],
   "source": [
    "svm = sg.LibSVM(C, sg.LocalAlignmentStringKernel(features_train, features_train), labels_train)\n",
    "svm.set_epsilon(epsilon)\n",
    "start = time.time()\n",
    "svm.train()\n",
    "evaluateAndSave(\"LocalAlignmentStringKernel\", time.time()-start, \n",
    "\t\t\t\tfeatures_test, labels_test, svm.apply_binary(features_test),\n",
    "\t\t\t\ttimeDict, accDict, F1Dict, precisionDict, recallDict)"
   ]
  },
  {
   "cell_type": "code",
   "execution_count": 46,
   "metadata": {},
   "outputs": [
    {
     "name": "stdout",
     "output_type": "stream",
     "text": [
      "Accuracy: 0.9159779614325069\n",
      "F1: 0.0\n",
      "Precision: nan\n",
      "Recall: 0.0\n"
     ]
    }
   ],
   "source": [
    "svm = sg.LibSVM(C, sg.LocalityImprovedStringKernel(features_train, features_train, 10, 5, 5), labels_train)\n",
    "svm.set_epsilon(epsilon)\n",
    "start = time.time()\n",
    "svm.train()\n",
    "evaluateAndSave(\"LocalityImprovedStringKernel\", time.time()-start, \n",
    "\t\t\t\tfeatures_test, labels_test, svm.apply_binary(features_test),\n",
    "\t\t\t\ttimeDict, accDict, F1Dict, precisionDict, recallDict)"
   ]
  },
  {
   "cell_type": "code",
   "execution_count": 47,
   "metadata": {},
   "outputs": [
    {
     "name": "stdout",
     "output_type": "stream",
     "text": [
      "Accuracy: 0.9159779614325069\n",
      "F1: 0.0\n",
      "Precision: nan\n",
      "Recall: 0.0\n"
     ]
    }
   ],
   "source": [
    "svm = sg.LibSVM(C, sg.GaussianMatchStringKernel(features_train, features_train, 5), labels_train)\n",
    "svm.set_epsilon(epsilon)\n",
    "start = time.time()\n",
    "svm.train()\n",
    "evaluateAndSave(\"GaussianMatchStringKernel\", time.time()-start, \n",
    "\t\t\t\tfeatures_test, labels_test, svm.apply_binary(features_test),\n",
    "\t\t\t\ttimeDict, accDict, F1Dict, precisionDict, recallDict)"
   ]
  },
  {
   "cell_type": "code",
   "execution_count": 48,
   "metadata": {},
   "outputs": [
    {
     "ename": "NotImplementedError",
     "evalue": "Wrong number or type of arguments for overloaded function 'new_CommUlongStringKernel'.\n  Possible C/C++ prototypes are:\n    shogun::CCommUlongStringKernel::CCommUlongStringKernel(int32_t,bool)\n    shogun::CCommUlongStringKernel::CCommUlongStringKernel(int32_t)\n    shogun::CCommUlongStringKernel::CCommUlongStringKernel()\n    shogun::CCommUlongStringKernel::CCommUlongStringKernel(shogun::CStringFeatures< uint64_t > *,shogun::CStringFeatures< uint64_t > *,bool,int32_t)\n    shogun::CCommUlongStringKernel::CCommUlongStringKernel(shogun::CStringFeatures< uint64_t > *,shogun::CStringFeatures< uint64_t > *,bool)\n    shogun::CCommUlongStringKernel::CCommUlongStringKernel(shogun::CStringFeatures< uint64_t > *,shogun::CStringFeatures< uint64_t > *)\n",
     "output_type": "error",
     "traceback": [
      "\u001b[0;31m---------------------------------------------------------------------------\u001b[0m",
      "\u001b[0;31mNotImplementedError\u001b[0m                       Traceback (most recent call last)",
      "\u001b[0;32m<ipython-input-48-a3f0a876c505>\u001b[0m in \u001b[0;36m<module>\u001b[0;34m\u001b[0m\n\u001b[0;32m----> 1\u001b[0;31m \u001b[0msvm\u001b[0m \u001b[0;34m=\u001b[0m \u001b[0msg\u001b[0m\u001b[0;34m.\u001b[0m\u001b[0mLibSVM\u001b[0m\u001b[0;34m(\u001b[0m\u001b[0mC\u001b[0m\u001b[0;34m,\u001b[0m \u001b[0msg\u001b[0m\u001b[0;34m.\u001b[0m\u001b[0mCommUlongStringKernel\u001b[0m\u001b[0;34m(\u001b[0m\u001b[0mfeatures_train\u001b[0m\u001b[0;34m,\u001b[0m \u001b[0mfeatures_train\u001b[0m\u001b[0;34m)\u001b[0m\u001b[0;34m,\u001b[0m \u001b[0mlabels_train\u001b[0m\u001b[0;34m)\u001b[0m\u001b[0;34m\u001b[0m\u001b[0;34m\u001b[0m\u001b[0m\n\u001b[0m\u001b[1;32m      2\u001b[0m \u001b[0msvm\u001b[0m\u001b[0;34m.\u001b[0m\u001b[0mset_epsilon\u001b[0m\u001b[0;34m(\u001b[0m\u001b[0mepsilon\u001b[0m\u001b[0;34m)\u001b[0m\u001b[0;34m\u001b[0m\u001b[0;34m\u001b[0m\u001b[0m\n\u001b[1;32m      3\u001b[0m \u001b[0mstart\u001b[0m \u001b[0;34m=\u001b[0m \u001b[0mtime\u001b[0m\u001b[0;34m.\u001b[0m\u001b[0mtime\u001b[0m\u001b[0;34m(\u001b[0m\u001b[0;34m)\u001b[0m\u001b[0;34m\u001b[0m\u001b[0;34m\u001b[0m\u001b[0m\n\u001b[1;32m      4\u001b[0m \u001b[0msvm\u001b[0m\u001b[0;34m.\u001b[0m\u001b[0mtrain\u001b[0m\u001b[0;34m(\u001b[0m\u001b[0;34m)\u001b[0m\u001b[0;34m\u001b[0m\u001b[0;34m\u001b[0m\u001b[0m\n\u001b[1;32m      5\u001b[0m evaluateAndSave(\"CommUlongStringKernel\", time.time()-start, \n",
      "\u001b[0;31mNotImplementedError\u001b[0m: Wrong number or type of arguments for overloaded function 'new_CommUlongStringKernel'.\n  Possible C/C++ prototypes are:\n    shogun::CCommUlongStringKernel::CCommUlongStringKernel(int32_t,bool)\n    shogun::CCommUlongStringKernel::CCommUlongStringKernel(int32_t)\n    shogun::CCommUlongStringKernel::CCommUlongStringKernel()\n    shogun::CCommUlongStringKernel::CCommUlongStringKernel(shogun::CStringFeatures< uint64_t > *,shogun::CStringFeatures< uint64_t > *,bool,int32_t)\n    shogun::CCommUlongStringKernel::CCommUlongStringKernel(shogun::CStringFeatures< uint64_t > *,shogun::CStringFeatures< uint64_t > *,bool)\n    shogun::CCommUlongStringKernel::CCommUlongStringKernel(shogun::CStringFeatures< uint64_t > *,shogun::CStringFeatures< uint64_t > *)\n"
     ]
    }
   ],
   "source": [
    "svm = sg.LibSVM(C, sg.CommUlongStringKernel(features_train, features_train), labels_train)\n",
    "svm.set_epsilon(epsilon)\n",
    "start = time.time()\n",
    "svm.train()\n",
    "evaluateAndSave(\"CommUlongStringKernel\", time.time()-start, \n",
    "\t\t\t\tfeatures_test, labels_test, svm.apply_binary(features_test),\n",
    "\t\t\t\ttimeDict, accDict, F1Dict, precisionDict, recallDict)"
   ]
  },
  {
   "cell_type": "code",
   "execution_count": 49,
   "metadata": {},
   "outputs": [
    {
     "ename": "NotImplementedError",
     "evalue": "Wrong number or type of arguments for overloaded function 'new_CommWordStringKernel'.\n  Possible C/C++ prototypes are:\n    shogun::CCommWordStringKernel::CCommWordStringKernel()\n    shogun::CCommWordStringKernel::CCommWordStringKernel(int32_t,bool)\n    shogun::CCommWordStringKernel::CCommWordStringKernel(shogun::CStringFeatures< uint16_t > *,shogun::CStringFeatures< uint16_t > *,bool,int32_t)\n    shogun::CCommWordStringKernel::CCommWordStringKernel(shogun::CStringFeatures< uint16_t > *,shogun::CStringFeatures< uint16_t > *,bool)\n    shogun::CCommWordStringKernel::CCommWordStringKernel(shogun::CStringFeatures< uint16_t > *,shogun::CStringFeatures< uint16_t > *)\n",
     "output_type": "error",
     "traceback": [
      "\u001b[0;31m---------------------------------------------------------------------------\u001b[0m",
      "\u001b[0;31mNotImplementedError\u001b[0m                       Traceback (most recent call last)",
      "\u001b[0;32m<ipython-input-49-d27c443a76ae>\u001b[0m in \u001b[0;36m<module>\u001b[0;34m\u001b[0m\n\u001b[0;32m----> 1\u001b[0;31m \u001b[0msvm\u001b[0m \u001b[0;34m=\u001b[0m \u001b[0msg\u001b[0m\u001b[0;34m.\u001b[0m\u001b[0mLibSVM\u001b[0m\u001b[0;34m(\u001b[0m\u001b[0mC\u001b[0m\u001b[0;34m,\u001b[0m \u001b[0msg\u001b[0m\u001b[0;34m.\u001b[0m\u001b[0mCommWordStringKernel\u001b[0m\u001b[0;34m(\u001b[0m\u001b[0mfeatures_train\u001b[0m\u001b[0;34m,\u001b[0m \u001b[0mfeatures_train\u001b[0m\u001b[0;34m,\u001b[0m \u001b[0;32mFalse\u001b[0m\u001b[0;34m,\u001b[0m \u001b[0;36m10\u001b[0m\u001b[0;34m)\u001b[0m\u001b[0;34m,\u001b[0m \u001b[0mlabels_train\u001b[0m\u001b[0;34m)\u001b[0m\u001b[0;34m\u001b[0m\u001b[0;34m\u001b[0m\u001b[0m\n\u001b[0m\u001b[1;32m      2\u001b[0m \u001b[0msvm\u001b[0m\u001b[0;34m.\u001b[0m\u001b[0mset_epsilon\u001b[0m\u001b[0;34m(\u001b[0m\u001b[0mepsilon\u001b[0m\u001b[0;34m)\u001b[0m\u001b[0;34m\u001b[0m\u001b[0;34m\u001b[0m\u001b[0m\n\u001b[1;32m      3\u001b[0m \u001b[0mstart\u001b[0m \u001b[0;34m=\u001b[0m \u001b[0mtime\u001b[0m\u001b[0;34m.\u001b[0m\u001b[0mtime\u001b[0m\u001b[0;34m(\u001b[0m\u001b[0;34m)\u001b[0m\u001b[0;34m\u001b[0m\u001b[0;34m\u001b[0m\u001b[0m\n\u001b[1;32m      4\u001b[0m \u001b[0msvm\u001b[0m\u001b[0;34m.\u001b[0m\u001b[0mtrain\u001b[0m\u001b[0;34m(\u001b[0m\u001b[0;34m)\u001b[0m\u001b[0;34m\u001b[0m\u001b[0;34m\u001b[0m\u001b[0m\n\u001b[1;32m      5\u001b[0m evaluateAndSave(\"CommWordStringKernel\", time.time()-start, \n",
      "\u001b[0;31mNotImplementedError\u001b[0m: Wrong number or type of arguments for overloaded function 'new_CommWordStringKernel'.\n  Possible C/C++ prototypes are:\n    shogun::CCommWordStringKernel::CCommWordStringKernel()\n    shogun::CCommWordStringKernel::CCommWordStringKernel(int32_t,bool)\n    shogun::CCommWordStringKernel::CCommWordStringKernel(shogun::CStringFeatures< uint16_t > *,shogun::CStringFeatures< uint16_t > *,bool,int32_t)\n    shogun::CCommWordStringKernel::CCommWordStringKernel(shogun::CStringFeatures< uint16_t > *,shogun::CStringFeatures< uint16_t > *,bool)\n    shogun::CCommWordStringKernel::CCommWordStringKernel(shogun::CStringFeatures< uint16_t > *,shogun::CStringFeatures< uint16_t > *)\n"
     ]
    }
   ],
   "source": [
    "svm = sg.LibSVM(C, sg.CommWordStringKernel(features_train, features_train, False, 10), labels_train)\n",
    "svm.set_epsilon(epsilon)\n",
    "start = time.time()\n",
    "svm.train()\n",
    "evaluateAndSave(\"CommWordStringKernel\", time.time()-start, \n",
    "\t\t\t\tfeatures_test, labels_test, svm.apply_binary(features_test),\n",
    "\t\t\t\ttimeDict, accDict, F1Dict, precisionDict, recallDict)"
   ]
  },
  {
   "cell_type": "code",
   "execution_count": 50,
   "metadata": {},
   "outputs": [
    {
     "ename": "NotImplementedError",
     "evalue": "Wrong number or type of arguments for overloaded function 'new_MatchWordStringKernel'.\n  Possible C/C++ prototypes are:\n    shogun::CMatchWordStringKernel::CMatchWordStringKernel()\n    shogun::CMatchWordStringKernel::CMatchWordStringKernel(int32_t,int32_t)\n    shogun::CMatchWordStringKernel::CMatchWordStringKernel(shogun::CStringFeatures< uint16_t > *,shogun::CStringFeatures< uint16_t > *,int32_t)\n",
     "output_type": "error",
     "traceback": [
      "\u001b[0;31m---------------------------------------------------------------------------\u001b[0m",
      "\u001b[0;31mNotImplementedError\u001b[0m                       Traceback (most recent call last)",
      "\u001b[0;32m<ipython-input-50-a337b5d642eb>\u001b[0m in \u001b[0;36m<module>\u001b[0;34m\u001b[0m\n\u001b[0;32m----> 1\u001b[0;31m \u001b[0msvm\u001b[0m \u001b[0;34m=\u001b[0m \u001b[0msg\u001b[0m\u001b[0;34m.\u001b[0m\u001b[0mLibSVM\u001b[0m\u001b[0;34m(\u001b[0m\u001b[0mC\u001b[0m\u001b[0;34m,\u001b[0m \u001b[0msg\u001b[0m\u001b[0;34m.\u001b[0m\u001b[0mMatchWordStringKernel\u001b[0m\u001b[0;34m(\u001b[0m\u001b[0mfeatures_train\u001b[0m\u001b[0;34m,\u001b[0m \u001b[0mfeatures_train\u001b[0m\u001b[0;34m,\u001b[0m \u001b[0;36m5\u001b[0m\u001b[0;34m)\u001b[0m\u001b[0;34m,\u001b[0m \u001b[0mlabels_train\u001b[0m\u001b[0;34m)\u001b[0m\u001b[0;34m\u001b[0m\u001b[0;34m\u001b[0m\u001b[0m\n\u001b[0m\u001b[1;32m      2\u001b[0m \u001b[0msvm\u001b[0m\u001b[0;34m.\u001b[0m\u001b[0mset_epsilon\u001b[0m\u001b[0;34m(\u001b[0m\u001b[0mepsilon\u001b[0m\u001b[0;34m)\u001b[0m\u001b[0;34m\u001b[0m\u001b[0;34m\u001b[0m\u001b[0m\n\u001b[1;32m      3\u001b[0m \u001b[0mstart\u001b[0m \u001b[0;34m=\u001b[0m \u001b[0mtime\u001b[0m\u001b[0;34m.\u001b[0m\u001b[0mtime\u001b[0m\u001b[0;34m(\u001b[0m\u001b[0;34m)\u001b[0m\u001b[0;34m\u001b[0m\u001b[0;34m\u001b[0m\u001b[0m\n\u001b[1;32m      4\u001b[0m \u001b[0msvm\u001b[0m\u001b[0;34m.\u001b[0m\u001b[0mtrain\u001b[0m\u001b[0;34m(\u001b[0m\u001b[0;34m)\u001b[0m\u001b[0;34m\u001b[0m\u001b[0;34m\u001b[0m\u001b[0m\n\u001b[1;32m      5\u001b[0m evaluateAndSave(\"MatchWordStringKernel\", time.time()-start, \n",
      "\u001b[0;31mNotImplementedError\u001b[0m: Wrong number or type of arguments for overloaded function 'new_MatchWordStringKernel'.\n  Possible C/C++ prototypes are:\n    shogun::CMatchWordStringKernel::CMatchWordStringKernel()\n    shogun::CMatchWordStringKernel::CMatchWordStringKernel(int32_t,int32_t)\n    shogun::CMatchWordStringKernel::CMatchWordStringKernel(shogun::CStringFeatures< uint16_t > *,shogun::CStringFeatures< uint16_t > *,int32_t)\n"
     ]
    }
   ],
   "source": [
    "svm = sg.LibSVM(C, sg.MatchWordStringKernel(features_train, features_train, 5), labels_train)\n",
    "svm.set_epsilon(epsilon)\n",
    "start = time.time()\n",
    "svm.train()\n",
    "evaluateAndSave(\"MatchWordStringKernel\", time.time()-start, \n",
    "\t\t\t\tfeatures_test, labels_test, svm.apply_binary(features_test),\n",
    "\t\t\t\ttimeDict, accDict, F1Dict, precisionDict, recallDict)"
   ]
  },
  {
   "cell_type": "code",
   "execution_count": 51,
   "metadata": {},
   "outputs": [
    {
     "name": "stdout",
     "output_type": "stream",
     "text": [
      "Accuracy: 0.9159779614325069\n",
      "F1: 0.0\n",
      "Precision: nan\n",
      "Recall: 0.0\n"
     ]
    }
   ],
   "source": [
    "svm = sg.LibSVM(C, sg.SimpleLocalityImprovedStringKernel(features_train, features_train, 10, 5, 5), labels_train)\n",
    "svm.set_epsilon(epsilon)\n",
    "start = time.time()\n",
    "svm.train()\n",
    "evaluateAndSave(\"SimpleLocalityImprovedStringKernel\", time.time()-start, \n",
    "\t\t\t\tfeatures_test, labels_test, svm.apply_binary(features_test),\n",
    "\t\t\t\ttimeDict, accDict, F1Dict, precisionDict, recallDict)"
   ]
  },
  {
   "cell_type": "code",
   "execution_count": 52,
   "metadata": {},
   "outputs": [
    {
     "ename": "SystemError",
     "evalue": "\u001b[1;31m[ERROR]\u001b[0m In file /feedstock_root/build_artefacts/shogun-cpp_1512688880429/work/shogun-shogun_6.1.3/src/shogun/kernel/string/SNPStringKernel.cpp line 133: alen (82) !=m_str_len (0)\n",
     "output_type": "error",
     "traceback": [
      "\u001b[0;31m---------------------------------------------------------------------------\u001b[0m",
      "\u001b[0;31mSystemError\u001b[0m                               Traceback (most recent call last)",
      "\u001b[0;32m<ipython-input-52-30d69f594830>\u001b[0m in \u001b[0;36m<module>\u001b[0;34m\u001b[0m\n\u001b[0;32m----> 1\u001b[0;31m \u001b[0msvm\u001b[0m \u001b[0;34m=\u001b[0m \u001b[0msg\u001b[0m\u001b[0;34m.\u001b[0m\u001b[0mLibSVM\u001b[0m\u001b[0;34m(\u001b[0m\u001b[0mC\u001b[0m\u001b[0;34m,\u001b[0m \u001b[0msg\u001b[0m\u001b[0;34m.\u001b[0m\u001b[0mSNPStringKernel\u001b[0m\u001b[0;34m(\u001b[0m\u001b[0mfeatures_train\u001b[0m\u001b[0;34m,\u001b[0m \u001b[0mfeatures_train\u001b[0m\u001b[0;34m,\u001b[0m \u001b[0;36m5\u001b[0m\u001b[0;34m,\u001b[0m \u001b[0;36m10\u001b[0m\u001b[0;34m,\u001b[0m \u001b[0;32mTrue\u001b[0m\u001b[0;34m)\u001b[0m\u001b[0;34m,\u001b[0m \u001b[0mlabels_train\u001b[0m\u001b[0;34m)\u001b[0m\u001b[0;34m\u001b[0m\u001b[0;34m\u001b[0m\u001b[0m\n\u001b[0m\u001b[1;32m      2\u001b[0m \u001b[0msvm\u001b[0m\u001b[0;34m.\u001b[0m\u001b[0mset_epsilon\u001b[0m\u001b[0;34m(\u001b[0m\u001b[0mepsilon\u001b[0m\u001b[0;34m)\u001b[0m\u001b[0;34m\u001b[0m\u001b[0;34m\u001b[0m\u001b[0m\n\u001b[1;32m      3\u001b[0m \u001b[0mstart\u001b[0m \u001b[0;34m=\u001b[0m \u001b[0mtime\u001b[0m\u001b[0;34m.\u001b[0m\u001b[0mtime\u001b[0m\u001b[0;34m(\u001b[0m\u001b[0;34m)\u001b[0m\u001b[0;34m\u001b[0m\u001b[0;34m\u001b[0m\u001b[0m\n\u001b[1;32m      4\u001b[0m \u001b[0msvm\u001b[0m\u001b[0;34m.\u001b[0m\u001b[0mtrain\u001b[0m\u001b[0;34m(\u001b[0m\u001b[0;34m)\u001b[0m\u001b[0;34m\u001b[0m\u001b[0;34m\u001b[0m\u001b[0m\n\u001b[1;32m      5\u001b[0m evaluateAndSave(\"SNPStringKernel\", time.time()-start, \n",
      "\u001b[0;31mSystemError\u001b[0m: \u001b[1;31m[ERROR]\u001b[0m In file /feedstock_root/build_artefacts/shogun-cpp_1512688880429/work/shogun-shogun_6.1.3/src/shogun/kernel/string/SNPStringKernel.cpp line 133: alen (82) !=m_str_len (0)\n"
     ]
    }
   ],
   "source": [
    "svm = sg.LibSVM(C, sg.SNPStringKernel(features_train, features_train, 5, 10, True), labels_train)\n",
    "svm.set_epsilon(epsilon)\n",
    "start = time.time()\n",
    "svm.train()\n",
    "evaluateAndSave(\"SNPStringKernel\", time.time()-start, \n",
    "\t\t\t\tfeatures_test, labels_test, svm.apply_binary(features_test),\n",
    "\t\t\t\ttimeDict, accDict, F1Dict, precisionDict, recallDict)"
   ]
  },
  {
   "cell_type": "code",
   "execution_count": 53,
   "metadata": {},
   "outputs": [
    {
     "ename": "NotImplementedError",
     "evalue": "Wrong number or type of arguments for overloaded function 'new_WeightedCommWordStringKernel'.\n  Possible C/C++ prototypes are:\n    shogun::CWeightedCommWordStringKernel::CWeightedCommWordStringKernel()\n    shogun::CWeightedCommWordStringKernel::CWeightedCommWordStringKernel(int32_t,bool)\n    shogun::CWeightedCommWordStringKernel::CWeightedCommWordStringKernel(shogun::CStringFeatures< uint16_t > *,shogun::CStringFeatures< uint16_t > *,bool,int32_t)\n    shogun::CWeightedCommWordStringKernel::CWeightedCommWordStringKernel(shogun::CStringFeatures< uint16_t > *,shogun::CStringFeatures< uint16_t > *,bool)\n    shogun::CWeightedCommWordStringKernel::CWeightedCommWordStringKernel(shogun::CStringFeatures< uint16_t > *,shogun::CStringFeatures< uint16_t > *)\n",
     "output_type": "error",
     "traceback": [
      "\u001b[0;31m---------------------------------------------------------------------------\u001b[0m",
      "\u001b[0;31mNotImplementedError\u001b[0m                       Traceback (most recent call last)",
      "\u001b[0;32m<ipython-input-53-b43b813bd6e7>\u001b[0m in \u001b[0;36m<module>\u001b[0;34m\u001b[0m\n\u001b[0;32m----> 1\u001b[0;31m \u001b[0msvm\u001b[0m \u001b[0;34m=\u001b[0m \u001b[0msg\u001b[0m\u001b[0;34m.\u001b[0m\u001b[0mLibSVM\u001b[0m\u001b[0;34m(\u001b[0m\u001b[0mC\u001b[0m\u001b[0;34m,\u001b[0m \u001b[0msg\u001b[0m\u001b[0;34m.\u001b[0m\u001b[0mWeightedCommWordStringKernel\u001b[0m\u001b[0;34m(\u001b[0m\u001b[0mfeatures_train\u001b[0m\u001b[0;34m,\u001b[0m \u001b[0mfeatures_train\u001b[0m\u001b[0;34m)\u001b[0m\u001b[0;34m,\u001b[0m \u001b[0mlabels_train\u001b[0m\u001b[0;34m)\u001b[0m\u001b[0;34m\u001b[0m\u001b[0;34m\u001b[0m\u001b[0m\n\u001b[0m\u001b[1;32m      2\u001b[0m \u001b[0msvm\u001b[0m\u001b[0;34m.\u001b[0m\u001b[0mset_epsilon\u001b[0m\u001b[0;34m(\u001b[0m\u001b[0mepsilon\u001b[0m\u001b[0;34m)\u001b[0m\u001b[0;34m\u001b[0m\u001b[0;34m\u001b[0m\u001b[0m\n\u001b[1;32m      3\u001b[0m \u001b[0mstart\u001b[0m \u001b[0;34m=\u001b[0m \u001b[0mtime\u001b[0m\u001b[0;34m.\u001b[0m\u001b[0mtime\u001b[0m\u001b[0;34m(\u001b[0m\u001b[0;34m)\u001b[0m\u001b[0;34m\u001b[0m\u001b[0;34m\u001b[0m\u001b[0m\n\u001b[1;32m      4\u001b[0m \u001b[0msvm\u001b[0m\u001b[0;34m.\u001b[0m\u001b[0mtrain\u001b[0m\u001b[0;34m(\u001b[0m\u001b[0;34m)\u001b[0m\u001b[0;34m\u001b[0m\u001b[0;34m\u001b[0m\u001b[0m\n\u001b[1;32m      5\u001b[0m evaluateAndSave(\"WeightedCommWordStringKernel\", time.time()-start, \n",
      "\u001b[0;31mNotImplementedError\u001b[0m: Wrong number or type of arguments for overloaded function 'new_WeightedCommWordStringKernel'.\n  Possible C/C++ prototypes are:\n    shogun::CWeightedCommWordStringKernel::CWeightedCommWordStringKernel()\n    shogun::CWeightedCommWordStringKernel::CWeightedCommWordStringKernel(int32_t,bool)\n    shogun::CWeightedCommWordStringKernel::CWeightedCommWordStringKernel(shogun::CStringFeatures< uint16_t > *,shogun::CStringFeatures< uint16_t > *,bool,int32_t)\n    shogun::CWeightedCommWordStringKernel::CWeightedCommWordStringKernel(shogun::CStringFeatures< uint16_t > *,shogun::CStringFeatures< uint16_t > *,bool)\n    shogun::CWeightedCommWordStringKernel::CWeightedCommWordStringKernel(shogun::CStringFeatures< uint16_t > *,shogun::CStringFeatures< uint16_t > *)\n"
     ]
    }
   ],
   "source": [
    "svm = sg.LibSVM(C, sg.WeightedCommWordStringKernel(features_train, features_train), labels_train)\n",
    "svm.set_epsilon(epsilon)\n",
    "start = time.time()\n",
    "svm.train()\n",
    "evaluateAndSave(\"WeightedCommWordStringKernel\", time.time()-start, \n",
    "\t\t\t\tfeatures_test, labels_test, svm.apply_binary(features_test),\n",
    "\t\t\t\ttimeDict, accDict, F1Dict, precisionDict, recallDict)"
   ]
  },
  {
   "cell_type": "code",
   "execution_count": 54,
   "metadata": {},
   "outputs": [
    {
     "ename": "SystemError",
     "evalue": "\u001b[1;31m[ERROR]\u001b[0m In file /feedstock_root/build_artefacts/shogun-cpp_1512688880429/work/shogun-shogun_6.1.3/src/shogun/kernel/string/SparseSpatialSampleStringKernel.cpp line 377: t out of range - shouldn't happen\n",
     "output_type": "error",
     "traceback": [
      "\u001b[0;31m---------------------------------------------------------------------------\u001b[0m",
      "\u001b[0;31mSystemError\u001b[0m                               Traceback (most recent call last)",
      "\u001b[0;32m<ipython-input-54-905c9cb962f2>\u001b[0m in \u001b[0;36m<module>\u001b[0;34m\u001b[0m\n\u001b[1;32m      2\u001b[0m \u001b[0msvm\u001b[0m\u001b[0;34m.\u001b[0m\u001b[0mset_epsilon\u001b[0m\u001b[0;34m(\u001b[0m\u001b[0mepsilon\u001b[0m\u001b[0;34m)\u001b[0m\u001b[0;34m\u001b[0m\u001b[0;34m\u001b[0m\u001b[0m\n\u001b[1;32m      3\u001b[0m \u001b[0mstart\u001b[0m \u001b[0;34m=\u001b[0m \u001b[0mtime\u001b[0m\u001b[0;34m.\u001b[0m\u001b[0mtime\u001b[0m\u001b[0;34m(\u001b[0m\u001b[0;34m)\u001b[0m\u001b[0;34m\u001b[0m\u001b[0;34m\u001b[0m\u001b[0m\n\u001b[0;32m----> 4\u001b[0;31m \u001b[0msvm\u001b[0m\u001b[0;34m.\u001b[0m\u001b[0mtrain\u001b[0m\u001b[0;34m(\u001b[0m\u001b[0;34m)\u001b[0m\u001b[0;34m\u001b[0m\u001b[0;34m\u001b[0m\u001b[0m\n\u001b[0m\u001b[1;32m      5\u001b[0m evaluateAndSave(\"SparseSpatialSampleStringKernel\", time.time()-start, \n\u001b[1;32m      6\u001b[0m                                 \u001b[0mfeatures_test\u001b[0m\u001b[0;34m,\u001b[0m \u001b[0mlabels_test\u001b[0m\u001b[0;34m,\u001b[0m \u001b[0msvm\u001b[0m\u001b[0;34m.\u001b[0m\u001b[0mapply_binary\u001b[0m\u001b[0;34m(\u001b[0m\u001b[0mfeatures_test\u001b[0m\u001b[0;34m)\u001b[0m\u001b[0;34m,\u001b[0m\u001b[0;34m\u001b[0m\u001b[0;34m\u001b[0m\u001b[0m\n",
      "\u001b[0;31mSystemError\u001b[0m: \u001b[1;31m[ERROR]\u001b[0m In file /feedstock_root/build_artefacts/shogun-cpp_1512688880429/work/shogun-shogun_6.1.3/src/shogun/kernel/string/SparseSpatialSampleStringKernel.cpp line 377: t out of range - shouldn't happen\n"
     ]
    }
   ],
   "source": [
    "svm = sg.LibSVM(C, sg.SparseSpatialSampleStringKernel(features_train, features_train), labels_train)\n",
    "svm.set_epsilon(epsilon)\n",
    "start = time.time()\n",
    "svm.train()\n",
    "evaluateAndSave(\"SparseSpatialSampleStringKernel\", time.time()-start, \n",
    "\t\t\t\tfeatures_test, labels_test, svm.apply_binary(features_test),\n",
    "\t\t\t\ttimeDict, accDict, F1Dict, precisionDict, recallDict)"
   ]
  },
  {
   "cell_type": "code",
   "execution_count": 55,
   "metadata": {},
   "outputs": [
    {
     "name": "stdout",
     "output_type": "stream",
     "text": [
      "Accuracy: 0.9159779614325069\n",
      "F1: 0.0\n",
      "Precision: nan\n",
      "Recall: 0.0\n"
     ]
    }
   ],
   "source": [
    "svm = sg.LibSVM(C, sg.OligoStringKernel(features_train, features_train, 10, 8), labels_train)\n",
    "svm.set_epsilon(epsilon)\n",
    "start = time.time()\n",
    "svm.train()\n",
    "evaluateAndSave(\"OligoStringKernel\", time.time()-start, \n",
    "\t\t\t\tfeatures_test, labels_test, svm.apply_binary(features_test),\n",
    "\t\t\t\ttimeDict, accDict, F1Dict, precisionDict, recallDict)"
   ]
  },
  {
   "cell_type": "code",
   "execution_count": 57,
   "metadata": {},
   "outputs": [
    {
     "data": {
      "text/plain": [
       "{'WeightedDegreeStringKernel': 0.8113207547169812,\n",
       " 'WeightedDegreePositionStringKernel': 0.7766990291262136,\n",
       " 'PolyMatchStringKernel': 0.0,\n",
       " 'FixedDegreeStringKernel': 0.6530612244897959,\n",
       " 'LinearStringKernel': 0.0392156862745098,\n",
       " 'LocalAlignmentStringKernel': 0.0,\n",
       " 'LocalityImprovedStringKernel': 0.0,\n",
       " 'GaussianMatchStringKernel': 0.0,\n",
       " 'SimpleLocalityImprovedStringKernel': 0.0,\n",
       " 'OligoStringKernel': 0.0}"
      ]
     },
     "execution_count": 57,
     "metadata": {},
     "output_type": "execute_result"
    }
   ],
   "source": [
    "F1Dict"
   ]
  },
  {
   "cell_type": "code",
   "execution_count": null,
   "metadata": {},
   "outputs": [],
   "source": [
    "labels_predict.scores_to_probabilities()\n",
    "labels_values = labels_predict.get_values()"
   ]
  },
  {
   "cell_type": "code",
   "execution_count": 58,
   "metadata": {},
   "outputs": [
    {
     "name": "stdout",
     "output_type": "stream",
     "text": [
      "..... PR Curve ......\n"
     ]
    },
    {
     "ename": "NameError",
     "evalue": "name 'labels_values' is not defined",
     "output_type": "error",
     "traceback": [
      "\u001b[0;31m---------------------------------------------------------------------------\u001b[0m",
      "\u001b[0;31mNameError\u001b[0m                                 Traceback (most recent call last)",
      "\u001b[0;32m<ipython-input-58-21934ed8722b>\u001b[0m in \u001b[0;36m<module>\u001b[0;34m\u001b[0m\n\u001b[1;32m      3\u001b[0m \u001b[0;34m\u001b[0m\u001b[0m\n\u001b[1;32m      4\u001b[0m \u001b[0mprint\u001b[0m\u001b[0;34m(\u001b[0m\u001b[0;34m\"..... PR Curve ......\"\u001b[0m\u001b[0;34m)\u001b[0m\u001b[0;34m\u001b[0m\u001b[0;34m\u001b[0m\u001b[0m\n\u001b[0;32m----> 5\u001b[0;31m \u001b[0mprecision\u001b[0m\u001b[0;34m,\u001b[0m \u001b[0mrecall\u001b[0m\u001b[0;34m,\u001b[0m \u001b[0m_\u001b[0m \u001b[0;34m=\u001b[0m \u001b[0mprecision_recall_curve\u001b[0m\u001b[0;34m(\u001b[0m\u001b[0mtest_label\u001b[0m\u001b[0;34m,\u001b[0m \u001b[0mlabels_values\u001b[0m\u001b[0;34m)\u001b[0m\u001b[0;34m\u001b[0m\u001b[0;34m\u001b[0m\u001b[0m\n\u001b[0m\u001b[1;32m      6\u001b[0m \u001b[0;34m\u001b[0m\u001b[0m\n\u001b[1;32m      7\u001b[0m \u001b[0mplt\u001b[0m\u001b[0;34m.\u001b[0m\u001b[0mstep\u001b[0m\u001b[0;34m(\u001b[0m\u001b[0mrecall\u001b[0m\u001b[0;34m,\u001b[0m \u001b[0mprecision\u001b[0m\u001b[0;34m,\u001b[0m \u001b[0mcolor\u001b[0m\u001b[0;34m=\u001b[0m\u001b[0;34m'b'\u001b[0m\u001b[0;34m,\u001b[0m \u001b[0malpha\u001b[0m\u001b[0;34m=\u001b[0m\u001b[0;36m0.2\u001b[0m\u001b[0;34m,\u001b[0m \u001b[0mwhere\u001b[0m\u001b[0;34m=\u001b[0m\u001b[0;34m'post'\u001b[0m\u001b[0;34m)\u001b[0m\u001b[0;34m\u001b[0m\u001b[0;34m\u001b[0m\u001b[0m\n",
      "\u001b[0;31mNameError\u001b[0m: name 'labels_values' is not defined"
     ]
    }
   ],
   "source": [
    "from sklearn.metrics import precision_recall_curve, average_precision_score\n",
    "import matplotlib.pyplot as plt\n",
    "\n",
    "print(\"..... PR Curve ......\")\n",
    "precision, recall, _ = precision_recall_curve(test_label, labels_values)\n",
    "\n",
    "plt.step(recall, precision, color='b', alpha=0.2, where='post')\n",
    "plt.fill_between(recall, precision, step='post', alpha=0.2, color='b')\n",
    "plt.xlabel('Recall')\n",
    "plt.ylabel('Precision')\n",
    "plt.ylim([0.0, 1.05])\n",
    "plt.xlim([0.0, 1.0])\n",
    "plt.title('2-class Precision-Recall curve')\n",
    "plt.show()"
   ]
  },
  {
   "cell_type": "code",
   "execution_count": 33,
   "metadata": {},
   "outputs": [
    {
     "name": "stdout",
     "output_type": "stream",
     "text": [
      "degrees [1, 2, 3, 4, 5, 6, 7, 8, 9, 10]\n",
      "Cs [1.00000000e-03 5.27263158e-01 1.05352632e+00 1.57978947e+00\n",
      " 2.10605263e+00 2.63231579e+00 3.15857895e+00 3.68484211e+00\n",
      " 4.21110526e+00 4.73736842e+00 5.26363158e+00 5.78989474e+00\n",
      " 6.31615789e+00 6.84242105e+00 7.36868421e+00 7.89494737e+00\n",
      " 8.42121053e+00 8.94747368e+00 9.47373684e+00 1.00000000e+01]\n",
      "degree 1\n",
      "C 0.001\n",
      "C 0.5272631578947369\n",
      "C 1.0535263157894736\n",
      "C 1.5797894736842104\n",
      "C 2.1060526315789474\n",
      "C 2.6323157894736844\n",
      "C 3.158578947368421\n",
      "C 3.684842105263158\n",
      "C 4.211105263157895\n",
      "C 4.737368421052632\n",
      "C 5.263631578947369\n",
      "C 5.789894736842106\n",
      "C 6.316157894736842\n",
      "C 6.84242105263158\n",
      "C 7.368684210526316\n",
      "C 7.894947368421054\n",
      "C 8.42121052631579\n",
      "C 8.947473684210527\n",
      "C 9.473736842105263\n",
      "C 10.0\n",
      "degree 2\n",
      "C 0.001\n",
      "C 0.5272631578947369\n",
      "C 1.0535263157894736\n",
      "C 1.5797894736842104\n",
      "C 2.1060526315789474\n",
      "C 2.6323157894736844\n",
      "C 3.158578947368421\n",
      "C 3.684842105263158\n",
      "C 4.211105263157895\n",
      "C 4.737368421052632\n",
      "C 5.263631578947369\n",
      "C 5.789894736842106\n",
      "C 6.316157894736842\n",
      "C 6.84242105263158\n",
      "C 7.368684210526316\n",
      "C 7.894947368421054\n",
      "C 8.42121052631579\n",
      "C 8.947473684210527\n",
      "C 9.473736842105263\n",
      "C 10.0\n",
      "degree 3\n",
      "C 0.001\n",
      "C 0.5272631578947369\n",
      "C 1.0535263157894736\n",
      "C 1.5797894736842104\n",
      "C 2.1060526315789474\n",
      "C 2.6323157894736844\n",
      "C 3.158578947368421\n",
      "C 3.684842105263158\n",
      "C 4.211105263157895\n",
      "C 4.737368421052632\n",
      "C 5.263631578947369\n",
      "C 5.789894736842106\n",
      "C 6.316157894736842\n",
      "C 6.84242105263158\n",
      "C 7.368684210526316\n",
      "C 7.894947368421054\n",
      "C 8.42121052631579\n",
      "C 8.947473684210527\n",
      "C 9.473736842105263\n",
      "C 10.0\n",
      "degree 4\n",
      "C 0.001\n",
      "C 0.5272631578947369\n",
      "C 1.0535263157894736\n",
      "C 1.5797894736842104\n",
      "C 2.1060526315789474\n",
      "C 2.6323157894736844\n",
      "C 3.158578947368421\n",
      "C 3.684842105263158\n",
      "C 4.211105263157895\n",
      "C 4.737368421052632\n",
      "C 5.263631578947369\n",
      "C 5.789894736842106\n",
      "C 6.316157894736842\n",
      "C 6.84242105263158\n",
      "C 7.368684210526316\n",
      "C 7.894947368421054\n",
      "C 8.42121052631579\n",
      "C 8.947473684210527\n",
      "C 9.473736842105263\n",
      "C 10.0\n",
      "degree 5\n",
      "C 0.001\n",
      "C 0.5272631578947369\n",
      "C 1.0535263157894736\n",
      "C 1.5797894736842104\n",
      "C 2.1060526315789474\n",
      "C 2.6323157894736844\n",
      "C 3.158578947368421\n",
      "C 3.684842105263158\n",
      "C 4.211105263157895\n",
      "C 4.737368421052632\n",
      "C 5.263631578947369\n",
      "C 5.789894736842106\n",
      "C 6.316157894736842\n",
      "C 6.84242105263158\n",
      "C 7.368684210526316\n",
      "C 7.894947368421054\n",
      "C 8.42121052631579\n",
      "C 8.947473684210527\n",
      "C 9.473736842105263\n",
      "C 10.0\n",
      "degree 6\n",
      "C 0.001\n",
      "C 0.5272631578947369\n",
      "C 1.0535263157894736\n",
      "C 1.5797894736842104\n",
      "C 2.1060526315789474\n",
      "C 2.6323157894736844\n",
      "C 3.158578947368421\n",
      "C 3.684842105263158\n",
      "C 4.211105263157895\n",
      "C 4.737368421052632\n",
      "C 5.263631578947369\n",
      "C 5.789894736842106\n",
      "C 6.316157894736842\n",
      "C 6.84242105263158\n",
      "C 7.368684210526316\n",
      "C 7.894947368421054\n",
      "C 8.42121052631579\n",
      "C 8.947473684210527\n",
      "C 9.473736842105263\n",
      "C 10.0\n",
      "degree 7\n",
      "C 0.001\n",
      "C 0.5272631578947369\n",
      "C 1.0535263157894736\n",
      "C 1.5797894736842104\n",
      "C 2.1060526315789474\n",
      "C 2.6323157894736844\n",
      "C 3.158578947368421\n",
      "C 3.684842105263158\n",
      "C 4.211105263157895\n",
      "C 4.737368421052632\n",
      "C 5.263631578947369\n",
      "C 5.789894736842106\n",
      "C 6.316157894736842\n",
      "C 6.84242105263158\n",
      "C 7.368684210526316\n",
      "C 7.894947368421054\n",
      "C 8.42121052631579\n",
      "C 8.947473684210527\n",
      "C 9.473736842105263\n",
      "C 10.0\n",
      "degree 8\n",
      "C 0.001\n",
      "C 0.5272631578947369\n",
      "C 1.0535263157894736\n",
      "C 1.5797894736842104\n",
      "C 2.1060526315789474\n",
      "C 2.6323157894736844\n",
      "C 3.158578947368421\n",
      "C 3.684842105263158\n",
      "C 4.211105263157895\n",
      "C 4.737368421052632\n",
      "C 5.263631578947369\n",
      "C 5.789894736842106\n",
      "C 6.316157894736842\n",
      "C 6.84242105263158\n",
      "C 7.368684210526316\n",
      "C 7.894947368421054\n",
      "C 8.42121052631579\n",
      "C 8.947473684210527\n",
      "C 9.473736842105263\n",
      "C 10.0\n",
      "degree 9\n",
      "C 0.001\n",
      "C 0.5272631578947369\n",
      "C 1.0535263157894736\n",
      "C 1.5797894736842104\n",
      "C 2.1060526315789474\n",
      "C 2.6323157894736844\n",
      "C 3.158578947368421\n",
      "C 3.684842105263158\n",
      "C 4.211105263157895\n",
      "C 4.737368421052632\n",
      "C 5.263631578947369\n",
      "C 5.789894736842106\n",
      "C 6.316157894736842\n",
      "C 6.84242105263158\n",
      "C 7.368684210526316\n",
      "C 7.894947368421054\n",
      "C 8.42121052631579\n",
      "C 8.947473684210527\n",
      "C 9.473736842105263\n",
      "C 10.0\n",
      "degree 10\n",
      "C 0.001\n",
      "C 0.5272631578947369\n",
      "C 1.0535263157894736\n",
      "C 1.5797894736842104\n",
      "C 2.1060526315789474\n",
      "C 2.6323157894736844\n",
      "C 3.158578947368421\n",
      "C 3.684842105263158\n",
      "C 4.211105263157895\n",
      "C 4.737368421052632\n",
      "C 5.263631578947369\n",
      "C 5.789894736842106\n",
      "C 6.316157894736842\n",
      "C 6.84242105263158\n",
      "C 7.368684210526316\n",
      "C 7.894947368421054\n",
      "C 8.42121052631579\n",
      "C 8.947473684210527\n",
      "C 9.473736842105263\n",
      "C 10.0\n"
     ]
    }
   ],
   "source": [
    "# Cs=[x for x in np.linspace(0.001,10,1)]\n",
    "Cs=np.linspace(0.001,10,20)\n",
    "degrees=[1,2,3,4,5,6,7,8,9,10]\n",
    "\n",
    "print(\"degrees\", degrees)\n",
    "print(\"Cs\", Cs)\n",
    "\n",
    "results = np.zeros((len(degrees), len(Cs)))\n",
    "\n",
    "for i in range(len(degrees)):\n",
    "    print(\"degree\", degrees[i])\n",
    "    degree = degrees[i]\n",
    "    \n",
    "    for j in range(len(Cs)):\n",
    "        print(\"C\", Cs[j])\n",
    "        svm = sg.LibSVM(Cs[j], sg.WeightedDegreeStringKernel(features_train, features_train, degree), labels_train)\n",
    "        svm.set_epsilon(epsilon)\n",
    "        start = time.time()\n",
    "        svm.train()\n",
    "        f1 = sg.F1Measure().evaluate(svm.apply_binary(features_test), labels_test)\n",
    "        results[i,j]=f1"
   ]
  },
  {
   "cell_type": "code",
   "execution_count": 35,
   "metadata": {},
   "outputs": [
    {
     "data": {
      "image/png": "[encoded data removed]",
      "text/plain": [
       "<Figure size 432x288 with 2 Axes>"
      ]
     },
     "metadata": {
      "needs_background": "light"
     },
     "output_type": "display_data"
    }
   ],
   "source": [
    "import matplotlib.pyplot as plt\n",
    "plt.pcolor(np.asarray(Cs), np.asarray(degrees), results)\n",
    "plt.xlabel(\"C\")\n",
    "plt.ylabel(\"degree\")\n",
    "_=plt.colorbar()"
   ]
  },
  {
   "cell_type": "code",
   "execution_count": 37,
   "metadata": {},
   "outputs": [
    {
     "name": "stdout",
     "output_type": "stream",
     "text": [
      "degrees [1, 2, 3, 4, 5, 6, 7, 8, 9, 10]\n",
      "Cs [1.00000000e-03 5.27263158e-01 1.05352632e+00 1.57978947e+00\n",
      " 2.10605263e+00 2.63231579e+00 3.15857895e+00 3.68484211e+00\n",
      " 4.21110526e+00 4.73736842e+00 5.26363158e+00 5.78989474e+00\n",
      " 6.31615789e+00 6.84242105e+00 7.36868421e+00 7.89494737e+00\n",
      " 8.42121053e+00 8.94747368e+00 9.47373684e+00 1.00000000e+01]\n",
      "degree 1\n",
      "C 0.001\n",
      "C 0.5272631578947369\n",
      "C 1.0535263157894736\n",
      "C 1.5797894736842104\n",
      "C 2.1060526315789474\n",
      "C 2.6323157894736844\n",
      "C 3.158578947368421\n",
      "C 3.684842105263158\n",
      "C 4.211105263157895\n",
      "C 4.737368421052632\n",
      "C 5.263631578947369\n",
      "C 5.789894736842106\n",
      "C 6.316157894736842\n",
      "C 6.84242105263158\n",
      "C 7.368684210526316\n",
      "C 7.894947368421054\n",
      "C 8.42121052631579\n",
      "C 8.947473684210527\n",
      "C 9.473736842105263\n",
      "C 10.0\n",
      "degree 2\n",
      "C 0.001\n",
      "C 0.5272631578947369\n",
      "C 1.0535263157894736\n",
      "C 1.5797894736842104\n",
      "C 2.1060526315789474\n",
      "C 2.6323157894736844\n",
      "C 3.158578947368421\n",
      "C 3.684842105263158\n",
      "C 4.211105263157895\n",
      "C 4.737368421052632\n",
      "C 5.263631578947369\n",
      "C 5.789894736842106\n",
      "C 6.316157894736842\n",
      "C 6.84242105263158\n",
      "C 7.368684210526316\n",
      "C 7.894947368421054\n",
      "C 8.42121052631579\n",
      "C 8.947473684210527\n",
      "C 9.473736842105263\n",
      "C 10.0\n",
      "degree 3\n",
      "C 0.001\n",
      "C 0.5272631578947369\n",
      "C 1.0535263157894736\n",
      "C 1.5797894736842104\n",
      "C 2.1060526315789474\n",
      "C 2.6323157894736844\n",
      "C 3.158578947368421\n",
      "C 3.684842105263158\n",
      "C 4.211105263157895\n",
      "C 4.737368421052632\n",
      "C 5.263631578947369\n",
      "C 5.789894736842106\n",
      "C 6.316157894736842\n",
      "C 6.84242105263158\n",
      "C 7.368684210526316\n",
      "C 7.894947368421054\n",
      "C 8.42121052631579\n",
      "C 8.947473684210527\n",
      "C 9.473736842105263\n",
      "C 10.0\n",
      "degree 4\n",
      "C 0.001\n",
      "C 0.5272631578947369\n",
      "C 1.0535263157894736\n",
      "C 1.5797894736842104\n",
      "C 2.1060526315789474\n",
      "C 2.6323157894736844\n",
      "C 3.158578947368421\n",
      "C 3.684842105263158\n",
      "C 4.211105263157895\n",
      "C 4.737368421052632\n",
      "C 5.263631578947369\n",
      "C 5.789894736842106\n",
      "C 6.316157894736842\n",
      "C 6.84242105263158\n",
      "C 7.368684210526316\n",
      "C 7.894947368421054\n",
      "C 8.42121052631579\n",
      "C 8.947473684210527\n",
      "C 9.473736842105263\n",
      "C 10.0\n",
      "degree 5\n",
      "C 0.001\n",
      "C 0.5272631578947369\n",
      "C 1.0535263157894736\n",
      "C 1.5797894736842104\n",
      "C 2.1060526315789474\n",
      "C 2.6323157894736844\n",
      "C 3.158578947368421\n",
      "C 3.684842105263158\n",
      "C 4.211105263157895\n",
      "C 4.737368421052632\n",
      "C 5.263631578947369\n",
      "C 5.789894736842106\n",
      "C 6.316157894736842\n",
      "C 6.84242105263158\n",
      "C 7.368684210526316\n",
      "C 7.894947368421054\n",
      "C 8.42121052631579\n",
      "C 8.947473684210527\n",
      "C 9.473736842105263\n",
      "C 10.0\n",
      "degree 6\n",
      "C 0.001\n",
      "C 0.5272631578947369\n",
      "C 1.0535263157894736\n",
      "C 1.5797894736842104\n",
      "C 2.1060526315789474\n",
      "C 2.6323157894736844\n",
      "C 3.158578947368421\n",
      "C 3.684842105263158\n",
      "C 4.211105263157895\n",
      "C 4.737368421052632\n",
      "C 5.263631578947369\n",
      "C 5.789894736842106\n",
      "C 6.316157894736842\n",
      "C 6.84242105263158\n",
      "C 7.368684210526316\n",
      "C 7.894947368421054\n",
      "C 8.42121052631579\n",
      "C 8.947473684210527\n",
      "C 9.473736842105263\n",
      "C 10.0\n",
      "degree 7\n",
      "C 0.001\n",
      "C 0.5272631578947369\n",
      "C 1.0535263157894736\n",
      "C 1.5797894736842104\n",
      "C 2.1060526315789474\n",
      "C 2.6323157894736844\n",
      "C 3.158578947368421\n",
      "C 3.684842105263158\n",
      "C 4.211105263157895\n",
      "C 4.737368421052632\n",
      "C 5.263631578947369\n",
      "C 5.789894736842106\n",
      "C 6.316157894736842\n",
      "C 6.84242105263158\n",
      "C 7.368684210526316\n",
      "C 7.894947368421054\n",
      "C 8.42121052631579\n",
      "C 8.947473684210527\n",
      "C 9.473736842105263\n",
      "C 10.0\n",
      "degree 8\n",
      "C 0.001\n",
      "C 0.5272631578947369\n",
      "C 1.0535263157894736\n",
      "C 1.5797894736842104\n",
      "C 2.1060526315789474\n",
      "C 2.6323157894736844\n",
      "C 3.158578947368421\n",
      "C 3.684842105263158\n",
      "C 4.211105263157895\n",
      "C 4.737368421052632\n",
      "C 5.263631578947369\n",
      "C 5.789894736842106\n",
      "C 6.316157894736842\n",
      "C 6.84242105263158\n",
      "C 7.368684210526316\n",
      "C 7.894947368421054\n",
      "C 8.42121052631579\n",
      "C 8.947473684210527\n",
      "C 9.473736842105263\n",
      "C 10.0\n",
      "degree 9\n",
      "C 0.001\n",
      "C 0.5272631578947369\n",
      "C 1.0535263157894736\n",
      "C 1.5797894736842104\n",
      "C 2.1060526315789474\n",
      "C 2.6323157894736844\n",
      "C 3.158578947368421\n",
      "C 3.684842105263158\n",
      "C 4.211105263157895\n",
      "C 4.737368421052632\n",
      "C 5.263631578947369\n",
      "C 5.789894736842106\n",
      "C 6.316157894736842\n",
      "C 6.84242105263158\n",
      "C 7.368684210526316\n",
      "C 7.894947368421054\n",
      "C 8.42121052631579\n",
      "C 8.947473684210527\n",
      "C 9.473736842105263\n",
      "C 10.0\n",
      "degree 10\n",
      "C 0.001\n",
      "C 0.5272631578947369\n",
      "C 1.0535263157894736\n",
      "C 1.5797894736842104\n",
      "C 2.1060526315789474\n",
      "C 2.6323157894736844\n",
      "C 3.158578947368421\n",
      "C 3.684842105263158\n",
      "C 4.211105263157895\n",
      "C 4.737368421052632\n",
      "C 5.263631578947369\n",
      "C 5.789894736842106\n",
      "C 6.316157894736842\n",
      "C 6.84242105263158\n",
      "C 7.368684210526316\n",
      "C 7.894947368421054\n",
      "C 8.42121052631579\n",
      "C 8.947473684210527\n",
      "C 9.473736842105263\n",
      "C 10.0\n"
     ]
    }
   ],
   "source": [
    "# Cs=[x for x in np.linspace(0.001,10,1)]\n",
    "Cs=np.linspace(0.001,10,20)\n",
    "degrees=[1,2,3,4,5,6,7,8,9,10]\n",
    "\n",
    "print(\"degrees\", degrees)\n",
    "print(\"Cs\", Cs)\n",
    "\n",
    "results = np.zeros((len(degrees), len(Cs)))\n",
    "\n",
    "for i in range(len(degrees)):\n",
    "    print(\"degree\", degrees[i])\n",
    "    degree = degrees[i]\n",
    "    \n",
    "    for j in range(len(Cs)):\n",
    "        print(\"C\", Cs[j])\n",
    "        svm = sg.LibSVM(Cs[j], sg.FixedDegreeStringKernel(features_train, features_train, degree), labels_train)\n",
    "        svm.set_epsilon(epsilon)\n",
    "        start = time.time()\n",
    "        svm.train()\n",
    "        f1 = sg.F1Measure().evaluate(svm.apply_binary(features_test), labels_test)\n",
    "        results[i,j]=f1"
   ]
  },
  {
   "cell_type": "code",
   "execution_count": 38,
   "metadata": {},
   "outputs": [
    {
     "data": {
      "image/png": "[encoded data removed]",
      "text/plain": [
       "<Figure size 432x288 with 2 Axes>"
      ]
     },
     "metadata": {
      "needs_background": "light"
     },
     "output_type": "display_data"
    }
   ],
   "source": [
    "import matplotlib.pyplot as plt\n",
    "plt.pcolor(np.asarray(Cs), np.asarray(degrees), results)\n",
    "plt.xlabel(\"C\")\n",
    "plt.ylabel(\"degree\")\n",
    "_=plt.colorbar()"
   ]
  },
  {
   "cell_type": "code",
   "execution_count": 48,
   "metadata": {},
   "outputs": [
    {
     "name": "stdout",
     "output_type": "stream",
     "text": [
      "degrees [1, 2, 3, 4, 5, 6, 7, 8, 9, 10]\n",
      "Cs [1.00000000e-03 5.27263158e-01 1.05352632e+00 1.57978947e+00\n",
      " 2.10605263e+00 2.63231579e+00 3.15857895e+00 3.68484211e+00\n",
      " 4.21110526e+00 4.73736842e+00 5.26363158e+00 5.78989474e+00\n",
      " 6.31615789e+00 6.84242105e+00 7.36868421e+00 7.89494737e+00\n",
      " 8.42121053e+00 8.94747368e+00 9.47373684e+00 1.00000000e+01]\n",
      "degree 1\n",
      "C 0.001\n",
      "C 0.5272631578947369\n",
      "C 1.0535263157894736\n",
      "C 1.5797894736842104\n",
      "C 2.1060526315789474\n",
      "C 2.6323157894736844\n",
      "C 3.158578947368421\n",
      "C 3.684842105263158\n",
      "C 4.211105263157895\n",
      "C 4.737368421052632\n",
      "C 5.263631578947369\n",
      "C 5.789894736842106\n",
      "C 6.316157894736842\n",
      "C 6.84242105263158\n",
      "C 7.368684210526316\n",
      "C 7.894947368421054\n",
      "C 8.42121052631579\n",
      "C 8.947473684210527\n",
      "C 9.473736842105263\n",
      "C 10.0\n",
      "degree 2\n",
      "C 0.001\n",
      "C 0.5272631578947369\n",
      "C 1.0535263157894736\n",
      "C 1.5797894736842104\n",
      "C 2.1060526315789474\n",
      "C 2.6323157894736844\n",
      "C 3.158578947368421\n",
      "C 3.684842105263158\n",
      "C 4.211105263157895\n",
      "C 4.737368421052632\n",
      "C 5.263631578947369\n",
      "C 5.789894736842106\n",
      "C 6.316157894736842\n",
      "C 6.84242105263158\n",
      "C 7.368684210526316\n",
      "C 7.894947368421054\n",
      "C 8.42121052631579\n",
      "C 8.947473684210527\n",
      "C 9.473736842105263\n",
      "C 10.0\n",
      "degree 3\n",
      "C 0.001\n",
      "C 0.5272631578947369\n",
      "C 1.0535263157894736\n",
      "C 1.5797894736842104\n",
      "C 2.1060526315789474\n",
      "C 2.6323157894736844\n",
      "C 3.158578947368421\n",
      "C 3.684842105263158\n",
      "C 4.211105263157895\n",
      "C 4.737368421052632\n",
      "C 5.263631578947369\n",
      "C 5.789894736842106\n",
      "C 6.316157894736842\n",
      "C 6.84242105263158\n",
      "C 7.368684210526316\n",
      "C 7.894947368421054\n",
      "C 8.42121052631579\n",
      "C 8.947473684210527\n",
      "C 9.473736842105263\n",
      "C 10.0\n",
      "degree 4\n",
      "C 0.001\n",
      "C 0.5272631578947369\n",
      "C 1.0535263157894736\n",
      "C 1.5797894736842104\n",
      "C 2.1060526315789474\n",
      "C 2.6323157894736844\n",
      "C 3.158578947368421\n",
      "C 3.684842105263158\n",
      "C 4.211105263157895\n",
      "C 4.737368421052632\n",
      "C 5.263631578947369\n",
      "C 5.789894736842106\n",
      "C 6.316157894736842\n",
      "C 6.84242105263158\n",
      "C 7.368684210526316\n",
      "C 7.894947368421054\n",
      "C 8.42121052631579\n",
      "C 8.947473684210527\n",
      "C 9.473736842105263\n",
      "C 10.0\n",
      "degree 5\n",
      "C 0.001\n",
      "C 0.5272631578947369\n",
      "C 1.0535263157894736\n",
      "C 1.5797894736842104\n",
      "C 2.1060526315789474\n",
      "C 2.6323157894736844\n",
      "C 3.158578947368421\n",
      "C 3.684842105263158\n",
      "C 4.211105263157895\n",
      "C 4.737368421052632\n",
      "C 5.263631578947369\n",
      "C 5.789894736842106\n",
      "C 6.316157894736842\n",
      "C 6.84242105263158\n",
      "C 7.368684210526316\n",
      "C 7.894947368421054\n",
      "C 8.42121052631579\n",
      "C 8.947473684210527\n",
      "C 9.473736842105263\n",
      "C 10.0\n",
      "degree 6\n",
      "C 0.001\n",
      "C 0.5272631578947369\n",
      "C 1.0535263157894736\n",
      "C 1.5797894736842104\n",
      "C 2.1060526315789474\n",
      "C 2.6323157894736844\n",
      "C 3.158578947368421\n",
      "C 3.684842105263158\n",
      "C 4.211105263157895\n",
      "C 4.737368421052632\n",
      "C 5.263631578947369\n",
      "C 5.789894736842106\n",
      "C 6.316157894736842\n",
      "C 6.84242105263158\n",
      "C 7.368684210526316\n",
      "C 7.894947368421054\n",
      "C 8.42121052631579\n",
      "C 8.947473684210527\n",
      "C 9.473736842105263\n",
      "C 10.0\n",
      "degree 7\n",
      "C 0.001\n",
      "C 0.5272631578947369\n",
      "C 1.0535263157894736\n",
      "C 1.5797894736842104\n",
      "C 2.1060526315789474\n",
      "C 2.6323157894736844\n",
      "C 3.158578947368421\n",
      "C 3.684842105263158\n",
      "C 4.211105263157895\n",
      "C 4.737368421052632\n",
      "C 5.263631578947369\n",
      "C 5.789894736842106\n",
      "C 6.316157894736842\n",
      "C 6.84242105263158\n",
      "C 7.368684210526316\n",
      "C 7.894947368421054\n",
      "C 8.42121052631579\n",
      "C 8.947473684210527\n",
      "C 9.473736842105263\n",
      "C 10.0\n",
      "degree 8\n",
      "C 0.001\n",
      "C 0.5272631578947369\n",
      "C 1.0535263157894736\n",
      "C 1.5797894736842104\n",
      "C 2.1060526315789474\n",
      "C 2.6323157894736844\n",
      "C 3.158578947368421\n",
      "C 3.684842105263158\n",
      "C 4.211105263157895\n",
      "C 4.737368421052632\n",
      "C 5.263631578947369\n",
      "C 5.789894736842106\n",
      "C 6.316157894736842\n",
      "C 6.84242105263158\n",
      "C 7.368684210526316\n",
      "C 7.894947368421054\n",
      "C 8.42121052631579\n",
      "C 8.947473684210527\n",
      "C 9.473736842105263\n",
      "C 10.0\n",
      "degree 9\n",
      "C 0.001\n",
      "C 0.5272631578947369\n",
      "C 1.0535263157894736\n",
      "C 1.5797894736842104\n",
      "C 2.1060526315789474\n",
      "C 2.6323157894736844\n",
      "C 3.158578947368421\n",
      "C 3.684842105263158\n",
      "C 4.211105263157895\n",
      "C 4.737368421052632\n",
      "C 5.263631578947369\n",
      "C 5.789894736842106\n",
      "C 6.316157894736842\n",
      "C 6.84242105263158\n",
      "C 7.368684210526316\n",
      "C 7.894947368421054\n",
      "C 8.42121052631579\n",
      "C 8.947473684210527\n",
      "C 9.473736842105263\n",
      "C 10.0\n",
      "degree 10\n",
      "C 0.001\n",
      "C 0.5272631578947369\n",
      "C 1.0535263157894736\n",
      "C 1.5797894736842104\n",
      "C 2.1060526315789474\n",
      "C 2.6323157894736844\n",
      "C 3.158578947368421\n",
      "C 3.684842105263158\n",
      "C 4.211105263157895\n",
      "C 4.737368421052632\n",
      "C 5.263631578947369\n",
      "C 5.789894736842106\n",
      "C 6.316157894736842\n",
      "C 6.84242105263158\n",
      "C 7.368684210526316\n",
      "C 7.894947368421054\n",
      "C 8.42121052631579\n",
      "C 8.947473684210527\n",
      "C 9.473736842105263\n",
      "C 10.0\n"
     ]
    }
   ],
   "source": [
    "# Cs=[x for x in np.linspace(0.001,10,1)]\n",
    "Cs=np.linspace(0.001,10,20)\n",
    "degrees=[1,2,3,4,5,6,7,8,9,10]\n",
    "\n",
    "print(\"degrees\", degrees)\n",
    "print(\"Cs\", Cs)\n",
    "\n",
    "results = np.zeros((len(degrees), len(Cs)))\n",
    "\n",
    "for i in range(len(degrees)):\n",
    "    print(\"degree\", degrees[i])\n",
    "    degree = degrees[i]\n",
    "    \n",
    "    for j in range(len(Cs)):\n",
    "        print(\"C\", Cs[j])\n",
    "        svm = sg.LibSVM(Cs[j], sg.WeightedDegreePositionStringKernel(features_train, features_train, degree), labels_train)\n",
    "        svm.set_epsilon(epsilon)\n",
    "        start = time.time()\n",
    "        svm.train()\n",
    "        f1 = sg.F1Measure().evaluate(svm.apply_binary(features_test), labels_test)\n",
    "        results[i,j]=f1"
   ]
  },
  {
   "cell_type": "code",
   "execution_count": 49,
   "metadata": {},
   "outputs": [
    {
     "data": {
      "image/png": "[encoded data removed]",
      "text/plain": [
       "<Figure size 432x288 with 2 Axes>"
      ]
     },
     "metadata": {
      "needs_background": "light"
     },
     "output_type": "display_data"
    }
   ],
   "source": [
    "import matplotlib.pyplot as plt\n",
    "plt.pcolor(np.asarray(Cs), np.asarray(degrees), results)\n",
    "plt.xlabel(\"C\")\n",
    "plt.ylabel(\"degree\")\n",
    "_=plt.colorbar()"
   ]
  },
  {
   "cell_type": "code",
   "execution_count": null,
   "metadata": {},
   "outputs": [],
   "source": []
  }
 ],
 "metadata": {
  "kernelspec": {
   "display_name": "ml4hc_proj4",
   "language": "python",
   "name": "ml4hc_proj4"
  },
  "language_info": {
   "codemirror_mode": {
    "name": "ipython",
    "version": 3
   },
   "file_extension": ".py",
   "mimetype": "text/x-python",
   "name": "python",
   "nbconvert_exporter": "python",
   "pygments_lexer": "ipython3",
   "version": "3.6.10"
  }
 },
 "nbformat": 4,
 "nbformat_minor": 2
}
